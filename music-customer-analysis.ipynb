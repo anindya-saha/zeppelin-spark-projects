{
 "cells": [
  {
   "cell_type": "markdown",
   "metadata": {},
   "source": [
    "# Analyzing Customer-Music Data using Apache Spark\n",
    "\n",
    "The original Tableau based tutorial is at https://mapr.com/blog/real-time-user-profiles-spark-drill-and-mapr-db/. I have coverted them to Python and also configured to run the codes on Jupter Notebooks with Pyspark 2.2 and used the Jupyter Notebook to render visualization and added more stuffs.\n",
    "\n",
    "Users are continuously connecting to the service and listening to tracks that they like -- this generates our main data set. The behaviors captured in these events, over time, represent the highest level of detail about actual behaviors of customers as they consume the service by listening to music. In addition to the events of listening to individual tracks, we have a few other data sets representing all the information we might normally have in such a service. In this post we will make use of the following two data sets, and in my next post we will bring in an additional data set relating to click events."
   ]
  },
  {
   "cell_type": "markdown",
   "metadata": {},
   "source": [
    "**How to Configure Jupter Notebook to run Spark 2.2:**\n",
    "```\n",
    "1. Create an Anaconda environment 'pyspark'\n",
    "2. !pip install pyspark (this package will directly communicate with Spark)\n",
    "3. Install Spark in your machine (from here: https://spark.apache.org/downloads.html). I installed spark-2.2.0-bin-hadoop2.6.tgz\n",
    "4. In your .bash_profile set the following\n",
    "    export SPARK_HOME=/Users/anindyas/work/spark-2.2.0-bin-hadoop2.6\n",
    "    PATH=$SPARK_HOME/bin:$PATH\n",
    "    export PATH\n",
    "\n",
    "    export PATH=\"/Users/anindyas/anaconda/envs/pyspark/bin:$PATH\"\n",
    "    \n",
    "    There is further better way to set the environment variables for anaconda but for now it is fine.\n",
    "5. Switch to pyspark anaconda environment and start the jupyter notebook from that environment.\n",
    "```"
   ]
  },
  {
   "cell_type": "markdown",
   "metadata": {},
   "source": [
    "## 1. Understanding the Data Set\n",
    "\n",
    "**Individual customers listening to individual tracks: (tracks.csv)** - a collection of events, one per line, where each event is a client listening to a track.\n",
    "\n",
    "This data is approximately 1M lines and contains simulated listener events over several months.\n",
    "\n",
    "<table>\n",
    "  <tr>\n",
    "    <th><strong>Field Name</strong></th>\n",
    "    <th>Event ID</th>\n",
    "    <th>Customer ID</th>\n",
    "    <th>Track ID</th>\n",
    "    <th>Datetime</th>\n",
    "    <th>Mobile</th>\n",
    "    <th>Listening Zip</th>\n",
    "  </tr>\n",
    "  <tr>\n",
    "    <td><strong>Type</strong></td>\n",
    "    <td>Integer</td>\n",
    "    <td>Integer</td>\n",
    "    <td>Integer</td>\n",
    "    <td>String</td>\n",
    "    <td>Integer</td>\n",
    "    <td>Integer</td>\n",
    "  </tr>\n",
    "  <tr>\n",
    "    <td><strong>Example Value</strong></td>\n",
    "    <td>9999767</td>\n",
    "    <td>2597</td>\n",
    "    <td>788</td>\n",
    "    <td>2014-12-01 09:54:09</td>\n",
    "    <td>0</td>\n",
    "    <td>11003</td>\n",
    "  </tr>\n",
    "</table>\n",
    "\n",
    "The event, customer and track IDs tell us what occurred (a customer listened to a certain track), while the other fields tell us some associated information, like whether the customer was listening on a mobile device and a guess about their location while they were listening. With many customers listening to many tracks, this data can get very large and will be the input into our Spark job.\n",
    "\n",
    "**Customer information:** - information about individual customers.\n",
    "\n",
    "<table>\n",
    "  <tr>\n",
    "    <th><strong>Field Name</strong></th>\n",
    "    <th>Customer ID</strong></th>\n",
    "    <th>Name</th>\n",
    "    <th>Gender</th>\n",
    "    <th>Address</th>\n",
    "    <th>ZIP</th>\n",
    "    <th>Sign Date</th>    \n",
    "    <th>Status</th>\n",
    "    <th>Level</th>\n",
    "    <th>Campaign</th>\n",
    "    <th>Linked with Apps?</th>\n",
    "  </tr>\n",
    "  <tr>\n",
    "    <td><strong>Type</strong></td>\n",
    "    <td>Integer</td>\n",
    "    <td>String</td>\n",
    "    <td>Integer</td>\n",
    "    <td>String</td>\n",
    "    <td>Integer</td>\n",
    "    <td>String</td>\n",
    "    <td>Integer</td>\n",
    "    <td>Integer</td>\n",
    "    <td>Integer</td>\n",
    "    <td>Integer</td>    \n",
    "  </tr>\n",
    "  <tr>\n",
    "    <td><strong>Example Value</strong></td>\n",
    "    <td>10</td>\n",
    "    <td>Joshua Threadgill</td>\n",
    "    <td>0</td>\n",
    "    <td>10084 Easy Gate Bend</td>\n",
    "    <td>66216</td>\n",
    "    <td>01/13/2013</td>\n",
    "    <td>0</td>\n",
    "    <td>1</td>\n",
    "    <td>1</td>\n",
    "    <td>1</td>\n",
    "  </tr>\n",
    "</table>\n",
    "\n",
    "\n",
    "The fields are defined as follows:\n",
    "```\n",
    "Customer ID: a unique identifier for that customer\n",
    "Name, gender, address, zip: the customer’s associated information\n",
    "Sign date: the date of addition to the service\n",
    "Status: indicates whether or not the account is active (0 = closed, 1 = active)\n",
    "Level: indicates what level of service -- 0, 1, 2 for Free, Silver and Gold, respectively\n",
    "Campaign: indicates the campaign under which the user joined, defined as the following (fictional) campaigns driven by our (also fictional) marketing team:\n",
    "NONE - no campaign\n",
    "30DAYFREE - a ‘30 days free’ trial offer\n",
    "SUPERBOWL - a Superbowl-related program\n",
    "RETAILSTORE - an offer originating in brick-and-mortar retail stores\n",
    "WEBOFFER - an offer for web-originated customers\n",
    "```"
   ]
  },
  {
   "cell_type": "code",
   "execution_count": 1,
   "metadata": {
    "collapsed": true
   },
   "outputs": [],
   "source": [
    "import os\n",
    "import pandas as pd\n",
    "import numpy as np\n",
    "\n",
    "from pyspark import SparkConf, SparkContext\n",
    "from pyspark.sql import SparkSession, SQLContext\n",
    "\n",
    "from pyspark.sql.types import *\n",
    "import pyspark.sql.functions as F\n",
    "from pyspark.sql.functions import udf, col"
   ]
  },
  {
   "cell_type": "code",
   "execution_count": 2,
   "metadata": {
    "collapsed": true
   },
   "outputs": [],
   "source": [
    "import seaborn as sns\n",
    "import matplotlib.pyplot as plt\n",
    "\n",
    "plt.style.use('seaborn-whitegrid')"
   ]
  },
  {
   "cell_type": "code",
   "execution_count": 3,
   "metadata": {
    "collapsed": true
   },
   "outputs": [],
   "source": [
    "%matplotlib inline\n",
    "%config InlineBackend.figure_format = 'retina'"
   ]
  },
  {
   "cell_type": "code",
   "execution_count": 4,
   "metadata": {
    "collapsed": true
   },
   "outputs": [],
   "source": [
    "from pylab import rcParams\n",
    "rcParams['figure.figsize'] = 6, 4"
   ]
  },
  {
   "cell_type": "code",
   "execution_count": 5,
   "metadata": {
    "collapsed": true
   },
   "outputs": [],
   "source": [
    "# setting random seed for notebook replicability\n",
    "rnd_seed=42\n",
    "np.random.seed=42"
   ]
  },
  {
   "cell_type": "markdown",
   "metadata": {},
   "source": [
    "## 2. Creating the Spark Session"
   ]
  },
  {
   "cell_type": "code",
   "execution_count": 6,
   "metadata": {},
   "outputs": [
    {
     "data": {
      "text/plain": [
       "'/Users/anindyas/work/spark-2.2.0-bin-hadoop2.6'"
      ]
     },
     "execution_count": 6,
     "metadata": {},
     "output_type": "execute_result"
    }
   ],
   "source": [
    "os.environ['SPARK_HOME']"
   ]
  },
  {
   "cell_type": "code",
   "execution_count": 7,
   "metadata": {
    "collapsed": true
   },
   "outputs": [],
   "source": [
    "spark = SparkSession.builder.master(\"local[2]\").appName(\"Predicting-Flight-Delay-Decision-Tree\").getOrCreate()"
   ]
  },
  {
   "cell_type": "code",
   "execution_count": 8,
   "metadata": {},
   "outputs": [
    {
     "data": {
      "text/html": [
       "\n",
       "            <div>\n",
       "                <p><b>SparkSession - in-memory</b></p>\n",
       "                \n",
       "        <div>\n",
       "            <p><b>SparkContext</b></p>\n",
       "\n",
       "            <p><a href=\"http://10.55.42.56:4040\">Spark UI</a></p>\n",
       "\n",
       "            <dl>\n",
       "              <dt>Version</dt>\n",
       "                <dd><code>v2.2.0</code></dd>\n",
       "              <dt>Master</dt>\n",
       "                <dd><code>local[2]</code></dd>\n",
       "              <dt>AppName</dt>\n",
       "                <dd><code>Predicting-Flight-Delay-Decision-Tree</code></dd>\n",
       "            </dl>\n",
       "        </div>\n",
       "        \n",
       "            </div>\n",
       "        "
      ],
      "text/plain": [
       "<pyspark.sql.session.SparkSession at 0x11a857198>"
      ]
     },
     "execution_count": 8,
     "metadata": {},
     "output_type": "execute_result"
    }
   ],
   "source": [
    "spark"
   ]
  },
  {
   "cell_type": "code",
   "execution_count": 9,
   "metadata": {},
   "outputs": [
    {
     "data": {
      "text/html": [
       "\n",
       "        <div>\n",
       "            <p><b>SparkContext</b></p>\n",
       "\n",
       "            <p><a href=\"http://10.55.42.56:4040\">Spark UI</a></p>\n",
       "\n",
       "            <dl>\n",
       "              <dt>Version</dt>\n",
       "                <dd><code>v2.2.0</code></dd>\n",
       "              <dt>Master</dt>\n",
       "                <dd><code>local[2]</code></dd>\n",
       "              <dt>AppName</dt>\n",
       "                <dd><code>Predicting-Flight-Delay-Decision-Tree</code></dd>\n",
       "            </dl>\n",
       "        </div>\n",
       "        "
      ],
      "text/plain": [
       "<SparkContext master=local[2] appName=Predicting-Flight-Delay-Decision-Tree>"
      ]
     },
     "execution_count": 9,
     "metadata": {},
     "output_type": "execute_result"
    }
   ],
   "source": [
    "sc = spark.sparkContext\n",
    "sc"
   ]
  },
  {
   "cell_type": "code",
   "execution_count": 10,
   "metadata": {},
   "outputs": [
    {
     "data": {
      "text/plain": [
       "<pyspark.sql.context.SQLContext at 0x11a83a710>"
      ]
     },
     "execution_count": 10,
     "metadata": {},
     "output_type": "execute_result"
    }
   ],
   "source": [
    "sqlContext = SQLContext(spark.sparkContext)\n",
    "sqlContext"
   ]
  },
  {
   "cell_type": "markdown",
   "metadata": {},
   "source": [
    "## 3. Load the data from files into DataFrames"
   ]
  },
  {
   "cell_type": "code",
   "execution_count": 11,
   "metadata": {
    "collapsed": true
   },
   "outputs": [],
   "source": [
    "MUSIC_TRACKS_DATA = 'data/tracks.csv'\n",
    "CUSTOMER_DATA = 'data/cust.csv'"
   ]
  },
  {
   "cell_type": "code",
   "execution_count": 12,
   "metadata": {
    "collapsed": true
   },
   "outputs": [],
   "source": [
    "# define the schema, corresponding to a line in the csv data file for music\n",
    "music_schema = StructType([\n",
    "    StructField('event_id', IntegerType(), nullable=True),\n",
    "    StructField('customer_id', IntegerType(), nullable=True),\n",
    "    StructField('track_id', StringType(), nullable=True),\n",
    "    StructField('datetime', StringType(), nullable=True),\n",
    "    StructField('is_mobile', IntegerType(), nullable=True),\n",
    "    StructField('zip', IntegerType(), nullable=True)]\n",
    "  )"
   ]
  },
  {
   "cell_type": "code",
   "execution_count": 13,
   "metadata": {
    "collapsed": true
   },
   "outputs": [],
   "source": [
    "# define the schema, corresponding to a line in the csv data file for customer\n",
    "cust_schema = StructType([\n",
    "    StructField('customer_id', IntegerType(), nullable=True),\n",
    "    StructField('name', StringType(), nullable=True),\n",
    "    StructField('gender', IntegerType(), nullable=True),\n",
    "    StructField('address', StringType(), nullable=True),\n",
    "    StructField('zip', IntegerType(), nullable=True),\n",
    "    StructField('sign_date', StringType(), nullable=True),\n",
    "    StructField('status', IntegerType(), nullable=True),\n",
    "    StructField('level', IntegerType(), nullable=True),\n",
    "    StructField('campaign', IntegerType(), nullable=True),\n",
    "    StructField('lnkd_with_apps', IntegerType(), nullable=True)]\n",
    "  )"
   ]
  },
  {
   "cell_type": "code",
   "execution_count": 14,
   "metadata": {
    "collapsed": true
   },
   "outputs": [],
   "source": [
    "# Load data\n",
    "music_df = spark.read.csv(path=MUSIC_TRACKS_DATA, schema=music_schema).cache()\n",
    "cust_df = spark.read.csv(path=CUSTOMER_DATA, schema=cust_schema, header=True).cache()"
   ]
  },
  {
   "cell_type": "code",
   "execution_count": 15,
   "metadata": {},
   "outputs": [
    {
     "data": {
      "text/plain": [
       "1000000"
      ]
     },
     "execution_count": 15,
     "metadata": {},
     "output_type": "execute_result"
    }
   ],
   "source": [
    "# How many music data rows\n",
    "music_df.count()"
   ]
  },
  {
   "cell_type": "code",
   "execution_count": 16,
   "metadata": {},
   "outputs": [
    {
     "name": "stdout",
     "output_type": "stream",
     "text": [
      "+--------+-----------+--------+-------------------+---------+-----+\n",
      "|event_id|customer_id|track_id|           datetime|is_mobile|  zip|\n",
      "+--------+-----------+--------+-------------------+---------+-----+\n",
      "|       0|         48|     453|2014-10-23 03:26:20|        0|72132|\n",
      "|       1|       1081|      19|2014-10-15 18:32:14|        1|17307|\n",
      "|       2|        532|      36|2014-12-10 15:33:16|        1|66216|\n",
      "|       3|       2641|     822|2014-10-20 02:24:55|        1|36690|\n",
      "|       4|       2251|     338|2014-11-18 07:16:05|        1|61377|\n",
      "+--------+-----------+--------+-------------------+---------+-----+\n",
      "only showing top 5 rows\n",
      "\n"
     ]
    }
   ],
   "source": [
    "music_df.show(5)"
   ]
  },
  {
   "cell_type": "code",
   "execution_count": 17,
   "metadata": {},
   "outputs": [
    {
     "data": {
      "text/plain": [
       "5000"
      ]
     },
     "execution_count": 17,
     "metadata": {},
     "output_type": "execute_result"
    }
   ],
   "source": [
    "# How many customer data rows\n",
    "cust_df.count()"
   ]
  },
  {
   "cell_type": "code",
   "execution_count": 18,
   "metadata": {},
   "outputs": [
    {
     "name": "stdout",
     "output_type": "stream",
     "text": [
      "+-----------+-------------+------+--------------------+-----+----------+------+-----+--------+--------------+\n",
      "|customer_id|         name|gender|             address|  zip| sign_date|status|level|campaign|lnkd_with_apps|\n",
      "+-----------+-------------+------+--------------------+-----+----------+------+-----+--------+--------------+\n",
      "|          0|Gregory Koval|     0|13004 Easy Cider ...|72132|06/04/2013|     1|    1|       1|             0|\n",
      "|          1|Robert Gordon|     0|10497 Thunder Hic...|17307|07/27/2013|     1|    1|       1|             0|\n",
      "|          2|Paula Peltier|     0|10084 Easy Gate Bend|66216|01/13/2013|     1|    0|       4|             1|\n",
      "|          3|Francine Gray|     0|54845 Bent Pony H...|36690|07/11/2013|     1|    1|       1|             1|\n",
      "|          4| David Garcia|     0|8551 Tawny Fox Villa|61377|09/09/2012|     1|    0|       1|             1|\n",
      "+-----------+-------------+------+--------------------+-----+----------+------+-----+--------+--------------+\n",
      "only showing top 5 rows\n",
      "\n"
     ]
    }
   ],
   "source": [
    "cust_df.show(5)"
   ]
  },
  {
   "cell_type": "markdown",
   "metadata": {},
   "source": [
    "## 4. Data Exploration"
   ]
  },
  {
   "cell_type": "markdown",
   "metadata": {},
   "source": [
    "### 4.1 Add a new Column Hour to the Music data"
   ]
  },
  {
   "cell_type": "code",
   "execution_count": 19,
   "metadata": {
    "collapsed": true
   },
   "outputs": [],
   "source": [
    "music_df = music_df.withColumn('hour', F.hour('datetime')).cache()"
   ]
  },
  {
   "cell_type": "code",
   "execution_count": 20,
   "metadata": {},
   "outputs": [
    {
     "name": "stdout",
     "output_type": "stream",
     "text": [
      "+--------+-----------+--------+-------------------+---------+-----+----+\n",
      "|event_id|customer_id|track_id|           datetime|is_mobile|  zip|hour|\n",
      "+--------+-----------+--------+-------------------+---------+-----+----+\n",
      "|       0|         48|     453|2014-10-23 03:26:20|        0|72132|   3|\n",
      "|       1|       1081|      19|2014-10-15 18:32:14|        1|17307|  18|\n",
      "|       2|        532|      36|2014-12-10 15:33:16|        1|66216|  15|\n",
      "|       3|       2641|     822|2014-10-20 02:24:55|        1|36690|   2|\n",
      "|       4|       2251|     338|2014-11-18 07:16:05|        1|61377|   7|\n",
      "+--------+-----------+--------+-------------------+---------+-----+----+\n",
      "only showing top 5 rows\n",
      "\n"
     ]
    }
   ],
   "source": [
    "music_df.show(5)"
   ]
  },
  {
   "cell_type": "markdown",
   "metadata": {},
   "source": [
    "**Divide the entire day into four time zones based on the hour:**"
   ]
  },
  {
   "cell_type": "code",
   "execution_count": 21,
   "metadata": {
    "collapsed": true
   },
   "outputs": [],
   "source": [
    "music_df = (music_df\n",
    "    .withColumn('night', F.when((col('hour') < 5) | (col('hour') == 23), 1).otherwise(0))\n",
    "    .withColumn('morn', F.when((col('hour') >= 5) & (col('hour') < 12), 1).otherwise(0))\n",
    "    .withColumn('aft', F.when((col('hour') >= 12) & (col('hour') < 17), 1).otherwise(0))\n",
    "    .withColumn('eve', F.when((col('hour') >= 17) & (col('hour') < 22), 1).otherwise(0)))"
   ]
  },
  {
   "cell_type": "code",
   "execution_count": 22,
   "metadata": {},
   "outputs": [
    {
     "name": "stdout",
     "output_type": "stream",
     "text": [
      "+--------+-----------+--------+-------------------+---------+-----+----+-----+----+---+---+\n",
      "|event_id|customer_id|track_id|           datetime|is_mobile|  zip|hour|night|morn|aft|eve|\n",
      "+--------+-----------+--------+-------------------+---------+-----+----+-----+----+---+---+\n",
      "|       0|         48|     453|2014-10-23 03:26:20|        0|72132|   3|    1|   0|  0|  0|\n",
      "|       1|       1081|      19|2014-10-15 18:32:14|        1|17307|  18|    0|   0|  0|  1|\n",
      "|       2|        532|      36|2014-12-10 15:33:16|        1|66216|  15|    0|   0|  1|  0|\n",
      "|       3|       2641|     822|2014-10-20 02:24:55|        1|36690|   2|    1|   0|  0|  0|\n",
      "|       4|       2251|     338|2014-11-18 07:16:05|        1|61377|   7|    0|   1|  0|  0|\n",
      "+--------+-----------+--------+-------------------+---------+-----+----+-----+----+---+---+\n",
      "only showing top 5 rows\n",
      "\n"
     ]
    }
   ],
   "source": [
    "music_df.show(5)"
   ]
  },
  {
   "cell_type": "markdown",
   "metadata": {},
   "source": [
    "### 4.2 Compute Summary profile of each customer\n",
    "\n",
    "Now we’re ready to compute a summary profile for each user. By passing a function we’ll write to mapValues, we compute some high-level data:\n",
    "\n",
    "+ Average number of tracks listened during each period of the day: morning, afternoon, evening, and night. We arbitrarily define the time ranges in the code.\n",
    "+ Total unique tracks listened by that user, i.e. the set of unique track IDs.\n",
    "+ Total mobile tracks listened by that user, i.e. the count of tracks that were listened that had their mobile flag set."
   ]
  },
  {
   "cell_type": "code",
   "execution_count": 23,
   "metadata": {
    "collapsed": true
   },
   "outputs": [],
   "source": [
    "cust_profile_df = (music_df.select(['customer_id', 'track_id', 'night', 'morn', 'aft', 'eve', 'is_mobile'])\n",
    "     .groupBy('customer_id')\n",
    "     .agg(F.countDistinct('track_id'), F.sum('night'), F.sum('morn'), F.sum('aft'), F.sum('eve'), F.sum('is_mobile'))).cache()"
   ]
  },
  {
   "cell_type": "code",
   "execution_count": 24,
   "metadata": {},
   "outputs": [
    {
     "name": "stdout",
     "output_type": "stream",
     "text": [
      "+-----------+------------------------+----------+---------+--------+--------+--------------+\n",
      "|customer_id|count(DISTINCT track_id)|sum(night)|sum(morn)|sum(aft)|sum(eve)|sum(is_mobile)|\n",
      "+-----------+------------------------+----------+---------+--------+--------+--------------+\n",
      "|        148|                     443|       134|      170|     109|     124|           476|\n",
      "|        463|                     306|        94|       99|      84|      76|           176|\n",
      "|       1591|                     171|        40|       64|      36|      40|            85|\n",
      "|       2366|                     143|        48|       46|      30|      25|           113|\n",
      "|       4101|                     100|        25|       28|      26|      22|            85|\n",
      "|       1342|                     173|        46|       60|      36|      42|           102|\n",
      "|       2659|                     119|        36|       43|      22|      22|            59|\n",
      "|       1238|                     191|        54|       64|      30|      46|           158|\n",
      "|       4519|                     103|        34|       30|      20|      20|            54|\n",
      "|       1580|                     162|        37|       52|      43|      41|           134|\n",
      "+-----------+------------------------+----------+---------+--------+--------+--------------+\n",
      "only showing top 10 rows\n",
      "\n"
     ]
    }
   ],
   "source": [
    "cust_profile_df.show(10)"
   ]
  },
  {
   "cell_type": "markdown",
   "metadata": {},
   "source": [
    "**Summary Statistics:**\n",
    "\n",
    "Since we have the summary data readily available we compute some basic statistics on it."
   ]
  },
  {
   "cell_type": "code",
   "execution_count": 25,
   "metadata": {},
   "outputs": [
    {
     "name": "stdout",
     "output_type": "stream",
     "text": [
      "+-------+------------------------+-----------------+----------------+-----------------+-----------------+------------------+\n",
      "|summary|count(DISTINCT track_id)|       sum(night)|       sum(morn)|         sum(aft)|         sum(eve)|    sum(is_mobile)|\n",
      "+-------+------------------------+-----------------+----------------+-----------------+-----------------+------------------+\n",
      "|  count|                    5000|             5000|            5000|             5000|             5000|              5000|\n",
      "|   mean|                 170.295|          50.0036|         58.2908|          41.6434|          41.7626|           121.553|\n",
      "| stddev|      117.04437556828793|57.94717906984283|67.3964412370437|47.87538247251274|48.01370329792189|148.79537090743347|\n",
      "|    min|                      68|               12|              16|                9|                9|                32|\n",
      "|    max|                    1617|             1843|            2007|             1460|             1480|              5093|\n",
      "+-------+------------------------+-----------------+----------------+-----------------+-----------------+------------------+\n",
      "\n"
     ]
    }
   ],
   "source": [
    "cust_profile_df.select([c for c in cust_profile_df.columns if c not in ['customer_id']]).describe().show()"
   ]
  },
  {
   "cell_type": "markdown",
   "metadata": {},
   "source": [
    "Interpreting the summary statistics:\n",
    "> People Listen to highest number of songs in the Night!"
   ]
  },
  {
   "cell_type": "markdown",
   "metadata": {},
   "source": [
    "### 4.3 Average number of tracks listened by Customers of Different Levels during Different Time of the Day:"
   ]
  },
  {
   "cell_type": "code",
   "execution_count": 26,
   "metadata": {},
   "outputs": [
    {
     "name": "stdout",
     "output_type": "stream",
     "text": [
      "+-----------+-------------+------+--------------------+-----+----------+------+-----+--------+--------------+\n",
      "|customer_id|         name|gender|             address|  zip| sign_date|status|level|campaign|lnkd_with_apps|\n",
      "+-----------+-------------+------+--------------------+-----+----------+------+-----+--------+--------------+\n",
      "|          0|Gregory Koval|     0|13004 Easy Cider ...|72132|06/04/2013|     1|    1|       1|             0|\n",
      "|          1|Robert Gordon|     0|10497 Thunder Hic...|17307|07/27/2013|     1|    1|       1|             0|\n",
      "|          2|Paula Peltier|     0|10084 Easy Gate Bend|66216|01/13/2013|     1|    0|       4|             1|\n",
      "|          3|Francine Gray|     0|54845 Bent Pony H...|36690|07/11/2013|     1|    1|       1|             1|\n",
      "|          4| David Garcia|     0|8551 Tawny Fox Villa|61377|09/09/2012|     1|    0|       1|             1|\n",
      "+-----------+-------------+------+--------------------+-----+----------+------+-----+--------+--------------+\n",
      "only showing top 5 rows\n",
      "\n"
     ]
    }
   ],
   "source": [
    "cust_df.show(5)"
   ]
  },
  {
   "cell_type": "code",
   "execution_count": 27,
   "metadata": {
    "collapsed": true
   },
   "outputs": [],
   "source": [
    "# Map from level number to actual level string\n",
    "level_map = {0:\"Free\", 1:\"Silver\", 2:\"Gold\"}\n",
    "\n",
    "# Define a udf\n",
    "udfIndexTolevel = udf(lambda x: level_map[x], StringType())"
   ]
  },
  {
   "cell_type": "code",
   "execution_count": 28,
   "metadata": {
    "collapsed": true
   },
   "outputs": [],
   "source": [
    "result_df = (cust_df.join(cust_profile_df, on='customer_id', how='inner')\n",
    "                     .select([udfIndexTolevel('level').alias('level'), 'sum(night)', 'sum(morn)', 'sum(aft)', 'sum(eve)'])\n",
    "                     .groupBy('level')\n",
    "                     .agg(F.avg('sum(aft)').alias('Afternoon'), \n",
    "                          F.avg('sum(eve)').alias('Evening'), \n",
    "                          F.avg('sum(morn)').alias('Morning'), \n",
    "                          F.avg('sum(night)').alias(\"Night\")))"
   ]
  },
  {
   "cell_type": "code",
   "execution_count": 29,
   "metadata": {},
   "outputs": [
    {
     "name": "stdout",
     "output_type": "stream",
     "text": [
      "+------+------------------+------------------+-----------------+------------------+\n",
      "| level|         Afternoon|           Evening|          Morning|             Night|\n",
      "+------+------------------+------------------+-----------------+------------------+\n",
      "|Silver| 42.12979890310786|42.409506398537474|59.01401584399756|50.759293113954904|\n",
      "|  Gold|39.868173258003765| 40.22975517890772|56.35969868173258| 47.69303201506591|\n",
      "|  Free|  41.6944837340877|41.675035360678926|58.23373408769449| 49.99893917963225|\n",
      "+------+------------------+------------------+-----------------+------------------+\n",
      "\n"
     ]
    }
   ],
   "source": [
    "result_df.cache().show()"
   ]
  },
  {
   "cell_type": "code",
   "execution_count": 30,
   "metadata": {},
   "outputs": [
    {
     "data": {
      "image/png": "[encoded data removed]",
      "text/plain": [
       "<matplotlib.figure.Figure at 0x11003b0b8>"
      ]
     },
     "metadata": {
      "image/png": {
       "height": 273,
       "width": 698
      }
     },
     "output_type": "display_data"
    }
   ],
   "source": [
    "result_df.toPandas().plot.bar(x='level', figsize=(12, 4));"
   ]
  },
  {
   "cell_type": "code",
   "execution_count": 31,
   "metadata": {},
   "outputs": [
    {
     "data": {
      "text/plain": [
       "DataFrame[level: string, Afternoon: double, Evening: double, Morning: double, Night: double]"
      ]
     },
     "execution_count": 31,
     "metadata": {},
     "output_type": "execute_result"
    }
   ],
   "source": [
    "result_df.unpersist()"
   ]
  },
  {
   "cell_type": "markdown",
   "metadata": {},
   "source": [
    "### 4.4 Distribution of Customers By Level:"
   ]
  },
  {
   "cell_type": "code",
   "execution_count": 32,
   "metadata": {
    "collapsed": true
   },
   "outputs": [],
   "source": [
    "result_df = (cust_df.select(['level', (F.when(col('gender') == 0, \"Male\").otherwise(\"Female\")).alias('gender')])\n",
    "                 .groupBy('level')\n",
    "                 .pivot('gender')\n",
    "                 .count()\n",
    "                 .orderBy('level', ascending=False))"
   ]
  },
  {
   "cell_type": "code",
   "execution_count": 33,
   "metadata": {},
   "outputs": [
    {
     "name": "stdout",
     "output_type": "stream",
     "text": [
      "+-----+------+----+\n",
      "|level|Female|Male|\n",
      "+-----+------+----+\n",
      "|    2|   201| 330|\n",
      "|    1|   670| 971|\n",
      "|    0|  1145|1683|\n",
      "+-----+------+----+\n",
      "\n"
     ]
    }
   ],
   "source": [
    "result_df.cache().show()"
   ]
  },
  {
   "cell_type": "code",
   "execution_count": 34,
   "metadata": {},
   "outputs": [
    {
     "data": {
      "image/png": "[encoded data removed]",
      "text/plain": [
       "<matplotlib.figure.Figure at 0x11a857e48>"
      ]
     },
     "metadata": {
      "image/png": {
       "height": 244,
       "width": 371
      }
     },
     "output_type": "display_data"
    }
   ],
   "source": [
    "result_df.toPandas().set_index('level').plot.barh(stacked=True);"
   ]
  },
  {
   "cell_type": "code",
   "execution_count": 35,
   "metadata": {},
   "outputs": [
    {
     "data": {
      "text/plain": [
       "DataFrame[level: int, Female: bigint, Male: bigint]"
      ]
     },
     "execution_count": 35,
     "metadata": {},
     "output_type": "execute_result"
    }
   ],
   "source": [
    "result_df.unpersist()"
   ]
  },
  {
   "cell_type": "markdown",
   "metadata": {},
   "source": [
    "### 4.4 Top 10 Zip Codes: Which regions consume most from this service:"
   ]
  },
  {
   "cell_type": "code",
   "execution_count": 36,
   "metadata": {
    "collapsed": true
   },
   "outputs": [],
   "source": [
    "result_df = cust_df.groupBy('zip').count().orderBy('count', ascending=False).limit(10)"
   ]
  },
  {
   "cell_type": "code",
   "execution_count": 37,
   "metadata": {},
   "outputs": [
    {
     "name": "stdout",
     "output_type": "stream",
     "text": [
      "+-----+-----+\n",
      "|  zip|count|\n",
      "+-----+-----+\n",
      "| 5341|    4|\n",
      "|80821|    4|\n",
      "|71458|    3|\n",
      "|31409|    3|\n",
      "|70446|    3|\n",
      "|20098|    3|\n",
      "|80459|    3|\n",
      "|57445|    3|\n",
      "|78754|    3|\n",
      "|47577|    3|\n",
      "+-----+-----+\n",
      "\n"
     ]
    }
   ],
   "source": [
    "result_df.cache().show()"
   ]
  },
  {
   "cell_type": "code",
   "execution_count": 38,
   "metadata": {},
   "outputs": [
    {
     "data": {
      "image/png": "[encoded data removed]",
      "text/plain": [
       "<matplotlib.figure.Figure at 0x11affc6d8>"
      ]
     },
     "metadata": {
      "image/png": {
       "height": 244,
       "width": 394
      }
     },
     "output_type": "display_data"
    }
   ],
   "source": [
    "result_df.toPandas().plot.barh(x='zip');"
   ]
  },
  {
   "cell_type": "code",
   "execution_count": 39,
   "metadata": {},
   "outputs": [
    {
     "data": {
      "text/plain": [
       "DataFrame[zip: int, count: bigint]"
      ]
     },
     "execution_count": 39,
     "metadata": {},
     "output_type": "execute_result"
    }
   ],
   "source": [
    "result_df.unpersist()"
   ]
  },
  {
   "cell_type": "markdown",
   "metadata": {},
   "source": [
    "### 4.5 Distribution of Customers By SignUp Campaign:"
   ]
  },
  {
   "cell_type": "code",
   "execution_count": 40,
   "metadata": {
    "collapsed": true
   },
   "outputs": [],
   "source": [
    "# Map from campaign number to actual campaign string\n",
    "campaign_map = {0:\"None\", 1:\"30DaysFree\", 2:\"SuperBowl\",  3:\"RetailStore\", 4:\"WebOffer\"}\n",
    "\n",
    "# Define a udf\n",
    "udfIndexToCampaign = udf(lambda x: campaign_map[x], StringType())"
   ]
  },
  {
   "cell_type": "code",
   "execution_count": 41,
   "metadata": {
    "collapsed": true
   },
   "outputs": [],
   "source": [
    "result_df = (cust_df.select(udfIndexToCampaign(\"campaign\").alias(\"campaign\"))\n",
    "                 .groupBy('campaign')\n",
    "                 .count()\n",
    "                 .orderBy('count', ascending=True))"
   ]
  },
  {
   "cell_type": "code",
   "execution_count": 42,
   "metadata": {},
   "outputs": [
    {
     "name": "stdout",
     "output_type": "stream",
     "text": [
      "+-----------+-----+\n",
      "|   campaign|count|\n",
      "+-----------+-----+\n",
      "|  SuperBowl|  240|\n",
      "|RetailStore|  489|\n",
      "|       None|  608|\n",
      "|   WebOffer|  750|\n",
      "| 30DaysFree| 2913|\n",
      "+-----------+-----+\n",
      "\n"
     ]
    }
   ],
   "source": [
    "result_df.cache().show()"
   ]
  },
  {
   "cell_type": "code",
   "execution_count": 43,
   "metadata": {},
   "outputs": [
    {
     "data": {
      "image/png": "[encoded data removed]",
      "text/plain": [
       "<matplotlib.figure.Figure at 0x11b547208>"
      ]
     },
     "metadata": {
      "image/png": {
       "height": 244,
       "width": 425
      }
     },
     "output_type": "display_data"
    }
   ],
   "source": [
    "result_df.toPandas().plot.barh(x='campaign');"
   ]
  },
  {
   "cell_type": "code",
   "execution_count": 44,
   "metadata": {},
   "outputs": [
    {
     "data": {
      "text/plain": [
       "DataFrame[campaign: string, count: bigint]"
      ]
     },
     "execution_count": 44,
     "metadata": {},
     "output_type": "execute_result"
    }
   ],
   "source": [
    "result_df.unpersist()"
   ]
  },
  {
   "cell_type": "markdown",
   "metadata": {},
   "source": [
    "### 4.6 Average Unique Track Count By Customer Level:"
   ]
  },
  {
   "cell_type": "code",
   "execution_count": 45,
   "metadata": {
    "collapsed": true
   },
   "outputs": [],
   "source": [
    "result_df = (music_df.select(['customer_id', 'track_id'])\n",
    "                            .groupBy('customer_id')\n",
    "                            .agg(F.countDistinct('track_id').alias('unique_track_count'))\n",
    "                            .join(cust_df, on='customer_id', how='inner')\n",
    "                            .select([udfIndexTolevel('level').alias('level'), 'unique_track_count'])\n",
    "                            .groupBy('level')\n",
    "                            .agg(F.avg('unique_track_count').alias('avg_unique_track_count')))"
   ]
  },
  {
   "cell_type": "code",
   "execution_count": 46,
   "metadata": {},
   "outputs": [
    {
     "name": "stdout",
     "output_type": "stream",
     "text": [
      "+------+----------------------+\n",
      "| level|avg_unique_track_count|\n",
      "+------+----------------------+\n",
      "|Silver|     170.2772699573431|\n",
      "|  Gold|    166.85310734463278|\n",
      "|  Free|     170.9515558698727|\n",
      "+------+----------------------+\n",
      "\n"
     ]
    }
   ],
   "source": [
    "result_df.cache().show()"
   ]
  },
  {
   "cell_type": "code",
   "execution_count": 47,
   "metadata": {},
   "outputs": [
    {
     "data": {
      "image/png": "[encoded data removed]",
      "text/plain": [
       "<matplotlib.figure.Figure at 0x11abb06d8>"
      ]
     },
     "metadata": {
      "image/png": {
       "height": 244,
       "width": 391
      }
     },
     "output_type": "display_data"
    }
   ],
   "source": [
    "result_df.toPandas().sort_values(by='avg_unique_track_count', ascending=False).plot.barh(x='level');"
   ]
  },
  {
   "cell_type": "code",
   "execution_count": 48,
   "metadata": {},
   "outputs": [
    {
     "data": {
      "text/plain": [
       "DataFrame[level: string, avg_unique_track_count: double]"
      ]
     },
     "execution_count": 48,
     "metadata": {},
     "output_type": "execute_result"
    }
   ],
   "source": [
    "result_df.unpersist()"
   ]
  },
  {
   "cell_type": "markdown",
   "metadata": {},
   "source": [
    "### 4.7 Mobile Tracks Count By Customer Level:"
   ]
  },
  {
   "cell_type": "code",
   "execution_count": 49,
   "metadata": {
    "collapsed": true,
    "scrolled": true
   },
   "outputs": [],
   "source": [
    "result_df = (music_df.select(['customer_id', 'track_id'])\n",
    "                            .filter(col('is_mobile') == 1)\n",
    "                            .groupBy('customer_id')\n",
    "                            .count()\n",
    "                            .withColumnRenamed('count', 'mobile_track_count')\n",
    "                            .join(cust_df, on='customer_id', how='inner')\n",
    "                            .select([udfIndexTolevel('level').alias('level'), 'mobile_track_count'])\n",
    "                            .groupBy('level')\n",
    "                            .agg(F.avg('mobile_track_count').alias('avg_mobile_track_count'))\n",
    "                            .orderBy('avg_mobile_track_count'))"
   ]
  },
  {
   "cell_type": "code",
   "execution_count": 50,
   "metadata": {},
   "outputs": [
    {
     "name": "stdout",
     "output_type": "stream",
     "text": [
      "+------+----------------------+\n",
      "| level|avg_mobile_track_count|\n",
      "+------+----------------------+\n",
      "|  Free|    100.01308345120226|\n",
      "|Silver|     146.1614868982328|\n",
      "|  Gold|    160.22033898305085|\n",
      "+------+----------------------+\n",
      "\n"
     ]
    }
   ],
   "source": [
    "result_df.cache().show()"
   ]
  },
  {
   "cell_type": "code",
   "execution_count": 51,
   "metadata": {},
   "outputs": [
    {
     "data": {
      "image/png": "[encoded data removed]",
      "text/plain": [
       "<matplotlib.figure.Figure at 0x11b8ae4e0>"
      ]
     },
     "metadata": {
      "image/png": {
       "height": 244,
       "width": 391
      }
     },
     "output_type": "display_data"
    }
   ],
   "source": [
    "result_df.toPandas().sort_values(by='avg_mobile_track_count', ascending=False).plot.barh(x='level');"
   ]
  },
  {
   "cell_type": "code",
   "execution_count": 52,
   "metadata": {},
   "outputs": [
    {
     "data": {
      "text/plain": [
       "DataFrame[level: string, avg_mobile_track_count: double]"
      ]
     },
     "execution_count": 52,
     "metadata": {},
     "output_type": "execute_result"
    }
   ],
   "source": [
    "result_df.unpersist()"
   ]
  },
  {
   "cell_type": "code",
   "execution_count": 53,
   "metadata": {},
   "outputs": [
    {
     "data": {
      "text/plain": [
       "DataFrame[customer_id: int, name: string, gender: int, address: string, zip: int, sign_date: string, status: int, level: int, campaign: int, lnkd_with_apps: int]"
      ]
     },
     "execution_count": 53,
     "metadata": {},
     "output_type": "execute_result"
    }
   ],
   "source": [
    "music_df.unpersist()\n",
    "cust_df.unpersist()"
   ]
  },
  {
   "cell_type": "code",
   "execution_count": 54,
   "metadata": {
    "collapsed": true
   },
   "outputs": [],
   "source": [
    "spark.stop()"
   ]
  },
  {
   "cell_type": "code",
   "execution_count": null,
   "metadata": {
    "collapsed": true
   },
   "outputs": [],
   "source": []
  }
 ],
 "metadata": {
  "kernelspec": {
   "display_name": "Python 3",
   "language": "python",
   "name": "python3"
  },
  "language_info": {
   "codemirror_mode": {
    "name": "ipython",
    "version": 3
   },
   "file_extension": ".py",
   "mimetype": "text/x-python",
   "name": "python",
   "nbconvert_exporter": "python",
   "pygments_lexer": "ipython3",
   "version": "3.5.3"
  },
  "toc": {
   "colors": {
    "hover_highlight": "#DAA520",
    "navigate_num": "#000000",
    "navigate_text": "#333333",
    "running_highlight": "#FF0000",
    "selected_highlight": "#FFD700",
    "sidebar_border": "#EEEEEE",
    "wrapper_background": "#FFFFFF"
   },
   "moveMenuLeft": true,
   "nav_menu": {
    "height": "262px",
    "width": "252px"
   },
   "navigate_menu": true,
   "number_sections": true,
   "sideBar": true,
   "threshold": 4,
   "toc_cell": false,
   "toc_section_display": "block",
   "toc_window_display": false,
   "widenNotebook": false
  }
 },
 "nbformat": 4,
 "nbformat_minor": 2
}
