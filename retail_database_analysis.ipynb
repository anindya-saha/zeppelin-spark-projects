{
 "cells": [
  {
   "cell_type": "markdown",
   "metadata": {},
   "source": [
    "# Data Analysis of a Retail Store using Apache Spark\n",
    "\n",
    "These tables come from the Cloudera Installation. A fictitious retail house with the following tables: customers, departments, categories, products, orders and order_items. In this notebook we will go through Spark SQL as well as Spark DF API based transformations and actions ranging from simple to quite complex."
   ]
  },
  {
   "cell_type": "code",
   "execution_count": 1,
   "metadata": {
    "collapsed": true
   },
   "outputs": [],
   "source": [
    "import os\n",
    "import pandas as pd\n",
    "import numpy as np\n",
    "\n",
    "from pyspark import SparkConf, SparkContext\n",
    "from pyspark.sql import SparkSession, SQLContext\n",
    "\n",
    "from pyspark.sql.types import *\n",
    "from pyspark.sql.window import Window\n",
    "\n",
    "import pyspark.sql.functions as F\n",
    "from pyspark.sql.functions import udf, col"
   ]
  },
  {
   "cell_type": "code",
   "execution_count": 2,
   "metadata": {
    "collapsed": true
   },
   "outputs": [],
   "source": [
    "# setting random seed for notebook reproducability\n",
    "rnd_seed=23\n",
    "np.random.seed=23\n",
    "np.random.set_state=23"
   ]
  },
  {
   "cell_type": "markdown",
   "metadata": {},
   "source": [
    "## 1. Understanding the Data Set:\n",
    "\n",
    "```\n",
    "mysql> describe customers;\n",
    "+-------------------+--------------+------+-----+---------+----------------+\n",
    "| Field             | Type         | Null | Key | Default | Extra          |\n",
    "+-------------------+--------------+------+-----+---------+----------------+\n",
    "| customer_id       | int(11)      | NO   | PRI | NULL    | auto_increment |\n",
    "| customer_fname    | varchar(45)  | NO   |     | NULL    |                |\n",
    "| customer_lname    | varchar(45)  | NO   |     | NULL    |                |\n",
    "| customer_email    | varchar(45)  | NO   |     | NULL    |                |\n",
    "| customer_password | varchar(45)  | NO   |     | NULL    |                |\n",
    "| customer_street   | varchar(255) | NO   |     | NULL    |                |\n",
    "| customer_city     | varchar(45)  | NO   |     | NULL    |                |\n",
    "| customer_state    | varchar(45)  | NO   |     | NULL    |                |\n",
    "| customer_zipcode  | varchar(45)  | NO   |     | NULL    |                |\n",
    "+-------------------+--------------+------+-----+---------+----------------+\n",
    "\n",
    "mysql> describe departments;\n",
    "+-----------------+-------------+------+-----+---------+----------------+\n",
    "| Field           | Type        | Null | Key | Default | Extra          |\n",
    "+-----------------+-------------+------+-----+---------+----------------+\n",
    "| department_id   | int(11)     | NO   | PRI | NULL    | auto_increment |\n",
    "| department_name | varchar(45) | NO   |     | NULL    |                |\n",
    "+-----------------+-------------+------+-----+---------+----------------+\n",
    "\n",
    "mysql> describe categories;\n",
    "+------------------------+-------------+------+-----+---------+----------------+\n",
    "| Field                  | Type        | Null | Key | Default | Extra          |\n",
    "+------------------------+-------------+------+-----+---------+----------------+\n",
    "| category_id            | int(11)     | NO   | PRI | NULL    | auto_increment |\n",
    "| category_department_id | int(11)     | NO   |     | NULL    |                |\n",
    "| category_name          | varchar(45) | NO   |     | NULL    |                |\n",
    "+------------------------+-------------+------+-----+---------+----------------+\n",
    "\n",
    "mysql> describe products;\n",
    "+---------------------+--------------+------+-----+---------+----------------+\n",
    "| Field               | Type         | Null | Key | Default | Extra          |\n",
    "+---------------------+--------------+------+-----+---------+----------------+\n",
    "| product_id          | int(11)      | NO   | PRI | NULL    | auto_increment |\n",
    "| product_category_id | int(11)      | NO   |     | NULL    |                |\n",
    "| product_name        | varchar(45)  | NO   |     | NULL    |                |\n",
    "| product_description | varchar(255) | NO   |     | NULL    |                |\n",
    "| product_price       | float        | NO   |     | NULL    |                |\n",
    "| product_image       | varchar(255) | NO   |     | NULL    |                |\n",
    "+---------------------+--------------+------+-----+---------+----------------+\n",
    "\n",
    "mysql> describe orders;\n",
    "+-------------------+-------------+------+-----+---------+----------------+\n",
    "| Field             | Type        | Null | Key | Default | Extra          |\n",
    "+-------------------+-------------+------+-----+---------+----------------+\n",
    "| order_id          | int(11)     | NO   | PRI | NULL    | auto_increment |\n",
    "| order_date        | datetime    | NO   |     | NULL    |                |\n",
    "| order_customer_id | int(11)     | NO   |     | NULL    |                |\n",
    "| order_status      | varchar(45) | NO   |     | NULL    |                |\n",
    "+-------------------+-------------+------+-----+---------+----------------+\n",
    "\n",
    "mysql> describe order_items;\n",
    "+--------------------------+------------+------+-----+---------+----------------+\n",
    "| Field                    | Type       | Null | Key | Default | Extra          |\n",
    "+--------------------------+------------+------+-----+---------+----------------+\n",
    "| order_item_id            | int(11)    | NO   | PRI | NULL    | auto_increment |\n",
    "| order_item_order_id      | int(11)    | NO   |     | NULL    |                |\n",
    "| order_item_product_id    | int(11)    | NO   |     | NULL    |                |\n",
    "| order_item_quantity      | tinyint(4) | NO   |     | NULL    |                |\n",
    "| order_item_subtotal      | float      | NO   |     | NULL    |                |\n",
    "| order_item_product_price | float      | NO   |     | NULL    |                |\n",
    "+--------------------------+------------+------+-----+---------+----------------+\n",
    "```"
   ]
  },
  {
   "cell_type": "markdown",
   "metadata": {},
   "source": [
    "## 2. Creating the Spark Session:"
   ]
  },
  {
   "cell_type": "code",
   "execution_count": 3,
   "metadata": {},
   "outputs": [
    {
     "data": {
      "text/plain": [
       "'/Users/anindyas/work/spark-2.2.0-bin-hadoop2.6'"
      ]
     },
     "execution_count": 3,
     "metadata": {},
     "output_type": "execute_result"
    }
   ],
   "source": [
    "os.environ['SPARK_HOME']"
   ]
  },
  {
   "cell_type": "code",
   "execution_count": 4,
   "metadata": {
    "collapsed": true
   },
   "outputs": [],
   "source": [
    "spark = SparkSession.builder.master(\"local[2]\").appName(\"retail_database_analysis\").getOrCreate()"
   ]
  },
  {
   "cell_type": "code",
   "execution_count": 5,
   "metadata": {},
   "outputs": [
    {
     "data": {
      "text/html": [
       "\n",
       "            <div>\n",
       "                <p><b>SparkSession - in-memory</b></p>\n",
       "                \n",
       "        <div>\n",
       "            <p><b>SparkContext</b></p>\n",
       "\n",
       "            <p><a href=\"http://10.55.42.56:4040\">Spark UI</a></p>\n",
       "\n",
       "            <dl>\n",
       "              <dt>Version</dt>\n",
       "                <dd><code>v2.2.0</code></dd>\n",
       "              <dt>Master</dt>\n",
       "                <dd><code>local[2]</code></dd>\n",
       "              <dt>AppName</dt>\n",
       "                <dd><code>retail_database_analysis</code></dd>\n",
       "            </dl>\n",
       "        </div>\n",
       "        \n",
       "            </div>\n",
       "        "
      ],
      "text/plain": [
       "<pyspark.sql.session.SparkSession at 0x11593d828>"
      ]
     },
     "execution_count": 5,
     "metadata": {},
     "output_type": "execute_result"
    }
   ],
   "source": [
    "spark"
   ]
  },
  {
   "cell_type": "code",
   "execution_count": 6,
   "metadata": {},
   "outputs": [
    {
     "data": {
      "text/html": [
       "\n",
       "        <div>\n",
       "            <p><b>SparkContext</b></p>\n",
       "\n",
       "            <p><a href=\"http://10.55.42.56:4040\">Spark UI</a></p>\n",
       "\n",
       "            <dl>\n",
       "              <dt>Version</dt>\n",
       "                <dd><code>v2.2.0</code></dd>\n",
       "              <dt>Master</dt>\n",
       "                <dd><code>local[2]</code></dd>\n",
       "              <dt>AppName</dt>\n",
       "                <dd><code>retail_database_analysis</code></dd>\n",
       "            </dl>\n",
       "        </div>\n",
       "        "
      ],
      "text/plain": [
       "<SparkContext master=local[2] appName=retail_database_analysis>"
      ]
     },
     "execution_count": 6,
     "metadata": {},
     "output_type": "execute_result"
    }
   ],
   "source": [
    "sc = spark.sparkContext\n",
    "sc"
   ]
  },
  {
   "cell_type": "code",
   "execution_count": 7,
   "metadata": {},
   "outputs": [
    {
     "data": {
      "text/plain": [
       "<pyspark.sql.context.SQLContext at 0x115946128>"
      ]
     },
     "execution_count": 7,
     "metadata": {},
     "output_type": "execute_result"
    }
   ],
   "source": [
    "sqlContext = SQLContext(spark.sparkContext)\n",
    "sqlContext"
   ]
  },
  {
   "cell_type": "markdown",
   "metadata": {},
   "source": [
    "## 3. Load the Data From Files Into DataFrames:"
   ]
  },
  {
   "cell_type": "code",
   "execution_count": 8,
   "metadata": {
    "collapsed": true
   },
   "outputs": [],
   "source": [
    "CUSTOMERS_DATA = 'data/retail_db/customers.csv'\n",
    "DEPARTMENTS_DATA = 'data/retail_db/departments.csv'\n",
    "CATEGORIES_DATA = 'data/retail_db/categories.csv'\n",
    "PRODUCTS_DATA = 'data/retail_db/products.csv'\n",
    "ORDERS_DATA = 'data/retail_db/orders.csv'\n",
    "ORDER_ITEMS_DATA = 'data/retail_db/order_items.csv'"
   ]
  },
  {
   "cell_type": "code",
   "execution_count": 9,
   "metadata": {
    "collapsed": true
   },
   "outputs": [],
   "source": [
    "# define the schema, corresponding to a line in the csv data file for Customer\n",
    "customers_schema = StructType([\n",
    "    StructField('customer_id', IntegerType(), nullable=True),\n",
    "    StructField('customer_fname', StringType(), nullable=True),\n",
    "    StructField('customer_lname', StringType(), nullable=True),\n",
    "    StructField('customer_email', StringType(), nullable=True),\n",
    "    StructField('customer_password', StringType(), nullable=True),\n",
    "    StructField('customer_street', StringType(), nullable=True),\n",
    "    StructField('customer_city', StringType(), nullable=True),\n",
    "    StructField('customer_state', StringType(), nullable=True),\n",
    "    StructField('customer_zipcode', StringType(), nullable=True)])"
   ]
  },
  {
   "cell_type": "code",
   "execution_count": 10,
   "metadata": {
    "collapsed": true
   },
   "outputs": [],
   "source": [
    "departments_schema = StructType([\n",
    "    StructField('department_id', IntegerType(), nullable=True),\n",
    "    StructField('category_name', StringType(), nullable=True)])"
   ]
  },
  {
   "cell_type": "code",
   "execution_count": 11,
   "metadata": {
    "collapsed": true
   },
   "outputs": [],
   "source": [
    "categories_schema = StructType([\n",
    "    StructField('category_id', IntegerType(), nullable=True),\n",
    "    StructField('category_department_id', IntegerType(), nullable=True),\n",
    "    StructField('category_name', StringType(), nullable=True)])"
   ]
  },
  {
   "cell_type": "code",
   "execution_count": 12,
   "metadata": {
    "collapsed": true
   },
   "outputs": [],
   "source": [
    "products_schema = StructType([\n",
    "    StructField('product_id', IntegerType(), nullable=True),\n",
    "    StructField('product_category_id', IntegerType(), nullable=True),\n",
    "    StructField('product_name', StringType(), nullable=True),\n",
    "    StructField('product_description', StringType(), nullable=True),\n",
    "    StructField('product_price', FloatType(), nullable=True),\n",
    "    StructField('product_image', StringType(), nullable=True)])"
   ]
  },
  {
   "cell_type": "code",
   "execution_count": 13,
   "metadata": {
    "collapsed": true
   },
   "outputs": [],
   "source": [
    "orders_schema = StructType([\n",
    "    StructField('order_id', IntegerType(), nullable=True),\n",
    "    StructField('order_date', StringType(), nullable=True),\n",
    "    StructField('order_customer_id', IntegerType(), nullable=True),\n",
    "    StructField('order_status', StringType(), nullable=True)])"
   ]
  },
  {
   "cell_type": "code",
   "execution_count": 14,
   "metadata": {
    "collapsed": true
   },
   "outputs": [],
   "source": [
    "order_items_schema = StructType([\n",
    "    StructField('order_item_id', IntegerType(), nullable=True),\n",
    "    StructField('order_item_order_id', IntegerType(), nullable=True),\n",
    "    StructField('order_item_product_id', IntegerType(), nullable=True),\n",
    "    StructField('order_item_quantity', IntegerType(), nullable=True),\n",
    "    StructField('order_item_subtotal', FloatType(), nullable=True),\n",
    "    StructField('order_item_product_price', FloatType(), nullable=True)])"
   ]
  },
  {
   "cell_type": "code",
   "execution_count": 15,
   "metadata": {
    "collapsed": true
   },
   "outputs": [],
   "source": [
    "# Load data\n",
    "customers_df = spark.read.csv(path=CUSTOMERS_DATA, schema=customers_schema).cache()\n",
    "departments_df = spark.read.csv(path=DEPARTMENTS_DATA, schema=departments_schema).cache()\n",
    "categories_df = spark.read.csv(path=CATEGORIES_DATA, schema=categories_schema).cache()\n",
    "products_df = spark.read.csv(path=PRODUCTS_DATA, schema=products_schema).cache()\n",
    "orders_df = spark.read.csv(path=ORDERS_DATA, schema=orders_schema).cache()\n",
    "order_items_df = spark.read.csv(path=ORDER_ITEMS_DATA, schema=order_items_schema).cache()"
   ]
  },
  {
   "cell_type": "code",
   "execution_count": 16,
   "metadata": {
    "collapsed": true
   },
   "outputs": [],
   "source": [
    "customers_df.createOrReplaceTempView(\"customers\")"
   ]
  },
  {
   "cell_type": "code",
   "execution_count": 17,
   "metadata": {},
   "outputs": [
    {
     "name": "stdout",
     "output_type": "stream",
     "text": [
      "+--------------------+--------------+--------------+-------------+-----------------+\n",
      "|     customer_street|customer_email|customer_state|customer_city|customer_password|\n",
      "+--------------------+--------------+--------------+-------------+-----------------+\n",
      "|  6303 Heather Plaza|     XXXXXXXXX|            TX|  Brownsville|        XXXXXXXXX|\n",
      "|9526 Noble Embers...|     XXXXXXXXX|            CO|    Littleton|        XXXXXXXXX|\n",
      "|3422 Blue Pioneer...|     XXXXXXXXX|            PR|       Caguas|        XXXXXXXXX|\n",
      "|  8324 Little Common|     XXXXXXXXX|            CA|   San Marcos|        XXXXXXXXX|\n",
      "|10 Crystal River ...|     XXXXXXXXX|            PR|       Caguas|        XXXXXXXXX|\n",
      "+--------------------+--------------+--------------+-------------+-----------------+\n",
      "only showing top 5 rows\n",
      "\n"
     ]
    }
   ],
   "source": [
    "customers_df.select([col(choice) for choice in np.random.choice(customers_df.columns, size=5, replace=False)]).show(5)"
   ]
  },
  {
   "cell_type": "code",
   "execution_count": 18,
   "metadata": {
    "collapsed": true
   },
   "outputs": [],
   "source": [
    "departments_df.createOrReplaceTempView(\"departments\")"
   ]
  },
  {
   "cell_type": "code",
   "execution_count": 19,
   "metadata": {},
   "outputs": [
    {
     "name": "stdout",
     "output_type": "stream",
     "text": [
      "+-------------+-------------+\n",
      "|department_id|category_name|\n",
      "+-------------+-------------+\n",
      "|            2|      Fitness|\n",
      "|            3|     Footwear|\n",
      "|            4|      Apparel|\n",
      "|            5|         Golf|\n",
      "|            6|     Outdoors|\n",
      "+-------------+-------------+\n",
      "only showing top 5 rows\n",
      "\n"
     ]
    }
   ],
   "source": [
    "departments_df.show(5)"
   ]
  },
  {
   "cell_type": "code",
   "execution_count": 20,
   "metadata": {
    "collapsed": true
   },
   "outputs": [],
   "source": [
    "categories_df.createOrReplaceTempView(\"categories\")"
   ]
  },
  {
   "cell_type": "code",
   "execution_count": 21,
   "metadata": {},
   "outputs": [
    {
     "name": "stdout",
     "output_type": "stream",
     "text": [
      "+-----------+----------------------+-------------------+\n",
      "|category_id|category_department_id|      category_name|\n",
      "+-----------+----------------------+-------------------+\n",
      "|          1|                     2|           Football|\n",
      "|          2|                     2|             Soccer|\n",
      "|          3|                     2|Baseball & Softball|\n",
      "|          4|                     2|         Basketball|\n",
      "|          5|                     2|           Lacrosse|\n",
      "+-----------+----------------------+-------------------+\n",
      "only showing top 5 rows\n",
      "\n"
     ]
    }
   ],
   "source": [
    "categories_df.show(5)"
   ]
  },
  {
   "cell_type": "code",
   "execution_count": 22,
   "metadata": {
    "collapsed": true
   },
   "outputs": [],
   "source": [
    "products_df.createOrReplaceTempView(\"products\")"
   ]
  },
  {
   "cell_type": "code",
   "execution_count": 23,
   "metadata": {},
   "outputs": [
    {
     "name": "stdout",
     "output_type": "stream",
     "text": [
      "+----------+-------------------+--------------------+-------------------+-------------+--------------------+\n",
      "|product_id|product_category_id|        product_name|product_description|product_price|       product_image|\n",
      "+----------+-------------------+--------------------+-------------------+-------------+--------------------+\n",
      "|         1|                  2|Quest Q64 10 FT. ...|               null|        59.98|http://images.acm...|\n",
      "|         2|                  2|Under Armour Men'...|               null|       129.99|http://images.acm...|\n",
      "|         3|                  2|Under Armour Men'...|               null|        89.99|http://images.acm...|\n",
      "|         4|                  2|Under Armour Men'...|               null|        89.99|http://images.acm...|\n",
      "|         5|                  2|Riddell Youth Rev...|               null|       199.99|http://images.acm...|\n",
      "+----------+-------------------+--------------------+-------------------+-------------+--------------------+\n",
      "only showing top 5 rows\n",
      "\n"
     ]
    }
   ],
   "source": [
    "products_df.show(5)"
   ]
  },
  {
   "cell_type": "code",
   "execution_count": 24,
   "metadata": {
    "collapsed": true
   },
   "outputs": [],
   "source": [
    "orders_df.createOrReplaceTempView(\"orders\")"
   ]
  },
  {
   "cell_type": "code",
   "execution_count": 25,
   "metadata": {},
   "outputs": [
    {
     "name": "stdout",
     "output_type": "stream",
     "text": [
      "+--------+--------------------+-----------------+---------------+\n",
      "|order_id|          order_date|order_customer_id|   order_status|\n",
      "+--------+--------------------+-----------------+---------------+\n",
      "|       1|2013-07-25 00:00:...|            11599|         CLOSED|\n",
      "|       2|2013-07-25 00:00:...|              256|PENDING_PAYMENT|\n",
      "|       3|2013-07-25 00:00:...|            12111|       COMPLETE|\n",
      "|       4|2013-07-25 00:00:...|             8827|         CLOSED|\n",
      "|       5|2013-07-25 00:00:...|            11318|       COMPLETE|\n",
      "+--------+--------------------+-----------------+---------------+\n",
      "only showing top 5 rows\n",
      "\n"
     ]
    }
   ],
   "source": [
    "orders_df.show(5)"
   ]
  },
  {
   "cell_type": "code",
   "execution_count": 26,
   "metadata": {
    "collapsed": true
   },
   "outputs": [],
   "source": [
    "order_items_df.createOrReplaceTempView(\"order_items\")"
   ]
  },
  {
   "cell_type": "code",
   "execution_count": 27,
   "metadata": {},
   "outputs": [
    {
     "name": "stdout",
     "output_type": "stream",
     "text": [
      "+-------------+-------------------+---------------------+-------------------+-------------------+------------------------+\n",
      "|order_item_id|order_item_order_id|order_item_product_id|order_item_quantity|order_item_subtotal|order_item_product_price|\n",
      "+-------------+-------------------+---------------------+-------------------+-------------------+------------------------+\n",
      "|            1|                  1|                  957|                  1|             299.98|                  299.98|\n",
      "|            2|                  2|                 1073|                  1|             199.99|                  199.99|\n",
      "|            3|                  2|                  502|                  5|              250.0|                    50.0|\n",
      "|            4|                  2|                  403|                  1|             129.99|                  129.99|\n",
      "|            5|                  4|                  897|                  2|              49.98|                   24.99|\n",
      "+-------------+-------------------+---------------------+-------------------+-------------------+------------------------+\n",
      "only showing top 5 rows\n",
      "\n"
     ]
    }
   ],
   "source": [
    "order_items_df.show(5)"
   ]
  },
  {
   "cell_type": "markdown",
   "metadata": {},
   "source": [
    "## 4. Data Analysis:"
   ]
  },
  {
   "cell_type": "code",
   "execution_count": 28,
   "metadata": {
    "collapsed": true
   },
   "outputs": [],
   "source": [
    "import re\n",
    "\n",
    "def strip_margin(text):\n",
    "    nomargin = re.sub('\\n[ \\t]*\\|', ' ', text)\n",
    "    trimmed = re.sub('\\s+', ' ', nomargin)\n",
    "    return trimmed"
   ]
  },
  {
   "cell_type": "markdown",
   "metadata": {},
   "source": [
    "### 4.1 Get How many Orders were placed:"
   ]
  },
  {
   "cell_type": "markdown",
   "metadata": {},
   "source": [
    "**SQL:**"
   ]
  },
  {
   "cell_type": "code",
   "execution_count": 29,
   "metadata": {},
   "outputs": [
    {
     "name": "stdout",
     "output_type": "stream",
     "text": [
      "+--------+\n",
      "|count(1)|\n",
      "+--------+\n",
      "|   68883|\n",
      "+--------+\n",
      "\n"
     ]
    }
   ],
   "source": [
    "spark.sql(\"select count(1) from orders\").show()"
   ]
  },
  {
   "cell_type": "markdown",
   "metadata": {},
   "source": [
    "**DF API:**"
   ]
  },
  {
   "cell_type": "code",
   "execution_count": 30,
   "metadata": {},
   "outputs": [
    {
     "data": {
      "text/plain": [
       "68883"
      ]
     },
     "execution_count": 30,
     "metadata": {},
     "output_type": "execute_result"
    }
   ],
   "source": [
    "orders_df.count()"
   ]
  },
  {
   "cell_type": "markdown",
   "metadata": {},
   "source": [
    "### 4.2 Get Average Revenue Per Order:"
   ]
  },
  {
   "cell_type": "markdown",
   "metadata": {},
   "source": [
    "**SQL:**"
   ]
  },
  {
   "cell_type": "code",
   "execution_count": 31,
   "metadata": {},
   "outputs": [
    {
     "name": "stdout",
     "output_type": "stream",
     "text": [
      "+-----------------+\n",
      "|avg_rev_per_order|\n",
      "+-----------------+\n",
      "|597.6322996016944|\n",
      "+-----------------+\n",
      "\n"
     ]
    }
   ],
   "source": [
    "# Some orders are cancelled and they do not have corresponding entries in order_items, \n",
    "# so we need count(distinct oi.order_item_order_id)\n",
    "spark.sql(strip_margin(\n",
    "        \"\"\"SELECT sum(oi.order_item_subtotal) / count(distinct oi.order_item_order_id) as avg_rev_per_order\n",
    "          |FROM orders o JOIN order_items oi \n",
    "          |    ON o.order_id = oi.order_item_order_id\n",
    "        \"\"\")).show()"
   ]
  },
  {
   "cell_type": "markdown",
   "metadata": {},
   "source": [
    "**DF API:**"
   ]
  },
  {
   "cell_type": "code",
   "execution_count": 32,
   "metadata": {},
   "outputs": [
    {
     "name": "stdout",
     "output_type": "stream",
     "text": [
      "+-----------------+\n",
      "|avg_rev_per_order|\n",
      "+-----------------+\n",
      "|597.6322996016944|\n",
      "+-----------------+\n",
      "\n"
     ]
    }
   ],
   "source": [
    "# how best to join two DataFrames without having a duplicated colum? Mention them as expression\n",
    "(orders_df.join(order_items_df, orders_df.order_id == order_items_df.order_item_order_id)\n",
    " .select(['order_item_subtotal', 'order_item_order_id'])\n",
    " .select((F.sum('order_item_subtotal') / F.countDistinct('order_item_order_id')).alias('avg_rev_per_order'))\n",
    " .show())"
   ]
  },
  {
   "cell_type": "markdown",
   "metadata": {},
   "source": [
    "### 4.3 Get Average Revenue Per Day:"
   ]
  },
  {
   "cell_type": "markdown",
   "metadata": {},
   "source": [
    "**SQL:**"
   ]
  },
  {
   "cell_type": "code",
   "execution_count": 33,
   "metadata": {},
   "outputs": [
    {
     "name": "stdout",
     "output_type": "stream",
     "text": [
      "+---------------------+-----------------+\n",
      "|order_date           |avg_rev_per_day  |\n",
      "+---------------------+-----------------+\n",
      "|2013-07-25 00:00:00.0|587.5330286848134|\n",
      "|2013-07-26 00:00:00.0|585.9234878147109|\n",
      "|2013-07-27 00:00:00.0|577.5676682063512|\n",
      "|2013-07-28 00:00:00.0|551.4119109020958|\n",
      "|2013-07-29 00:00:00.0|635.5883909684641|\n",
      "|2013-07-30 00:00:00.0|564.5363838698838|\n",
      "|2013-07-31 00:00:00.0|630.9955146643533|\n",
      "|2013-08-01 00:00:00.0|608.4982189502356|\n",
      "|2013-08-02 00:00:00.0|587.8871075517388|\n",
      "|2013-08-03 00:00:00.0|599.1628419048382|\n",
      "|2013-08-04 00:00:00.0|594.3201416863335|\n",
      "|2013-08-05 00:00:00.0|592.8305590897799|\n",
      "|2013-08-06 00:00:00.0|579.68106844792  |\n",
      "|2013-08-07 00:00:00.0|583.906170096101 |\n",
      "|2013-08-08 00:00:00.0|588.4743191939134|\n",
      "|2013-08-09 00:00:00.0|629.4593056380147|\n",
      "|2013-08-10 00:00:00.0|586.3113241756664|\n",
      "|2013-08-11 00:00:00.0|551.5472206441007|\n",
      "|2013-08-12 00:00:00.0|612.4790563343757|\n",
      "|2013-08-13 00:00:00.0|604.1594044945457|\n",
      "+---------------------+-----------------+\n",
      "only showing top 20 rows\n",
      "\n"
     ]
    }
   ],
   "source": [
    "# Some orders are cancelled and they do not have corresponding entries in order_items, \n",
    "# so we need count(distinct oi.order_item_order_id)\n",
    "spark.sql(strip_margin(\n",
    "        \"\"\"SELECT o.order_date, sum(oi.order_item_subtotal) / count(distinct oi.order_item_order_id) as avg_rev_per_day\n",
    "          |FROM orders o JOIN order_items oi \n",
    "          |    ON o.order_id = oi.order_item_order_id\n",
    "          |GROUP BY o.order_date \n",
    "          |ORDER BY o.order_date\n",
    "        \"\"\")).show(truncate=False)"
   ]
  },
  {
   "cell_type": "markdown",
   "metadata": {},
   "source": [
    "**DF API:**"
   ]
  },
  {
   "cell_type": "code",
   "execution_count": 34,
   "metadata": {},
   "outputs": [
    {
     "name": "stdout",
     "output_type": "stream",
     "text": [
      "+---------------------+-----------------+\n",
      "|order_date           |avg_rev_per_day  |\n",
      "+---------------------+-----------------+\n",
      "|2013-07-25 00:00:00.0|587.5330286848134|\n",
      "|2013-07-26 00:00:00.0|585.9234878147109|\n",
      "|2013-07-27 00:00:00.0|577.5676682063512|\n",
      "|2013-07-28 00:00:00.0|551.4119109020958|\n",
      "|2013-07-29 00:00:00.0|635.5883909684641|\n",
      "|2013-07-30 00:00:00.0|564.5363838698838|\n",
      "|2013-07-31 00:00:00.0|630.9955146643533|\n",
      "|2013-08-01 00:00:00.0|608.4982189502356|\n",
      "|2013-08-02 00:00:00.0|587.8871075517388|\n",
      "|2013-08-03 00:00:00.0|599.1628419048382|\n",
      "|2013-08-04 00:00:00.0|594.3201416863335|\n",
      "|2013-08-05 00:00:00.0|592.8305590897799|\n",
      "|2013-08-06 00:00:00.0|579.68106844792  |\n",
      "|2013-08-07 00:00:00.0|583.906170096101 |\n",
      "|2013-08-08 00:00:00.0|588.4743191939134|\n",
      "|2013-08-09 00:00:00.0|629.4593056380147|\n",
      "|2013-08-10 00:00:00.0|586.3113241756664|\n",
      "|2013-08-11 00:00:00.0|551.5472206441007|\n",
      "|2013-08-12 00:00:00.0|612.4790563343757|\n",
      "|2013-08-13 00:00:00.0|604.1594044945457|\n",
      "+---------------------+-----------------+\n",
      "only showing top 20 rows\n",
      "\n"
     ]
    }
   ],
   "source": [
    "# how best to join two DataFrames without having a duplicated colum? Mention them as expression\n",
    "(orders_df.join(order_items_df, orders_df.order_id == order_items_df.order_item_order_id)\n",
    " .select(['order_date', 'order_item_subtotal', 'order_item_order_id'])\n",
    " .groupBy('order_date')\n",
    " .agg((F.sum('order_item_subtotal') / F.countDistinct('order_item_order_id')).alias('avg_rev_per_day'))\n",
    " .orderBy('order_date')\n",
    " .show(truncate=False))"
   ]
  },
  {
   "cell_type": "markdown",
   "metadata": {},
   "source": [
    "### 4.4 Get Highest Priced Product:"
   ]
  },
  {
   "cell_type": "markdown",
   "metadata": {},
   "source": [
    "**SQL:**"
   ]
  },
  {
   "cell_type": "code",
   "execution_count": 35,
   "metadata": {},
   "outputs": [
    {
     "name": "stdout",
     "output_type": "stream",
     "text": [
      "+----------+-------------------+-------------------+-------------------+-------------+--------------------+\n",
      "|product_id|product_category_id|       product_name|product_description|product_price|       product_image|\n",
      "+----------+-------------------+-------------------+-------------------+-------------+--------------------+\n",
      "|       208|                 10|SOLE E35 Elliptical|               null|      1999.99|http://images.acm...|\n",
      "+----------+-------------------+-------------------+-------------------+-------------+--------------------+\n",
      "\n"
     ]
    }
   ],
   "source": [
    "spark.sql(strip_margin(\n",
    "        \"\"\"SELECT p.* \n",
    "          |FROM products p\n",
    "          |WHERE p.product_price = (SELECT max(q.product_price) FROM products q)\n",
    "        \"\"\")).show()"
   ]
  },
  {
   "cell_type": "markdown",
   "metadata": {},
   "source": [
    "**SQL Using rank() Window Function:**"
   ]
  },
  {
   "cell_type": "code",
   "execution_count": 36,
   "metadata": {
    "scrolled": false
   },
   "outputs": [
    {
     "name": "stdout",
     "output_type": "stream",
     "text": [
      "+----------+-------------------+-------------------+-------------------+-------------+--------------------+----+\n",
      "|product_id|product_category_id|       product_name|product_description|product_price|       product_image|rank|\n",
      "+----------+-------------------+-------------------+-------------------+-------------+--------------------+----+\n",
      "|       208|                 10|SOLE E35 Elliptical|               null|      1999.99|http://images.acm...|   1|\n",
      "+----------+-------------------+-------------------+-------------------+-------------+--------------------+----+\n",
      "\n"
     ]
    }
   ],
   "source": [
    "spark.sql(strip_margin(\n",
    "        \"\"\"SELECT * \n",
    "          |FROM ( \n",
    "          |    SELECT *, \n",
    "          |         rank() OVER (ORDER BY product_price DESC) as rank\n",
    "          |    FROM products) tmp\n",
    "          |WHERE rank <= 1\n",
    "        \"\"\")).show()"
   ]
  },
  {
   "cell_type": "markdown",
   "metadata": {},
   "source": [
    "**DF API:**"
   ]
  },
  {
   "cell_type": "code",
   "execution_count": 37,
   "metadata": {},
   "outputs": [
    {
     "name": "stdout",
     "output_type": "stream",
     "text": [
      "+----------+-------------------+-------------------+-------------------+-------------+--------------------+\n",
      "|product_id|product_category_id|       product_name|product_description|product_price|       product_image|\n",
      "+----------+-------------------+-------------------+-------------------+-------------+--------------------+\n",
      "|       208|                 10|SOLE E35 Elliptical|               null|      1999.99|http://images.acm...|\n",
      "+----------+-------------------+-------------------+-------------------+-------------+--------------------+\n",
      "\n"
     ]
    }
   ],
   "source": [
    "(products_df\n",
    " .select('*')\n",
    " .filter(col('product_price') == products_df.select(F.max('product_price')).collect()[0][0])\n",
    " .show())"
   ]
  },
  {
   "cell_type": "markdown",
   "metadata": {},
   "source": [
    "**DF API Using Window Function:**"
   ]
  },
  {
   "cell_type": "code",
   "execution_count": 38,
   "metadata": {
    "collapsed": true
   },
   "outputs": [],
   "source": [
    "windowSpec = Window.orderBy(products_df['product_price'].desc())"
   ]
  },
  {
   "cell_type": "code",
   "execution_count": 39,
   "metadata": {},
   "outputs": [
    {
     "name": "stdout",
     "output_type": "stream",
     "text": [
      "+----------+-------------------+-------------------+-------------------+-------------+--------------------+----+\n",
      "|product_id|product_category_id|       product_name|product_description|product_price|       product_image|rank|\n",
      "+----------+-------------------+-------------------+-------------------+-------------+--------------------+----+\n",
      "|       208|                 10|SOLE E35 Elliptical|               null|      1999.99|http://images.acm...|   1|\n",
      "+----------+-------------------+-------------------+-------------------+-------------+--------------------+----+\n",
      "\n"
     ]
    }
   ],
   "source": [
    "products_df.select('*', F.rank().over(windowSpec).alias('rank')).filter(col('rank') <= 1).show()"
   ]
  },
  {
   "cell_type": "markdown",
   "metadata": {},
   "source": [
    "### 4.5 Get Highest Revenue Earning Products:"
   ]
  },
  {
   "cell_type": "markdown",
   "metadata": {},
   "source": [
    "**SQL:**"
   ]
  },
  {
   "cell_type": "code",
   "execution_count": 63,
   "metadata": {},
   "outputs": [
    {
     "name": "stdout",
     "output_type": "stream",
     "text": [
      "+----------+-------------------+--------------------+-------------------+-------------+--------------------+-----------------+\n",
      "|product_id|product_category_id|        product_name|product_description|product_price|       product_image|  product_revenue|\n",
      "+----------+-------------------+--------------------+-------------------+-------------+--------------------+-----------------+\n",
      "|      1004|                 45|Field & Stream Sp...|               null|       399.98|http://images.acm...|6929653.690338135|\n",
      "+----------+-------------------+--------------------+-------------------+-------------+--------------------+-----------------+\n",
      "\n"
     ]
    }
   ],
   "source": [
    "spark.sql(strip_margin(\n",
    "        \"\"\"SELECT products.*, a.product_revenue\n",
    "          |FROM products, (SELECT oi.order_item_product_id, sum(CAST(oi.order_item_subtotal as float)) as product_revenue\n",
    "          |                    FROM order_items oi \n",
    "          |                    GROUP BY order_item_product_id \n",
    "          |                    ORDER BY product_revenue DESC \n",
    "          |                    LIMIT 1) a\n",
    "          |WHERE product_id = a.order_item_product_id\n",
    "        \"\"\")).show()"
   ]
  },
  {
   "cell_type": "markdown",
   "metadata": {},
   "source": [
    "**SQL:**"
   ]
  },
  {
   "cell_type": "code",
   "execution_count": 64,
   "metadata": {},
   "outputs": [
    {
     "name": "stdout",
     "output_type": "stream",
     "text": [
      "+----------+-------------------+--------------------+-------------------+------------------+\n",
      "|product_id|product_category_id|        product_name|product_description|   product_revenue|\n",
      "+----------+-------------------+--------------------+-------------------+------------------+\n",
      "|      1004|                 45|Field & Stream Sp...|               null| 6637668.282318115|\n",
      "|       365|                 17|Perfect Fitness P...|               null|4233794.3682899475|\n",
      "|       957|                 43|Diamondback Women...|               null| 3946837.004547119|\n",
      "|       191|                  9|Nike Men's Free 5...|               null|3507549.2067337036|\n",
      "|       502|                 24|Nike Men's Dri-FI...|               null|         3011600.0|\n",
      "|      1073|                 48|Pelican Sunstream...|               null|2967851.6815185547|\n",
      "|      1014|                 46|O'Brien Men's Neo...|               null| 2765543.314743042|\n",
      "|       403|                 18|Nike Men's CJ Eli...|               null|2763977.4868011475|\n",
      "|       627|                 29|Under Armour Girl...|               null| 1214896.220287323|\n",
      "|       565|                 26|adidas Youth Germ...|               null|           63490.0|\n",
      "|       728|                 33|LIJA Women's Eyel...|               null|           58695.0|\n",
      "|        44|                  3|adidas Men's F10 ...|               null|54710.881591796875|\n",
      "|       823|                 37|Titleist Pro V1x ...|               null| 45543.24142456055|\n",
      "|       249|                 12|Under Armour Wome...|               null| 44195.88098144531|\n",
      "|       116|                  6|Nike Men's Comfor...|               null| 42920.46059036255|\n",
      "|       821|                 37|Titleist Pro V1 H...|               null|  42631.8013381958|\n",
      "|       818|                 37|Titleist Pro V1x ...|               null| 40743.51052093506|\n",
      "|       822|                 37|Titleist Pro V1x ...|               null| 37288.23052597046|\n",
      "|       278|                 13|Under Armour Men'...|               null| 34867.25054168701|\n",
      "|       572|                 26|TYR Boys' Team Di...|               null|33551.610622406006|\n",
      "+----------+-------------------+--------------------+-------------------+------------------+\n",
      "only showing top 20 rows\n",
      "\n"
     ]
    }
   ],
   "source": [
    "# Top 10 revenue generating products (another way of doing similar thing as above)\n",
    "spark.sql(strip_margin(\n",
    "        \"\"\"SELECT p.product_id, p.product_category_id, p.product_name, p.product_description, r.product_revenue\n",
    "          |FROM products p INNER JOIN\n",
    "          |                    (SELECT oi.order_item_product_id, sum(CAST(oi.order_item_subtotal as float)) as product_revenue\n",
    "          |                     FROM order_items oi INNER JOIN orders o \n",
    "          |                         ON oi.order_item_order_id = o.order_id\n",
    "          |                     WHERE o.order_status <> 'CANCELED'\n",
    "          |                     AND o.order_status <> 'SUSPECTED_FRAUD'\n",
    "          |                     GROUP BY oi.order_item_product_id) r\n",
    "          |ON p.product_id = r.order_item_product_id\n",
    "          |ORDER BY r.product_revenue DESC\n",
    "        \"\"\")).show()"
   ]
  },
  {
   "cell_type": "markdown",
   "metadata": {},
   "source": [
    "**DF API:**"
   ]
  },
  {
   "cell_type": "code",
   "execution_count": 41,
   "metadata": {},
   "outputs": [
    {
     "name": "stdout",
     "output_type": "stream",
     "text": [
      "+----------+-------------------+--------------------+-------------------+-------------+--------------------+\n",
      "|product_id|product_category_id|        product_name|product_description|product_price|       product_image|\n",
      "+----------+-------------------+--------------------+-------------------+-------------+--------------------+\n",
      "|      1004|                 45|Field & Stream Sp...|               null|       399.98|http://images.acm...|\n",
      "+----------+-------------------+--------------------+-------------------+-------------+--------------------+\n",
      "\n"
     ]
    }
   ],
   "source": [
    "# 1. Get the sum of revenue of all the products grouped by order_item_product_id from order_items table\n",
    "# 2. Sort the result in descending order of their revenues\n",
    "# 3. Take only the first one from the sorted order using the limit() function\n",
    "# 4. Join with the prorcuts column to get the product details\n",
    "(order_items_df.select(['order_item_product_id', 'order_item_subtotal'])\n",
    "     .groupBy('order_item_product_id')\n",
    "     .agg(F.sum('order_item_subtotal').alias('product_revenue'))\n",
    "     .orderBy('product_revenue', ascending=False)\n",
    "     .limit(1)\n",
    "     .join(products_df, order_items_df.order_item_product_id == products_df.product_id, how='inner')\n",
    "     .select(products_df.columns)\n",
    "     .show())"
   ]
  },
  {
   "cell_type": "markdown",
   "metadata": {},
   "source": [
    "### 4.6 Get the most popular Categories:"
   ]
  },
  {
   "cell_type": "markdown",
   "metadata": {},
   "source": [
    "**SQL:**"
   ]
  },
  {
   "cell_type": "code",
   "execution_count": 79,
   "metadata": {},
   "outputs": [
    {
     "name": "stdout",
     "output_type": "stream",
     "text": [
      "+--------------------+-----------+\n",
      "|       category_name|order_count|\n",
      "+--------------------+-----------+\n",
      "|              Cleats|      24551|\n",
      "|      Men's Footwear|      22246|\n",
      "|     Women's Apparel|      21035|\n",
      "|Indoor/Outdoor Games|      19298|\n",
      "|             Fishing|      17325|\n",
      "|        Water Sports|      15540|\n",
      "|    Camping & Hiking|      13729|\n",
      "|    Cardio Equipment|      12487|\n",
      "|       Shop By Sport|      10984|\n",
      "|         Electronics|       3156|\n",
      "+--------------------+-----------+\n",
      "\n"
     ]
    }
   ],
   "source": [
    "spark.sql(strip_margin(\n",
    "        \"\"\"SELECT c.category_name, count(order_item_quantity) as order_count \n",
    "          |FROM order_items oi \n",
    "          |INNER JOIN products p on oi.order_item_product_id = p.product_id \n",
    "          |INNER JOIN categories c on c.category_id = p.product_category_id \n",
    "          |GROUP BY c.category_name \n",
    "          |ORDER BY order_count DESC \n",
    "          |LIMIT 10 \n",
    "        \"\"\")).show()"
   ]
  },
  {
   "cell_type": "markdown",
   "metadata": {},
   "source": [
    "**DF API:**"
   ]
  },
  {
   "cell_type": "code",
   "execution_count": 80,
   "metadata": {},
   "outputs": [
    {
     "name": "stdout",
     "output_type": "stream",
     "text": [
      "+--------------------+-----------+\n",
      "|       category_name|order_count|\n",
      "+--------------------+-----------+\n",
      "|              Cleats|      73734|\n",
      "|     Women's Apparel|      62956|\n",
      "|Indoor/Outdoor Games|      57803|\n",
      "|    Cardio Equipment|      37587|\n",
      "|       Shop By Sport|      32726|\n",
      "|      Men's Footwear|      22246|\n",
      "|             Fishing|      17325|\n",
      "|        Water Sports|      15540|\n",
      "|    Camping & Hiking|      13729|\n",
      "|         Electronics|       9436|\n",
      "|         Accessories|       5349|\n",
      "|          Golf Balls|       4384|\n",
      "|      Girls' Apparel|       3615|\n",
      "|         Golf Gloves|       2961|\n",
      "|            Trade-In|       2822|\n",
      "| Baseball & Softball|       1785|\n",
      "|              Hockey|       1711|\n",
      "|          Golf Shoes|       1444|\n",
      "|        Boxing & MMA|       1265|\n",
      "|  Hunting & Shooting|       1239|\n",
      "+--------------------+-----------+\n",
      "only showing top 20 rows\n",
      "\n"
     ]
    }
   ],
   "source": [
    "(order_items_df\n",
    " .join(products_df, order_items_df.order_item_product_id == products_df.product_id, how='inner')\n",
    " .join(categories_df, categories_df.category_id == products_df.product_category_id, how='inner')\n",
    " .groupBy('category_name')\n",
    " .agg(F.sum('order_item_quantity').alias('order_count'))\n",
    " .orderBy('order_count', ascending=False)\n",
    " .limit(10)\n",
    ".show())"
   ]
  },
  {
   "cell_type": "markdown",
   "metadata": {},
   "source": [
    "### 4.6 Get Number of Orders By Status:"
   ]
  },
  {
   "cell_type": "markdown",
   "metadata": {},
   "source": [
    "**SQL:**"
   ]
  },
  {
   "cell_type": "code",
   "execution_count": 42,
   "metadata": {
    "scrolled": false
   },
   "outputs": [
    {
     "name": "stdout",
     "output_type": "stream",
     "text": [
      "+---------------+-----+\n",
      "|   order_status|total|\n",
      "+---------------+-----+\n",
      "|PENDING_PAYMENT|15030|\n",
      "|       COMPLETE|22899|\n",
      "|        ON_HOLD| 3798|\n",
      "| PAYMENT_REVIEW|  729|\n",
      "|     PROCESSING| 8275|\n",
      "|         CLOSED| 7556|\n",
      "|SUSPECTED_FRAUD| 1558|\n",
      "|        PENDING| 7610|\n",
      "|       CANCELED| 1428|\n",
      "+---------------+-----+\n",
      "\n"
     ]
    }
   ],
   "source": [
    "spark.sql(strip_margin(\n",
    "        \"\"\"SELECT order_status, count(1) as total\n",
    "          |FROM orders o\n",
    "          |GROUP BY o.order_status\n",
    "        \"\"\")).show()"
   ]
  },
  {
   "cell_type": "markdown",
   "metadata": {},
   "source": [
    "**DF API:**"
   ]
  },
  {
   "cell_type": "code",
   "execution_count": 43,
   "metadata": {},
   "outputs": [
    {
     "name": "stdout",
     "output_type": "stream",
     "text": [
      "+---------------+-----+\n",
      "|   order_status|total|\n",
      "+---------------+-----+\n",
      "|PENDING_PAYMENT|15030|\n",
      "|       COMPLETE|22899|\n",
      "|        ON_HOLD| 3798|\n",
      "| PAYMENT_REVIEW|  729|\n",
      "|     PROCESSING| 8275|\n",
      "|         CLOSED| 7556|\n",
      "|SUSPECTED_FRAUD| 1558|\n",
      "|        PENDING| 7610|\n",
      "|       CANCELED| 1428|\n",
      "+---------------+-----+\n",
      "\n"
     ]
    }
   ],
   "source": [
    "orders_df.groupBy(orders_df.order_status).count().withColumnRenamed('count', 'total').show()"
   ]
  },
  {
   "cell_type": "markdown",
   "metadata": {},
   "source": [
    "### 4.7 Get Number of Orders By Order Date and Order Status:"
   ]
  },
  {
   "cell_type": "markdown",
   "metadata": {},
   "source": [
    "**SQL:**"
   ]
  },
  {
   "cell_type": "code",
   "execution_count": 44,
   "metadata": {},
   "outputs": [
    {
     "name": "stdout",
     "output_type": "stream",
     "text": [
      "+---------------------+---------------+-----+\n",
      "|order_date           |order_status   |total|\n",
      "+---------------------+---------------+-----+\n",
      "|2013-08-16 00:00:00.0|COMPLETE       |43   |\n",
      "|2013-08-30 00:00:00.0|CLOSED         |17   |\n",
      "|2013-09-10 00:00:00.0|COMPLETE       |80   |\n",
      "|2013-10-05 00:00:00.0|SUSPECTED_FRAUD|4    |\n",
      "|2013-12-02 00:00:00.0|SUSPECTED_FRAUD|3    |\n",
      "|2013-12-09 00:00:00.0|ON_HOLD        |9    |\n",
      "|2013-12-20 00:00:00.0|SUSPECTED_FRAUD|3    |\n",
      "|2013-12-23 00:00:00.0|PAYMENT_REVIEW |2    |\n",
      "|2014-01-02 00:00:00.0|CLOSED         |15   |\n",
      "|2014-02-11 00:00:00.0|CANCELED       |3    |\n",
      "|2014-02-14 00:00:00.0|ON_HOLD        |11   |\n",
      "|2014-02-21 00:00:00.0|PROCESSING     |25   |\n",
      "|2014-05-13 00:00:00.0|SUSPECTED_FRAUD|3    |\n",
      "|2014-06-27 00:00:00.0|PENDING        |26   |\n",
      "|2014-07-16 00:00:00.0|ON_HOLD        |3    |\n",
      "|2013-08-16 00:00:00.0|PENDING_PAYMENT|30   |\n",
      "|2013-08-29 00:00:00.0|PROCESSING     |31   |\n",
      "|2013-09-10 00:00:00.0|SUSPECTED_FRAUD|3    |\n",
      "|2013-09-25 00:00:00.0|CLOSED         |28   |\n",
      "|2013-09-27 00:00:00.0|PENDING_PAYMENT|56   |\n",
      "+---------------------+---------------+-----+\n",
      "only showing top 20 rows\n",
      "\n"
     ]
    }
   ],
   "source": [
    "spark.sql(strip_margin(\n",
    "        \"\"\"SELECT order_date, order_status, count(1) as total\n",
    "          |FROM orders o\n",
    "          |GROUP BY order_date, o.order_status\n",
    "        \"\"\")).show(truncate=False)"
   ]
  },
  {
   "cell_type": "markdown",
   "metadata": {},
   "source": [
    "**DF API:**"
   ]
  },
  {
   "cell_type": "code",
   "execution_count": 45,
   "metadata": {},
   "outputs": [
    {
     "name": "stdout",
     "output_type": "stream",
     "text": [
      "+---------------------+---------------+-----+\n",
      "|order_date           |order_status   |total|\n",
      "+---------------------+---------------+-----+\n",
      "|2013-08-16 00:00:00.0|COMPLETE       |43   |\n",
      "|2013-08-30 00:00:00.0|CLOSED         |17   |\n",
      "|2013-09-10 00:00:00.0|COMPLETE       |80   |\n",
      "|2013-10-05 00:00:00.0|SUSPECTED_FRAUD|4    |\n",
      "|2013-12-02 00:00:00.0|SUSPECTED_FRAUD|3    |\n",
      "|2013-12-09 00:00:00.0|ON_HOLD        |9    |\n",
      "|2013-12-20 00:00:00.0|SUSPECTED_FRAUD|3    |\n",
      "|2013-12-23 00:00:00.0|PAYMENT_REVIEW |2    |\n",
      "|2014-01-02 00:00:00.0|CLOSED         |15   |\n",
      "|2014-02-11 00:00:00.0|CANCELED       |3    |\n",
      "|2014-02-14 00:00:00.0|ON_HOLD        |11   |\n",
      "|2014-02-21 00:00:00.0|PROCESSING     |25   |\n",
      "|2014-05-13 00:00:00.0|SUSPECTED_FRAUD|3    |\n",
      "|2014-06-27 00:00:00.0|PENDING        |26   |\n",
      "|2014-07-16 00:00:00.0|ON_HOLD        |3    |\n",
      "|2013-08-16 00:00:00.0|PENDING_PAYMENT|30   |\n",
      "|2013-08-29 00:00:00.0|PROCESSING     |31   |\n",
      "|2013-09-10 00:00:00.0|SUSPECTED_FRAUD|3    |\n",
      "|2013-09-25 00:00:00.0|CLOSED         |28   |\n",
      "|2013-09-27 00:00:00.0|PENDING_PAYMENT|56   |\n",
      "+---------------------+---------------+-----+\n",
      "only showing top 20 rows\n",
      "\n"
     ]
    }
   ],
   "source": [
    "(orders_df\n",
    " .groupBy([orders_df.order_date, orders_df.order_status])\n",
    " .count().withColumnRenamed('count', 'total')\n",
    " .show(truncate=False))"
   ]
  },
  {
   "cell_type": "markdown",
   "metadata": {},
   "source": [
    "### 4.8 Get all CANCELED orders with amount greater than \\$1000:"
   ]
  },
  {
   "cell_type": "markdown",
   "metadata": {},
   "source": [
    "**SQL:**"
   ]
  },
  {
   "cell_type": "code",
   "execution_count": 46,
   "metadata": {},
   "outputs": [
    {
     "name": "stdout",
     "output_type": "stream",
     "text": [
      "+--------+---------------------+-----------------+------------+------------------+\n",
      "|order_id|order_date           |order_customer_id|order_status|order_total       |\n",
      "+--------+---------------------+-----------------+------------+------------------+\n",
      "|753     |2013-07-29 00:00:00.0|5094             |CANCELED    |1129.75           |\n",
      "|2012    |2013-08-04 00:00:00.0|5165             |CANCELED    |1499.8600311279297|\n",
      "|2144    |2013-08-05 00:00:00.0|7932             |CANCELED    |1099.900032043457 |\n",
      "|2189    |2013-08-06 00:00:00.0|6829             |CANCELED    |1029.9400253295898|\n",
      "|2271    |2013-08-06 00:00:00.0|7603             |CANCELED    |1229.9300231933594|\n",
      "|2754    |2013-08-09 00:00:00.0|8946             |CANCELED    |1109.9500274658203|\n",
      "|3551    |2013-08-14 00:00:00.0|5363             |CANCELED    |1299.8700408935547|\n",
      "|4354    |2013-08-20 00:00:00.0|7268             |CANCELED    |1047.9000244140625|\n",
      "|4801    |2013-08-23 00:00:00.0|11630            |CANCELED    |1016.9500217437744|\n",
      "|5331    |2013-08-26 00:00:00.0|3361             |CANCELED    |1229.8100204467773|\n",
      "|5613    |2013-08-28 00:00:00.0|7052             |CANCELED    |1049.8700103759766|\n",
      "|6180    |2013-09-02 00:00:00.0|8688             |CANCELED    |1059.8800354003906|\n",
      "|6231    |2013-09-02 00:00:00.0|12347            |CANCELED    |1279.8900299072266|\n",
      "|6548    |2013-09-04 00:00:00.0|172              |CANCELED    |1069.910026550293 |\n",
      "|6819    |2013-09-06 00:00:00.0|1548             |CANCELED    |1149.8500366210938|\n",
      "|7053    |2013-09-07 00:00:00.0|10424            |CANCELED    |1339.8500213623047|\n",
      "|7360    |2013-09-08 00:00:00.0|12102            |CANCELED    |1009.9200286865234|\n",
      "|7491    |2013-09-09 00:00:00.0|6892             |CANCELED    |1249.8500213623047|\n",
      "|8433    |2013-09-15 00:00:00.0|6568             |CANCELED    |1329.9200439453125|\n",
      "|8488    |2013-09-16 00:00:00.0|9154             |CANCELED    |1079.8900108337402|\n",
      "+--------+---------------------+-----------------+------------+------------------+\n",
      "only showing top 20 rows\n",
      "\n"
     ]
    }
   ],
   "source": [
    "spark.sql(strip_margin(\n",
    "    \"\"\"SELECT q.* \n",
    "      |FROM (SELECT o.order_id, o.order_date, o.order_customer_id, o.order_status, sum(oi.order_item_subtotal) as order_total \n",
    "      |      FROM orders o INNER JOIN order_items oi \n",
    "      |          ON o.order_id = oi.order_item_order_id \n",
    "      |      WHERE o.order_status = 'CANCELED' \n",
    "      |      GROUP BY o.order_id, o.order_date, o.order_customer_id, o.order_status) q \n",
    "      |WHERE q.order_total >= 1000 \n",
    "      |ORDER BY q.order_id\n",
    "    \"\"\")).show(truncate=False)"
   ]
  },
  {
   "cell_type": "markdown",
   "metadata": {},
   "source": [
    "**DF API:**"
   ]
  },
  {
   "cell_type": "code",
   "execution_count": 48,
   "metadata": {},
   "outputs": [
    {
     "name": "stdout",
     "output_type": "stream",
     "text": [
      "+--------+---------------------+-----------------+------------+------------------+\n",
      "|order_id|order_date           |order_customer_id|order_status|order_total       |\n",
      "+--------+---------------------+-----------------+------------+------------------+\n",
      "|753     |2013-07-29 00:00:00.0|5094             |CANCELED    |1129.75           |\n",
      "|2012    |2013-08-04 00:00:00.0|5165             |CANCELED    |1499.8600311279297|\n",
      "|2144    |2013-08-05 00:00:00.0|7932             |CANCELED    |1099.900032043457 |\n",
      "|2189    |2013-08-06 00:00:00.0|6829             |CANCELED    |1029.9400253295898|\n",
      "|2271    |2013-08-06 00:00:00.0|7603             |CANCELED    |1229.9300231933594|\n",
      "|2754    |2013-08-09 00:00:00.0|8946             |CANCELED    |1109.9500274658203|\n",
      "|3551    |2013-08-14 00:00:00.0|5363             |CANCELED    |1299.8700408935547|\n",
      "|4354    |2013-08-20 00:00:00.0|7268             |CANCELED    |1047.9000244140625|\n",
      "|4801    |2013-08-23 00:00:00.0|11630            |CANCELED    |1016.9500217437744|\n",
      "|5331    |2013-08-26 00:00:00.0|3361             |CANCELED    |1229.8100204467773|\n",
      "|5613    |2013-08-28 00:00:00.0|7052             |CANCELED    |1049.8700103759766|\n",
      "|6180    |2013-09-02 00:00:00.0|8688             |CANCELED    |1059.8800354003906|\n",
      "|6231    |2013-09-02 00:00:00.0|12347            |CANCELED    |1279.8900299072266|\n",
      "|6548    |2013-09-04 00:00:00.0|172              |CANCELED    |1069.910026550293 |\n",
      "|6819    |2013-09-06 00:00:00.0|1548             |CANCELED    |1149.8500366210938|\n",
      "|7053    |2013-09-07 00:00:00.0|10424            |CANCELED    |1339.8500213623047|\n",
      "|7360    |2013-09-08 00:00:00.0|12102            |CANCELED    |1009.9200286865234|\n",
      "|7491    |2013-09-09 00:00:00.0|6892             |CANCELED    |1249.8500213623047|\n",
      "|8433    |2013-09-15 00:00:00.0|6568             |CANCELED    |1329.9200439453125|\n",
      "|8488    |2013-09-16 00:00:00.0|9154             |CANCELED    |1079.8900108337402|\n",
      "+--------+---------------------+-----------------+------------+------------------+\n",
      "only showing top 20 rows\n",
      "\n"
     ]
    }
   ],
   "source": [
    "(orders_df\n",
    " .filter(col('order_status') == 'CANCELED')\n",
    " .join(order_items_df, orders_df.order_id == order_items_df.order_item_order_id)\n",
    " .groupBy(orders_df.order_id, orders_df.order_date, orders_df.order_customer_id, orders_df.order_status)\n",
    " .agg(F.sum('order_item_subtotal').alias('order_total'))\n",
    " .filter(col('order_total') >= 1000)\n",
    " .orderBy('order_id')\n",
    " .show(truncate=False))"
   ]
  },
  {
   "cell_type": "markdown",
   "metadata": {},
   "source": [
    "### 4.9 Sort Products by Category and Price:"
   ]
  },
  {
   "cell_type": "markdown",
   "metadata": {},
   "source": [
    "**SQL:**"
   ]
  },
  {
   "cell_type": "code",
   "execution_count": 52,
   "metadata": {},
   "outputs": [
    {
     "name": "stdout",
     "output_type": "stream",
     "text": [
      "+----------+-------------------+---------------------------------------------+-------------+\n",
      "|product_id|product_category_id|product_name                                 |product_price|\n",
      "+----------+-------------------+---------------------------------------------+-------------+\n",
      "|16        |2                  |Riddell Youth 360 Custom Football Helmet     |299.99       |\n",
      "|11        |2                  |Fitness Gear 300 lb Olympic Weight Set       |209.99       |\n",
      "|5         |2                  |Riddell Youth Revolution Speed Custom Footbal|199.99       |\n",
      "|14        |2                  |Quik Shade Summit SX170 10 FT. x 10 FT. Canop|199.99       |\n",
      "|12        |2                  |Under Armour Men's Highlight MC Alter Ego Fla|139.99       |\n",
      "|23        |2                  |Under Armour Men's Highlight MC Alter Ego Hul|139.99       |\n",
      "|6         |2                  |Jordan Men's VI Retro TD Football Cleat      |134.99       |\n",
      "|20        |2                  |Under Armour Men's Highlight MC Football Clea|129.99       |\n",
      "|8         |2                  |Nike Men's Vapor Carbon Elite TD Football Cle|129.99       |\n",
      "|17        |2                  |Under Armour Men's Highlight MC Football Clea|129.99       |\n",
      "|2         |2                  |Under Armour Men's Highlight MC Football Clea|129.99       |\n",
      "|10        |2                  |Under Armour Men's Highlight MC Football Clea|129.99       |\n",
      "|19        |2                  |Nike Men's Fingertrap Max Training Shoe      |124.99       |\n",
      "|7         |2                  |Schutt Youth Recruit Hybrid Custom Football H|99.99        |\n",
      "|3         |2                  |Under Armour Men's Renegade D Mid Football Cl|89.99        |\n",
      "|4         |2                  |Under Armour Men's Renegade D Mid Football Cl|89.99        |\n",
      "|13        |2                  |Under Armour Men's Renegade D Mid Football Cl|89.99        |\n",
      "|24        |2                  |Elevation Training Mask 2.0                  |79.99        |\n",
      "|15        |2                  |Under Armour Kids' Highlight RM Alter Ego Sup|59.99        |\n",
      "|1         |2                  |Quest Q64 10 FT. x 10 FT. Slant Leg Instant U|59.98        |\n",
      "+----------+-------------------+---------------------------------------------+-------------+\n",
      "only showing top 20 rows\n",
      "\n"
     ]
    }
   ],
   "source": [
    "spark.sql(strip_margin(\n",
    "        \"\"\"SELECT p.product_id, p.product_category_id, p.product_name, p.product_price\n",
    "          |FROM products p\n",
    "          |ORDER BY p.product_category_id ASC, p.product_price DESC\n",
    "        \"\"\")).show(truncate=False)"
   ]
  },
  {
   "cell_type": "markdown",
   "metadata": {},
   "source": [
    "**DF API:**"
   ]
  },
  {
   "cell_type": "code",
   "execution_count": 53,
   "metadata": {},
   "outputs": [
    {
     "name": "stdout",
     "output_type": "stream",
     "text": [
      "+----------+-------------------+---------------------------------------------+-------------+\n",
      "|product_id|product_category_id|product_name                                 |product_price|\n",
      "+----------+-------------------+---------------------------------------------+-------------+\n",
      "|16        |2                  |Riddell Youth 360 Custom Football Helmet     |299.99       |\n",
      "|11        |2                  |Fitness Gear 300 lb Olympic Weight Set       |209.99       |\n",
      "|5         |2                  |Riddell Youth Revolution Speed Custom Footbal|199.99       |\n",
      "|14        |2                  |Quik Shade Summit SX170 10 FT. x 10 FT. Canop|199.99       |\n",
      "|12        |2                  |Under Armour Men's Highlight MC Alter Ego Fla|139.99       |\n",
      "|23        |2                  |Under Armour Men's Highlight MC Alter Ego Hul|139.99       |\n",
      "|6         |2                  |Jordan Men's VI Retro TD Football Cleat      |134.99       |\n",
      "|20        |2                  |Under Armour Men's Highlight MC Football Clea|129.99       |\n",
      "|8         |2                  |Nike Men's Vapor Carbon Elite TD Football Cle|129.99       |\n",
      "|17        |2                  |Under Armour Men's Highlight MC Football Clea|129.99       |\n",
      "|2         |2                  |Under Armour Men's Highlight MC Football Clea|129.99       |\n",
      "|10        |2                  |Under Armour Men's Highlight MC Football Clea|129.99       |\n",
      "|19        |2                  |Nike Men's Fingertrap Max Training Shoe      |124.99       |\n",
      "|7         |2                  |Schutt Youth Recruit Hybrid Custom Football H|99.99        |\n",
      "|3         |2                  |Under Armour Men's Renegade D Mid Football Cl|89.99        |\n",
      "|4         |2                  |Under Armour Men's Renegade D Mid Football Cl|89.99        |\n",
      "|13        |2                  |Under Armour Men's Renegade D Mid Football Cl|89.99        |\n",
      "|24        |2                  |Elevation Training Mask 2.0                  |79.99        |\n",
      "|15        |2                  |Under Armour Kids' Highlight RM Alter Ego Sup|59.99        |\n",
      "|1         |2                  |Quest Q64 10 FT. x 10 FT. Slant Leg Instant U|59.98        |\n",
      "+----------+-------------------+---------------------------------------------+-------------+\n",
      "only showing top 20 rows\n",
      "\n"
     ]
    }
   ],
   "source": [
    "(products_df\n",
    " .select(['product_id', 'product_category_id', 'product_name', 'product_price'])\n",
    " .orderBy(['product_category_id', 'product_price'], ascending=[1,0])\n",
    " .show(truncate=False))"
   ]
  },
  {
   "cell_type": "markdown",
   "metadata": {},
   "source": [
    "### 4.10 Get the topmost 5 products overall sorted by Price Highest to Lowest:\n",
    "**sortN: get top 5 products by price overall; globalSorting**"
   ]
  },
  {
   "cell_type": "markdown",
   "metadata": {},
   "source": [
    "**SQL:**"
   ]
  },
  {
   "cell_type": "code",
   "execution_count": null,
   "metadata": {
    "collapsed": true
   },
   "outputs": [],
   "source": [
    "spark.sql(strip_margin(\n",
    "        \"\"\"SELECT product_id, product_category_id, product_name, product_price\n",
    "          |FROM products\n",
    "          |ORDER BY product_price DESC\n",
    "          |LIMIT 5\n",
    "        \"\"\")).show(truncate=False)"
   ]
  },
  {
   "cell_type": "markdown",
   "metadata": {},
   "source": [
    "**DF API:**"
   ]
  },
  {
   "cell_type": "code",
   "execution_count": null,
   "metadata": {
    "collapsed": true
   },
   "outputs": [],
   "source": [
    "(products_df\n",
    "    .select('product_id', 'product_category_id', 'product_name', 'product_price')\n",
    "     .orderBy('product_price', ascending=0)\n",
    "     .limit(5)\n",
    "     .show(truncate=False))"
   ]
  },
  {
   "cell_type": "markdown",
   "metadata": {},
   "source": [
    "### 4.11 Get the topmost 5 products in each category where the products are sorted by Price Highest to Lowest:\n",
    "**sort: sortingByKey, sort() by price per category**"
   ]
  },
  {
   "cell_type": "markdown",
   "metadata": {},
   "source": [
    "**SQL:**"
   ]
  },
  {
   "cell_type": "code",
   "execution_count": null,
   "metadata": {
    "collapsed": true
   },
   "outputs": [],
   "source": [
    "spark.sql(strip_margin(\n",
    "        \"\"\"SELECT product_category_id, product_id, product_name, product_price, row_num\n",
    "          |FROM ( \n",
    "          |     SELECT q.*, row_number() OVER (PARTITION BY q.product_category_id ORDER BY q.product_price) as row_num \n",
    "          |     FROM products q)\n",
    "          |WHERE row_num <= 5 \n",
    "          |ORDER BY product_category_id, row_num\n",
    "          |      \n",
    "        \"\"\")).show(truncate=False)"
   ]
  },
  {
   "cell_type": "markdown",
   "metadata": {},
   "source": [
    "**DF API:**"
   ]
  },
  {
   "cell_type": "code",
   "execution_count": null,
   "metadata": {
    "collapsed": true
   },
   "outputs": [],
   "source": [
    "windowSpec = Window.partitionBy(products_df['product_category_id']).orderBy(products_df['product_price'].asc())"
   ]
  },
  {
   "cell_type": "code",
   "execution_count": null,
   "metadata": {
    "collapsed": true
   },
   "outputs": [],
   "source": [
    "(products_df\n",
    "    .select('product_category_id', 'product_id', 'product_name', 'product_price', F.row_number().over(windowSpec).alias('row_num'))\n",
    "    .filter(col('row_num') <= 5)\n",
    "    .orderBy('product_category_id', 'row_num')\n",
    "    .show(truncate=False))"
   ]
  },
  {
   "cell_type": "markdown",
   "metadata": {},
   "source": [
    "### RANK and DENSE_RANK"
   ]
  },
  {
   "cell_type": "markdown",
   "metadata": {},
   "source": [
    "**RANK** gives us the ranking within our ordered partition. Ties are assigned the same rank, with the next ranking(s) skipped. So, if we have 3 items at rank 2, the next rank listed would be ranked 5.\n",
    "\n",
    "**DENSE_RANK** again gives us the ranking within our ordered partition, but the ranks are consecutive. No ranks are skipped if there are ranks with multiple items.\n",
    "\n",
    "The Following 3 examples plays with the rank(), dense_rank() and row_number() functions."
   ]
  },
  {
   "cell_type": "markdown",
   "metadata": {},
   "source": [
    "### 4.12 Get topN products by price in each category:\n",
    "**topN: For each product category get the top 5 records. i.e. top 5 ranked products in each category (some of the products may have same price so the top 5 products will all be distinct products but their prices may not be distinct 5. So, the number of distinct prices <= 5 in the top5 but the count distinct products may be >= 5. top 5 ranked products does not necessary mean there will be exactly 5 products may be less or more too.**"
   ]
  },
  {
   "cell_type": "markdown",
   "metadata": {},
   "source": [
    "**SQL:**"
   ]
  },
  {
   "cell_type": "code",
   "execution_count": null,
   "metadata": {
    "collapsed": true
   },
   "outputs": [],
   "source": [
    "spark.sql(strip_margin(\n",
    "        \"\"\"SELECT product_category_id, product_id, product_name, product_price, rank\n",
    "          |FROM ( \n",
    "          |     SELECT q.*, rank() OVER (PARTITION BY q.product_category_id ORDER BY q.product_price DESC) as rank \n",
    "          |     FROM products q)\n",
    "          |WHERE rank <= 5 \n",
    "          |ORDER BY product_category_id, rank\n",
    "          |      \n",
    "        \"\"\")).show(truncate=False)"
   ]
  },
  {
   "cell_type": "markdown",
   "metadata": {},
   "source": [
    "**DF API:**"
   ]
  },
  {
   "cell_type": "code",
   "execution_count": null,
   "metadata": {
    "collapsed": true
   },
   "outputs": [],
   "source": [
    "windowSpec = Window.partitionBy(products_df['product_category_id']).orderBy(products_df['product_price'].desc())"
   ]
  },
  {
   "cell_type": "code",
   "execution_count": null,
   "metadata": {
    "collapsed": true
   },
   "outputs": [],
   "source": [
    "(products_df\n",
    "    .select('product_category_id', 'product_id', 'product_name', 'product_price', F.rank().over(windowSpec).alias('rank'))\n",
    "    .filter(col('rank') <= 5)\n",
    "    .orderBy('product_category_id', 'rank')\n",
    "    .show(truncate=False))"
   ]
  },
  {
   "cell_type": "markdown",
   "metadata": {},
   "source": [
    "### 4.13 Get 'topN priced' products in each category:\n",
    "**topDenseN: For each category get top 5 priced products i.e. if there are 10 products with distinct top 5 prices, the DF should give us all 10 products, so all the products will be distinct as well as we will get 5 different distinct prices too among them.**"
   ]
  },
  {
   "cell_type": "markdown",
   "metadata": {},
   "source": [
    "**SQL:**"
   ]
  },
  {
   "cell_type": "code",
   "execution_count": null,
   "metadata": {
    "collapsed": true
   },
   "outputs": [],
   "source": [
    "spark.sql(strip_margin(\n",
    "        \"\"\"SELECT product_category_id, product_id, product_name, product_price, dense_rank\n",
    "          |FROM ( \n",
    "          |     SELECT q.*, dense_rank() OVER (PARTITION BY q.product_category_id ORDER BY q.product_price DESC) as dense_rank \n",
    "          |     FROM products q)\n",
    "          |WHERE dense_rank <= 5 \n",
    "          |ORDER BY product_category_id, dense_rank\n",
    "          |      \n",
    "        \"\"\")).show(truncate=False)"
   ]
  },
  {
   "cell_type": "markdown",
   "metadata": {},
   "source": [
    "**DF API:**"
   ]
  },
  {
   "cell_type": "code",
   "execution_count": null,
   "metadata": {
    "collapsed": true
   },
   "outputs": [],
   "source": [
    "windowSpec = Window.partitionBy(products_df['product_category_id']).orderBy(products_df['product_price'].desc())"
   ]
  },
  {
   "cell_type": "code",
   "execution_count": null,
   "metadata": {
    "collapsed": true
   },
   "outputs": [],
   "source": [
    "(products_df\n",
    "    .select('product_category_id', 'product_id', 'product_name', 'product_price', F.dense_rank().over(windowSpec).alias('dense_rank'))\n",
    "    .filter(col('dense_rank') <= 5)\n",
    "    .orderBy('product_category_id', 'dense_rank')\n",
    "    .show(truncate=False))"
   ]
  },
  {
   "cell_type": "markdown",
   "metadata": {},
   "source": [
    "### 4.14 Get the Customer Id with max revenue on Daily basis:"
   ]
  },
  {
   "cell_type": "markdown",
   "metadata": {},
   "source": [
    "**SQL:**"
   ]
  },
  {
   "cell_type": "code",
   "execution_count": null,
   "metadata": {
    "collapsed": true
   },
   "outputs": [],
   "source": [
    "# 1. Join orders and order_items and group by order_date and customer_id to calculate the revenue per customer per day\n",
    "# 2. Sort the above using rank() function to get the maximum revenue per day\n",
    "# 3. Select only rows with rank = 1, that will give the customer_id with max revenue\n",
    "# 4. Join with customers table to get the customer details\n",
    "spark.sql(strip_margin(\n",
    "        \"\"\"SELECT a. order_date, a.order_customer_id, concat_ws(' ', c.customer_fname, c.customer_lname) as customer_name, a.order_total\n",
    "          |FROM ( \n",
    "          |     SELECT *, rank() OVER (PARTITION BY b.order_date ORDER BY b.order_total DESC) as rank \n",
    "          |     FROM ( \n",
    "          |          SELECT o.order_date, o.order_customer_id, round(sum(oi.order_item_subtotal), 2) as order_total \n",
    "          |          FROM orders o INNER JOIN order_items oi \n",
    "          |              ON o.order_id = oi.order_item_order_id  \n",
    "          |          WHERE o.order_status <> 'CANCELED' AND o.order_status <> 'SUSPECTED_FRAUD' \n",
    "          |          GROUP BY o.order_date, o.order_customer_id) b \n",
    "          |     ) a INNER JOIN customers c\n",
    "          |           ON a.order_customer_id = c.customer_id\n",
    "          |WHERE rank = 1 \n",
    "          |ORDER BY order_date\n",
    "          |      \n",
    "        \"\"\")).show(truncate=False)"
   ]
  },
  {
   "cell_type": "markdown",
   "metadata": {},
   "source": [
    "**DF API:**"
   ]
  },
  {
   "cell_type": "code",
   "execution_count": null,
   "metadata": {
    "collapsed": true
   },
   "outputs": [],
   "source": [
    "rev_per_day_per_cust = (orders_df\n",
    "                         .select('order_date', 'order_id', 'order_customer_id', 'order_status')\n",
    "                         .where((col('order_status') != 'CANCELED') & (col('order_status') != 'SUSPECTED_FRAUD'))\n",
    "                         .join(order_items_df, orders_df.order_id == order_items_df.order_item_order_id)\n",
    "                         .select(['order_date', 'order_customer_id', 'order_item_subtotal'])\n",
    "                         .groupBy(['order_date', 'order_customer_id'])\n",
    "                         .agg(F.round(F.sum('order_item_subtotal'), 2).alias('order_total'))).cache()"
   ]
  },
  {
   "cell_type": "code",
   "execution_count": null,
   "metadata": {
    "collapsed": true
   },
   "outputs": [],
   "source": [
    "rev_per_day_per_cust.show(5, truncate=False)"
   ]
  },
  {
   "cell_type": "code",
   "execution_count": null,
   "metadata": {
    "collapsed": true
   },
   "outputs": [],
   "source": [
    "windowSpec = Window.partitionBy(rev_per_day_per_cust['order_date']).orderBy(rev_per_day_per_cust['order_total'].desc())"
   ]
  },
  {
   "cell_type": "code",
   "execution_count": null,
   "metadata": {
    "collapsed": true
   },
   "outputs": [],
   "source": [
    "top_cust_per_day_by_rev = (rev_per_day_per_cust\n",
    "                           .select('*', F.rank().over(windowSpec).alias('rank'))\n",
    "                           .filter(col('rank') == 1)\n",
    "                           .orderBy('order_date')).cache()"
   ]
  },
  {
   "cell_type": "code",
   "execution_count": null,
   "metadata": {
    "collapsed": true
   },
   "outputs": [],
   "source": [
    "top_cust_per_day_by_rev.show(5, truncate=False)"
   ]
  },
  {
   "cell_type": "code",
   "execution_count": null,
   "metadata": {
    "collapsed": true,
    "scrolled": false
   },
   "outputs": [],
   "source": [
    "(top_cust_per_day_by_rev\n",
    " .join(customers_df, top_cust_per_day_by_rev.order_customer_id == customers_df.customer_id, how='inner')\n",
    " .select('order_date', 'order_customer_id', F.concat_ws(' ', 'customer_fname', 'customer_lname').alias('customer_name'), 'order_total')\n",
    " .show(truncate=False))"
   ]
  },
  {
   "cell_type": "code",
   "execution_count": null,
   "metadata": {
    "collapsed": true
   },
   "outputs": [],
   "source": []
  },
  {
   "cell_type": "code",
   "execution_count": 49,
   "metadata": {
    "collapsed": true
   },
   "outputs": [],
   "source": [
    "spark.stop()"
   ]
  },
  {
   "cell_type": "code",
   "execution_count": null,
   "metadata": {
    "collapsed": true
   },
   "outputs": [],
   "source": []
  }
 ],
 "metadata": {
  "kernelspec": {
   "display_name": "Python 3",
   "language": "python",
   "name": "python3"
  },
  "language_info": {
   "codemirror_mode": {
    "name": "ipython",
    "version": 3
   },
   "file_extension": ".py",
   "mimetype": "text/x-python",
   "name": "python",
   "nbconvert_exporter": "python",
   "pygments_lexer": "ipython3",
   "version": "3.5.5"
  },
  "toc": {
   "colors": {
    "hover_highlight": "#DAA520",
    "navigate_num": "#000000",
    "navigate_text": "#333333",
    "running_highlight": "#FF0000",
    "selected_highlight": "#FFD700",
    "sidebar_border": "#EEEEEE",
    "wrapper_background": "#FFFFFF"
   },
   "moveMenuLeft": true,
   "nav_menu": {
    "height": "212px",
    "width": "252px"
   },
   "navigate_menu": true,
   "number_sections": true,
   "sideBar": true,
   "threshold": 4,
   "toc_cell": false,
   "toc_section_display": "block",
   "toc_window_display": false,
   "widenNotebook": false
  }
 },
 "nbformat": 4,
 "nbformat_minor": 2
}
