{
 "cells": [
  {
   "cell_type": "markdown",
   "metadata": {},
   "source": [
    "# Data Analysis of a Retail Store using Apache Spark\n",
    "\n",
    "These tables come from the Cloudera Installation. A fictitious retail house with the following tables: customers, departments, categories, products, orders and order_items. In this notebook we will go through Spark SQL as well as Spark DF API based transformations and actions, ranging from simple to quite complex."
   ]
  },
  {
   "cell_type": "code",
   "execution_count": 1,
   "metadata": {
    "collapsed": true
   },
   "outputs": [],
   "source": [
    "import os\n",
    "import pandas as pd\n",
    "import numpy as np\n",
    "\n",
    "from pyspark import SparkConf, SparkContext\n",
    "from pyspark.sql import SparkSession, SQLContext\n",
    "\n",
    "from pyspark.sql.types import *\n",
    "import pyspark.sql.functions as F\n",
    "from pyspark.sql.functions import udf, col"
   ]
  },
  {
   "cell_type": "code",
   "execution_count": 2,
   "metadata": {
    "collapsed": true
   },
   "outputs": [],
   "source": [
    "# setting random seed for notebook reproducability\n",
    "rnd_seed=42\n",
    "np.random.seed=42"
   ]
  },
  {
   "cell_type": "markdown",
   "metadata": {},
   "source": [
    "## 1. Understanding the Data Set\n",
    "\n",
    "```\n",
    "mysql> describe customers;\n",
    "+-------------------+--------------+------+-----+---------+----------------+\n",
    "| Field             | Type         | Null | Key | Default | Extra          |\n",
    "+-------------------+--------------+------+-----+---------+----------------+\n",
    "| customer_id       | int(11)      | NO   | PRI | NULL    | auto_increment |\n",
    "| customer_fname    | varchar(45)  | NO   |     | NULL    |                |\n",
    "| customer_lname    | varchar(45)  | NO   |     | NULL    |                |\n",
    "| customer_email    | varchar(45)  | NO   |     | NULL    |                |\n",
    "| customer_password | varchar(45)  | NO   |     | NULL    |                |\n",
    "| customer_street   | varchar(255) | NO   |     | NULL    |                |\n",
    "| customer_city     | varchar(45)  | NO   |     | NULL    |                |\n",
    "| customer_state    | varchar(45)  | NO   |     | NULL    |                |\n",
    "| customer_zipcode  | varchar(45)  | NO   |     | NULL    |                |\n",
    "+-------------------+--------------+------+-----+---------+----------------+\n",
    "\n",
    "mysql> describe departments;\n",
    "+-----------------+-------------+------+-----+---------+----------------+\n",
    "| Field           | Type        | Null | Key | Default | Extra          |\n",
    "+-----------------+-------------+------+-----+---------+----------------+\n",
    "| department_id   | int(11)     | NO   | PRI | NULL    | auto_increment |\n",
    "| department_name | varchar(45) | NO   |     | NULL    |                |\n",
    "+-----------------+-------------+------+-----+---------+----------------+\n",
    "\n",
    "mysql> describe categories;\n",
    "+------------------------+-------------+------+-----+---------+----------------+\n",
    "| Field                  | Type        | Null | Key | Default | Extra          |\n",
    "+------------------------+-------------+------+-----+---------+----------------+\n",
    "| category_id            | int(11)     | NO   | PRI | NULL    | auto_increment |\n",
    "| category_department_id | int(11)     | NO   |     | NULL    |                |\n",
    "| category_name          | varchar(45) | NO   |     | NULL    |                |\n",
    "+------------------------+-------------+------+-----+---------+----------------+\n",
    "\n",
    "mysql> describe products;\n",
    "+---------------------+--------------+------+-----+---------+----------------+\n",
    "| Field               | Type         | Null | Key | Default | Extra          |\n",
    "+---------------------+--------------+------+-----+---------+----------------+\n",
    "| product_id          | int(11)      | NO   | PRI | NULL    | auto_increment |\n",
    "| product_category_id | int(11)      | NO   |     | NULL    |                |\n",
    "| product_name        | varchar(45)  | NO   |     | NULL    |                |\n",
    "| product_description | varchar(255) | NO   |     | NULL    |                |\n",
    "| product_price       | float        | NO   |     | NULL    |                |\n",
    "| product_image       | varchar(255) | NO   |     | NULL    |                |\n",
    "+---------------------+--------------+------+-----+---------+----------------+\n",
    "\n",
    "mysql> describe orders;\n",
    "+-------------------+-------------+------+-----+---------+----------------+\n",
    "| Field             | Type        | Null | Key | Default | Extra          |\n",
    "+-------------------+-------------+------+-----+---------+----------------+\n",
    "| order_id          | int(11)     | NO   | PRI | NULL    | auto_increment |\n",
    "| order_date        | datetime    | NO   |     | NULL    |                |\n",
    "| order_customer_id | int(11)     | NO   |     | NULL    |                |\n",
    "| order_status      | varchar(45) | NO   |     | NULL    |                |\n",
    "+-------------------+-------------+------+-----+---------+----------------+\n",
    "\n",
    "mysql> describe order_items;\n",
    "+--------------------------+------------+------+-----+---------+----------------+\n",
    "| Field                    | Type       | Null | Key | Default | Extra          |\n",
    "+--------------------------+------------+------+-----+---------+----------------+\n",
    "| order_item_id            | int(11)    | NO   | PRI | NULL    | auto_increment |\n",
    "| order_item_order_id      | int(11)    | NO   |     | NULL    |                |\n",
    "| order_item_product_id    | int(11)    | NO   |     | NULL    |                |\n",
    "| order_item_quantity      | tinyint(4) | NO   |     | NULL    |                |\n",
    "| order_item_subtotal      | float      | NO   |     | NULL    |                |\n",
    "| order_item_product_price | float      | NO   |     | NULL    |                |\n",
    "+--------------------------+------------+------+-----+---------+----------------+\n",
    "```"
   ]
  },
  {
   "cell_type": "markdown",
   "metadata": {},
   "source": [
    "## 2. Creating the Spark Session"
   ]
  },
  {
   "cell_type": "code",
   "execution_count": 3,
   "metadata": {},
   "outputs": [
    {
     "data": {
      "text/plain": [
       "'D:\\\\Work\\\\spark-2.2.0-bin-hadoop2.6'"
      ]
     },
     "execution_count": 3,
     "metadata": {},
     "output_type": "execute_result"
    }
   ],
   "source": [
    "os.environ['SPARK_HOME']"
   ]
  },
  {
   "cell_type": "code",
   "execution_count": 4,
   "metadata": {
    "collapsed": true
   },
   "outputs": [],
   "source": [
    "spark = SparkSession.builder.master(\"local[2]\").appName(\"retail_database_analysis\").getOrCreate()"
   ]
  },
  {
   "cell_type": "code",
   "execution_count": 5,
   "metadata": {},
   "outputs": [
    {
     "data": {
      "text/html": [
       "\n",
       "            <div>\n",
       "                <p><b>SparkSession - in-memory</b></p>\n",
       "                \n",
       "        <div>\n",
       "            <p><b>SparkContext</b></p>\n",
       "\n",
       "            <p><a href=\"http://169.254.89.132:4041\">Spark UI</a></p>\n",
       "\n",
       "            <dl>\n",
       "              <dt>Version</dt>\n",
       "                <dd><code>v2.2.0</code></dd>\n",
       "              <dt>Master</dt>\n",
       "                <dd><code>local[2]</code></dd>\n",
       "              <dt>AppName</dt>\n",
       "                <dd><code>retail_database_analysis</code></dd>\n",
       "            </dl>\n",
       "        </div>\n",
       "        \n",
       "            </div>\n",
       "        "
      ],
      "text/plain": [
       "<pyspark.sql.session.SparkSession at 0x136c43c4898>"
      ]
     },
     "execution_count": 5,
     "metadata": {},
     "output_type": "execute_result"
    }
   ],
   "source": [
    "spark"
   ]
  },
  {
   "cell_type": "code",
   "execution_count": 6,
   "metadata": {},
   "outputs": [
    {
     "data": {
      "text/html": [
       "\n",
       "        <div>\n",
       "            <p><b>SparkContext</b></p>\n",
       "\n",
       "            <p><a href=\"http://169.254.89.132:4041\">Spark UI</a></p>\n",
       "\n",
       "            <dl>\n",
       "              <dt>Version</dt>\n",
       "                <dd><code>v2.2.0</code></dd>\n",
       "              <dt>Master</dt>\n",
       "                <dd><code>local[2]</code></dd>\n",
       "              <dt>AppName</dt>\n",
       "                <dd><code>retail_database_analysis</code></dd>\n",
       "            </dl>\n",
       "        </div>\n",
       "        "
      ],
      "text/plain": [
       "<SparkContext master=local[2] appName=retail_database_analysis>"
      ]
     },
     "execution_count": 6,
     "metadata": {},
     "output_type": "execute_result"
    }
   ],
   "source": [
    "sc = spark.sparkContext\n",
    "sc"
   ]
  },
  {
   "cell_type": "code",
   "execution_count": 7,
   "metadata": {},
   "outputs": [
    {
     "data": {
      "text/plain": [
       "<pyspark.sql.context.SQLContext at 0x136c43d1358>"
      ]
     },
     "execution_count": 7,
     "metadata": {},
     "output_type": "execute_result"
    }
   ],
   "source": [
    "sqlContext = SQLContext(spark.sparkContext)\n",
    "sqlContext"
   ]
  },
  {
   "cell_type": "markdown",
   "metadata": {},
   "source": [
    "## 3. Load The Data From Files Into Dataframes"
   ]
  },
  {
   "cell_type": "code",
   "execution_count": 8,
   "metadata": {
    "collapsed": true
   },
   "outputs": [],
   "source": [
    "CUSTOMERS_DATA = 'data/retail_db/customers.csv'\n",
    "DEPARTMENTS_DATA = 'data/retail_db/departments.csv'\n",
    "CATEGORIES_DATA = 'data/retail_db/categories.csv'\n",
    "PRODUCTS_DATA = 'data/retail_db/products.csv'\n",
    "ORDERS_DATA = 'data/retail_db/orders.csv'\n",
    "ORDER_ITEMS_DATA = 'data/retail_db/order_items.csv'"
   ]
  },
  {
   "cell_type": "code",
   "execution_count": 9,
   "metadata": {
    "collapsed": true
   },
   "outputs": [],
   "source": [
    "# define the schema, corresponding to a line in the csv data file for Customer\n",
    "customers_schema = StructType([\n",
    "    StructField('customer_id', IntegerType(), nullable=True),\n",
    "    StructField('customer_fname', StringType(), nullable=True),\n",
    "    StructField('customer_lname', StringType(), nullable=True),\n",
    "    StructField('customer_email', StringType(), nullable=True),\n",
    "    StructField('customer_password', StringType(), nullable=True),\n",
    "    StructField('customer_street', StringType(), nullable=True),\n",
    "    StructField('customer_city', StringType(), nullable=True),\n",
    "    StructField('customer_state', StringType(), nullable=True),\n",
    "    StructField('customer_zipcode', StringType(), nullable=True)]\n",
    ")\n",
    "\n",
    "departments_schema = StructType([\n",
    "    StructField('department_id', IntegerType(), nullable=True),\n",
    "    StructField('category_name', StringType(), nullable=True)]\n",
    ")\n",
    "\n",
    "categories_schema = StructType([\n",
    "    StructField('category_id', IntegerType(), nullable=True),\n",
    "    StructField('category_department_id', IntegerType(), nullable=True),\n",
    "    StructField('category_name', StringType(), nullable=True)]\n",
    ")\n",
    "\n",
    "products_schema = StructType([\n",
    "    StructField('product_id', IntegerType(), nullable=True),\n",
    "    StructField('product_category_id', IntegerType(), nullable=True),\n",
    "    StructField('product_name', StringType(), nullable=True),\n",
    "    StructField('product_description', StringType(), nullable=True),\n",
    "    StructField('product_price', FloatType(), nullable=True),\n",
    "    StructField('product_image', StringType(), nullable=True)]\n",
    ")\n",
    "\n",
    "orders_schema = StructType([\n",
    "    StructField('order_id', IntegerType(), nullable=True),\n",
    "    StructField('order_date', StringType(), nullable=True),\n",
    "    StructField('order_customer_id', IntegerType(), nullable=True),\n",
    "    StructField('order_status', StringType(), nullable=True)]\n",
    ")\n",
    "\n",
    "order_items_schema = StructType([\n",
    "    StructField('order_item_id', IntegerType(), nullable=True),\n",
    "    StructField('order_item_order_id', IntegerType(), nullable=True),\n",
    "    StructField('order_item_product_id', IntegerType(), nullable=True),\n",
    "    StructField('order_item_quantity', IntegerType(), nullable=True),\n",
    "    StructField('order_item_subtotal', FloatType(), nullable=True),\n",
    "    StructField('order_item_product_price', FloatType(), nullable=True)]\n",
    ")"
   ]
  },
  {
   "cell_type": "code",
   "execution_count": 10,
   "metadata": {
    "collapsed": true
   },
   "outputs": [],
   "source": [
    "# Load data\n",
    "customers_df = spark.read.csv(path=CUSTOMERS_DATA, schema=customers_schema).cache()\n",
    "departments_df = spark.read.csv(path=DEPARTMENTS_DATA, schema=departments_schema).cache()\n",
    "categories_df = spark.read.csv(path=CATEGORIES_DATA, schema=categories_schema).cache()\n",
    "products_df = spark.read.csv(path=PRODUCTS_DATA, schema=products_schema).cache()\n",
    "orders_df = spark.read.csv(path=ORDERS_DATA, schema=orders_schema).cache()\n",
    "order_items_df = spark.read.csv(path=ORDER_ITEMS_DATA, schema=order_items_schema).cache()"
   ]
  },
  {
   "cell_type": "code",
   "execution_count": 11,
   "metadata": {
    "collapsed": true
   },
   "outputs": [],
   "source": [
    "customers_df.registerTempTable(\"customers\")"
   ]
  },
  {
   "cell_type": "code",
   "execution_count": 12,
   "metadata": {},
   "outputs": [
    {
     "name": "stdout",
     "output_type": "stream",
     "text": [
      "+-----------+--------------+--------------+--------------+-----------------+--------------------+-------------+--------------+----------------+\n",
      "|customer_id|customer_fname|customer_lname|customer_email|customer_password|     customer_street|customer_city|customer_state|customer_zipcode|\n",
      "+-----------+--------------+--------------+--------------+-----------------+--------------------+-------------+--------------+----------------+\n",
      "|          1|       Richard|     Hernandez|     XXXXXXXXX|        XXXXXXXXX|  6303 Heather Plaza|  Brownsville|            TX|           78521|\n",
      "|          2|          Mary|       Barrett|     XXXXXXXXX|        XXXXXXXXX|9526 Noble Embers...|    Littleton|            CO|           80126|\n",
      "|          3|           Ann|         Smith|     XXXXXXXXX|        XXXXXXXXX|3422 Blue Pioneer...|       Caguas|            PR|           00725|\n",
      "|          4|          Mary|         Jones|     XXXXXXXXX|        XXXXXXXXX|  8324 Little Common|   San Marcos|            CA|           92069|\n",
      "|          5|        Robert|        Hudson|     XXXXXXXXX|        XXXXXXXXX|10 Crystal River ...|       Caguas|            PR|           00725|\n",
      "+-----------+--------------+--------------+--------------+-----------------+--------------------+-------------+--------------+----------------+\n",
      "only showing top 5 rows\n",
      "\n"
     ]
    }
   ],
   "source": [
    "customers_df.show(5)"
   ]
  },
  {
   "cell_type": "code",
   "execution_count": 13,
   "metadata": {
    "collapsed": true
   },
   "outputs": [],
   "source": [
    "departments_df.registerTempTable(\"departments\")"
   ]
  },
  {
   "cell_type": "code",
   "execution_count": 14,
   "metadata": {},
   "outputs": [
    {
     "name": "stdout",
     "output_type": "stream",
     "text": [
      "+-------------+-------------+\n",
      "|department_id|category_name|\n",
      "+-------------+-------------+\n",
      "|            2|      Fitness|\n",
      "|            3|     Footwear|\n",
      "|            4|      Apparel|\n",
      "|            5|         Golf|\n",
      "|            6|     Outdoors|\n",
      "+-------------+-------------+\n",
      "only showing top 5 rows\n",
      "\n"
     ]
    }
   ],
   "source": [
    "departments_df.show(5)"
   ]
  },
  {
   "cell_type": "code",
   "execution_count": 15,
   "metadata": {
    "collapsed": true
   },
   "outputs": [],
   "source": [
    "categories_df.registerTempTable(\"categories\")"
   ]
  },
  {
   "cell_type": "code",
   "execution_count": 16,
   "metadata": {},
   "outputs": [
    {
     "name": "stdout",
     "output_type": "stream",
     "text": [
      "+-----------+----------------------+-------------------+\n",
      "|category_id|category_department_id|      category_name|\n",
      "+-----------+----------------------+-------------------+\n",
      "|          1|                     2|           Football|\n",
      "|          2|                     2|             Soccer|\n",
      "|          3|                     2|Baseball & Softball|\n",
      "|          4|                     2|         Basketball|\n",
      "|          5|                     2|           Lacrosse|\n",
      "+-----------+----------------------+-------------------+\n",
      "only showing top 5 rows\n",
      "\n"
     ]
    }
   ],
   "source": [
    "categories_df.show(5)"
   ]
  },
  {
   "cell_type": "code",
   "execution_count": 17,
   "metadata": {
    "collapsed": true
   },
   "outputs": [],
   "source": [
    "products_df.registerTempTable(\"products\")"
   ]
  },
  {
   "cell_type": "code",
   "execution_count": 18,
   "metadata": {},
   "outputs": [
    {
     "name": "stdout",
     "output_type": "stream",
     "text": [
      "+----------+-------------------+--------------------+-------------------+-------------+--------------------+\n",
      "|product_id|product_category_id|        product_name|product_description|product_price|       product_image|\n",
      "+----------+-------------------+--------------------+-------------------+-------------+--------------------+\n",
      "|         1|                  2|Quest Q64 10 FT. ...|               null|        59.98|http://images.acm...|\n",
      "|         2|                  2|Under Armour Men'...|               null|       129.99|http://images.acm...|\n",
      "|         3|                  2|Under Armour Men'...|               null|        89.99|http://images.acm...|\n",
      "|         4|                  2|Under Armour Men'...|               null|        89.99|http://images.acm...|\n",
      "|         5|                  2|Riddell Youth Rev...|               null|       199.99|http://images.acm...|\n",
      "+----------+-------------------+--------------------+-------------------+-------------+--------------------+\n",
      "only showing top 5 rows\n",
      "\n"
     ]
    }
   ],
   "source": [
    "products_df.show(5)"
   ]
  },
  {
   "cell_type": "code",
   "execution_count": 19,
   "metadata": {
    "collapsed": true
   },
   "outputs": [],
   "source": [
    "orders_df.registerTempTable(\"orders\")"
   ]
  },
  {
   "cell_type": "code",
   "execution_count": 20,
   "metadata": {},
   "outputs": [
    {
     "name": "stdout",
     "output_type": "stream",
     "text": [
      "+--------+--------------------+-----------------+---------------+\n",
      "|order_id|          order_date|order_customer_id|   order_status|\n",
      "+--------+--------------------+-----------------+---------------+\n",
      "|       1|2013-07-25 00:00:...|            11599|         CLOSED|\n",
      "|       2|2013-07-25 00:00:...|              256|PENDING_PAYMENT|\n",
      "|       3|2013-07-25 00:00:...|            12111|       COMPLETE|\n",
      "|       4|2013-07-25 00:00:...|             8827|         CLOSED|\n",
      "|       5|2013-07-25 00:00:...|            11318|       COMPLETE|\n",
      "+--------+--------------------+-----------------+---------------+\n",
      "only showing top 5 rows\n",
      "\n"
     ]
    }
   ],
   "source": [
    "orders_df.show(5)"
   ]
  },
  {
   "cell_type": "code",
   "execution_count": 21,
   "metadata": {
    "collapsed": true
   },
   "outputs": [],
   "source": [
    "order_items_df.registerTempTable(\"order_items\")"
   ]
  },
  {
   "cell_type": "code",
   "execution_count": 22,
   "metadata": {},
   "outputs": [
    {
     "name": "stdout",
     "output_type": "stream",
     "text": [
      "+-------------+-------------------+---------------------+-------------------+-------------------+------------------------+\n",
      "|order_item_id|order_item_order_id|order_item_product_id|order_item_quantity|order_item_subtotal|order_item_product_price|\n",
      "+-------------+-------------------+---------------------+-------------------+-------------------+------------------------+\n",
      "|            1|                  1|                  957|                  1|             299.98|                  299.98|\n",
      "|            2|                  2|                 1073|                  1|             199.99|                  199.99|\n",
      "|            3|                  2|                  502|                  5|              250.0|                    50.0|\n",
      "|            4|                  2|                  403|                  1|             129.99|                  129.99|\n",
      "|            5|                  4|                  897|                  2|              49.98|                   24.99|\n",
      "+-------------+-------------------+---------------------+-------------------+-------------------+------------------------+\n",
      "only showing top 5 rows\n",
      "\n"
     ]
    }
   ],
   "source": [
    "order_items_df.show(5)"
   ]
  },
  {
   "cell_type": "markdown",
   "metadata": {},
   "source": [
    "## 4. Data Analysis"
   ]
  },
  {
   "cell_type": "code",
   "execution_count": 23,
   "metadata": {
    "collapsed": true
   },
   "outputs": [],
   "source": [
    "import re\n",
    "\n",
    "def strip_margin(text):\n",
    "    nomargin = re.sub('\\n[ \\t]*\\|', ' ', text)\n",
    "    trimmed = re.sub('\\s+', ' ', nomargin)\n",
    "    return trimmed"
   ]
  },
  {
   "cell_type": "markdown",
   "metadata": {},
   "source": [
    "### 4.1 Get How many Orders were placed:"
   ]
  },
  {
   "cell_type": "markdown",
   "metadata": {},
   "source": [
    "**SQL:**"
   ]
  },
  {
   "cell_type": "code",
   "execution_count": 24,
   "metadata": {},
   "outputs": [
    {
     "name": "stdout",
     "output_type": "stream",
     "text": [
      "+--------+\n",
      "|count(1)|\n",
      "+--------+\n",
      "|   68883|\n",
      "+--------+\n",
      "\n"
     ]
    }
   ],
   "source": [
    "spark.sql(\"select count(1) from orders\").show()"
   ]
  },
  {
   "cell_type": "markdown",
   "metadata": {},
   "source": [
    "**DF API:**"
   ]
  },
  {
   "cell_type": "code",
   "execution_count": 25,
   "metadata": {},
   "outputs": [
    {
     "data": {
      "text/plain": [
       "68883"
      ]
     },
     "execution_count": 25,
     "metadata": {},
     "output_type": "execute_result"
    }
   ],
   "source": [
    "orders_df.count()"
   ]
  },
  {
   "cell_type": "markdown",
   "metadata": {},
   "source": [
    "### 4.2 Get Average Revenue Per Order:"
   ]
  },
  {
   "cell_type": "markdown",
   "metadata": {},
   "source": [
    "**SQL:**"
   ]
  },
  {
   "cell_type": "code",
   "execution_count": 26,
   "metadata": {},
   "outputs": [
    {
     "name": "stdout",
     "output_type": "stream",
     "text": [
      "+-----------------+\n",
      "|avg_rev_per_order|\n",
      "+-----------------+\n",
      "|597.6322996016944|\n",
      "+-----------------+\n",
      "\n"
     ]
    }
   ],
   "source": [
    "# Some orders are cancelled and they do not have corresponding entries in order_items, \n",
    "# so we need count(distinct oi.order_item_order_id)\n",
    "spark.sql(strip_margin(\n",
    "        \"\"\"SELECT sum(oi.order_item_subtotal) / count(distinct oi.order_item_order_id) as avg_rev_per_order\n",
    "          |FROM orders o JOIN order_items oi \n",
    "          |    ON o.order_id = oi.order_item_order_id\n",
    "        \"\"\")).show()"
   ]
  },
  {
   "cell_type": "markdown",
   "metadata": {},
   "source": [
    "**DF API:**"
   ]
  },
  {
   "cell_type": "code",
   "execution_count": 27,
   "metadata": {},
   "outputs": [
    {
     "name": "stdout",
     "output_type": "stream",
     "text": [
      "+-----------------+\n",
      "|avg_rev_per_order|\n",
      "+-----------------+\n",
      "|597.6322996016944|\n",
      "+-----------------+\n",
      "\n"
     ]
    }
   ],
   "source": [
    "# how best to join two DataFrames without having a duplicated colum? Mention them as expression\n",
    "(orders_df.join(order_items_df, orders_df.order_id == order_items_df.order_item_order_id)\n",
    " .select(['order_item_subtotal', 'order_item_order_id'])\n",
    " .select((F.sum('order_item_subtotal') / F.countDistinct('order_item_order_id')).alias('avg_rev_per_order'))\n",
    " .show())"
   ]
  },
  {
   "cell_type": "markdown",
   "metadata": {},
   "source": [
    "### 4.3 Get Average Revenue Per Day:"
   ]
  },
  {
   "cell_type": "markdown",
   "metadata": {},
   "source": [
    "**SQL:**"
   ]
  },
  {
   "cell_type": "code",
   "execution_count": 28,
   "metadata": {},
   "outputs": [
    {
     "name": "stdout",
     "output_type": "stream",
     "text": [
      "+---------------------+-----------------+\n",
      "|order_date           |avg_rev_per_day  |\n",
      "+---------------------+-----------------+\n",
      "|2013-07-25 00:00:00.0|587.5330286848134|\n",
      "|2013-07-26 00:00:00.0|585.9234878147109|\n",
      "|2013-07-27 00:00:00.0|577.5676682063512|\n",
      "|2013-07-28 00:00:00.0|551.4119109020958|\n",
      "|2013-07-29 00:00:00.0|635.5883909684641|\n",
      "|2013-07-30 00:00:00.0|564.5363838698838|\n",
      "|2013-07-31 00:00:00.0|630.9955146643533|\n",
      "|2013-08-01 00:00:00.0|608.4982189502356|\n",
      "|2013-08-02 00:00:00.0|587.8871075517388|\n",
      "|2013-08-03 00:00:00.0|599.1628419048382|\n",
      "|2013-08-04 00:00:00.0|594.3201416863335|\n",
      "|2013-08-05 00:00:00.0|592.8305590897799|\n",
      "|2013-08-06 00:00:00.0|579.68106844792  |\n",
      "|2013-08-07 00:00:00.0|583.906170096101 |\n",
      "|2013-08-08 00:00:00.0|588.4743191939134|\n",
      "|2013-08-09 00:00:00.0|629.4593056380147|\n",
      "|2013-08-10 00:00:00.0|586.3113241756664|\n",
      "|2013-08-11 00:00:00.0|551.5472206441007|\n",
      "|2013-08-12 00:00:00.0|612.4790563343757|\n",
      "|2013-08-13 00:00:00.0|604.1594044945457|\n",
      "+---------------------+-----------------+\n",
      "only showing top 20 rows\n",
      "\n"
     ]
    }
   ],
   "source": [
    "# Some orders are cancelled and they do not have corresponding entries in order_items, \n",
    "# so we need count(distinct oi.order_item_order_id)\n",
    "spark.sql(strip_margin(\n",
    "        \"\"\"SELECT o.order_date, sum(oi.order_item_subtotal) / count(distinct oi.order_item_order_id) as avg_rev_per_day\n",
    "          |FROM orders o JOIN order_items oi \n",
    "          |    ON o.order_id = oi.order_item_order_id\n",
    "          |GROUP BY o.order_date \n",
    "          |ORDER BY o.order_date\n",
    "        \"\"\")).show(truncate=False)"
   ]
  },
  {
   "cell_type": "markdown",
   "metadata": {},
   "source": [
    "**DF API:**"
   ]
  },
  {
   "cell_type": "code",
   "execution_count": 29,
   "metadata": {},
   "outputs": [
    {
     "name": "stdout",
     "output_type": "stream",
     "text": [
      "+---------------------+-----------------+\n",
      "|order_date           |avg_rev_per_day  |\n",
      "+---------------------+-----------------+\n",
      "|2013-07-25 00:00:00.0|587.5330286848134|\n",
      "|2013-07-26 00:00:00.0|585.9234878147109|\n",
      "|2013-07-27 00:00:00.0|577.5676682063512|\n",
      "|2013-07-28 00:00:00.0|551.4119109020958|\n",
      "|2013-07-29 00:00:00.0|635.5883909684641|\n",
      "|2013-07-30 00:00:00.0|564.5363838698838|\n",
      "|2013-07-31 00:00:00.0|630.9955146643533|\n",
      "|2013-08-01 00:00:00.0|608.4982189502356|\n",
      "|2013-08-02 00:00:00.0|587.8871075517388|\n",
      "|2013-08-03 00:00:00.0|599.1628419048382|\n",
      "|2013-08-04 00:00:00.0|594.3201416863335|\n",
      "|2013-08-05 00:00:00.0|592.8305590897799|\n",
      "|2013-08-06 00:00:00.0|579.68106844792  |\n",
      "|2013-08-07 00:00:00.0|583.906170096101 |\n",
      "|2013-08-08 00:00:00.0|588.4743191939134|\n",
      "|2013-08-09 00:00:00.0|629.4593056380147|\n",
      "|2013-08-10 00:00:00.0|586.3113241756664|\n",
      "|2013-08-11 00:00:00.0|551.5472206441007|\n",
      "|2013-08-12 00:00:00.0|612.4790563343757|\n",
      "|2013-08-13 00:00:00.0|604.1594044945457|\n",
      "+---------------------+-----------------+\n",
      "only showing top 20 rows\n",
      "\n"
     ]
    }
   ],
   "source": [
    "# how best to join two DataFrames without having a duplicated colum? Mention them as expression\n",
    "(orders_df.join(order_items_df, orders_df.order_id == order_items_df.order_item_order_id)\n",
    " .select(['order_date', 'order_item_subtotal', 'order_item_order_id'])\n",
    " #.select('order_date', (F.sum('order_item_subtotal') / F.countDistinct('order_item_order_id')).alias('avg_rev_per_day'))\n",
    " .groupBy('order_date')\n",
    " .agg((F.sum('order_item_subtotal') / F.countDistinct('order_item_order_id')).alias('avg_rev_per_day'))\n",
    " .orderBy('order_date')\n",
    " .show(truncate=False))"
   ]
  },
  {
   "cell_type": "markdown",
   "metadata": {},
   "source": [
    "## 4.4 Get Highest Priced Product:"
   ]
  },
  {
   "cell_type": "markdown",
   "metadata": {},
   "source": [
    "**SQL:**"
   ]
  },
  {
   "cell_type": "code",
   "execution_count": 30,
   "metadata": {},
   "outputs": [
    {
     "name": "stdout",
     "output_type": "stream",
     "text": [
      "+----------+-------------------+-------------------+-------------------+-------------+--------------------+\n",
      "|product_id|product_category_id|       product_name|product_description|product_price|       product_image|\n",
      "+----------+-------------------+-------------------+-------------------+-------------+--------------------+\n",
      "|       208|                 10|SOLE E35 Elliptical|               null|      1999.99|http://images.acm...|\n",
      "+----------+-------------------+-------------------+-------------------+-------------+--------------------+\n",
      "\n"
     ]
    }
   ],
   "source": [
    "spark.sql(strip_margin(\n",
    "        \"\"\"SELECT p.* \n",
    "          |FROM products p\n",
    "          |WHERE p.product_price = (SELECT max(q.product_price) FROM products q)\n",
    "        \"\"\")).show()"
   ]
  },
  {
   "cell_type": "markdown",
   "metadata": {},
   "source": [
    "**SQL Using Window Function:**"
   ]
  },
  {
   "cell_type": "code",
   "execution_count": 31,
   "metadata": {
    "scrolled": false
   },
   "outputs": [
    {
     "name": "stdout",
     "output_type": "stream",
     "text": [
      "+----------+-------------------+-------------------+-------------------+-------------+--------------------+----+\n",
      "|product_id|product_category_id|       product_name|product_description|product_price|       product_image|rank|\n",
      "+----------+-------------------+-------------------+-------------------+-------------+--------------------+----+\n",
      "|       208|                 10|SOLE E35 Elliptical|               null|      1999.99|http://images.acm...|   1|\n",
      "+----------+-------------------+-------------------+-------------------+-------------+--------------------+----+\n",
      "\n"
     ]
    }
   ],
   "source": [
    "spark.sql(strip_margin(\n",
    "        \"\"\"SELECT * \n",
    "          |FROM ( \n",
    "          |    SELECT *, \n",
    "          |         rank() OVER (ORDER BY product_price DESC) as rank\n",
    "          |    FROM products) tmp\n",
    "          |WHERE rank <= 1\n",
    "        \"\"\")).show()"
   ]
  },
  {
   "cell_type": "markdown",
   "metadata": {},
   "source": [
    "**DF API:**"
   ]
  },
  {
   "cell_type": "code",
   "execution_count": 32,
   "metadata": {},
   "outputs": [
    {
     "name": "stdout",
     "output_type": "stream",
     "text": [
      "+----------+-------------------+-------------------+-------------------+-------------+--------------------+\n",
      "|product_id|product_category_id|       product_name|product_description|product_price|       product_image|\n",
      "+----------+-------------------+-------------------+-------------------+-------------+--------------------+\n",
      "|       208|                 10|SOLE E35 Elliptical|               null|      1999.99|http://images.acm...|\n",
      "+----------+-------------------+-------------------+-------------------+-------------+--------------------+\n",
      "\n"
     ]
    }
   ],
   "source": [
    "(products_df\n",
    " .select('*')\n",
    " .filter(col('product_price') == products_df.select(F.max('product_price')).collect()[0][0])\n",
    " .show())"
   ]
  },
  {
   "cell_type": "markdown",
   "metadata": {},
   "source": [
    "**DF API Using Window Function:**"
   ]
  },
  {
   "cell_type": "code",
   "execution_count": 33,
   "metadata": {
    "collapsed": true
   },
   "outputs": [],
   "source": [
    "from pyspark.sql.window import Window"
   ]
  },
  {
   "cell_type": "code",
   "execution_count": 34,
   "metadata": {
    "collapsed": true
   },
   "outputs": [],
   "source": [
    "windowSpec = Window.orderBy(products_df['product_price'].desc())"
   ]
  },
  {
   "cell_type": "code",
   "execution_count": 35,
   "metadata": {},
   "outputs": [
    {
     "name": "stdout",
     "output_type": "stream",
     "text": [
      "+----------+-------------------+-------------------+-------------------+-------------+--------------------+----+\n",
      "|product_id|product_category_id|       product_name|product_description|product_price|       product_image|rank|\n",
      "+----------+-------------------+-------------------+-------------------+-------------+--------------------+----+\n",
      "|       208|                 10|SOLE E35 Elliptical|               null|      1999.99|http://images.acm...|   1|\n",
      "+----------+-------------------+-------------------+-------------------+-------------+--------------------+----+\n",
      "\n"
     ]
    }
   ],
   "source": [
    "products_df.select('*', F.rank().over(windowSpec).alias('rank')).filter(col('rank') <= 1).show()"
   ]
  },
  {
   "cell_type": "markdown",
   "metadata": {},
   "source": [
    "## 4.5 Get Highest Revenue Earning Products:"
   ]
  },
  {
   "cell_type": "markdown",
   "metadata": {},
   "source": [
    "**SQL:**"
   ]
  },
  {
   "cell_type": "code",
   "execution_count": 36,
   "metadata": {},
   "outputs": [
    {
     "name": "stdout",
     "output_type": "stream",
     "text": [
      "+----------+-------------------+--------------------+-------------------+-------------+--------------------+\n",
      "|product_id|product_category_id|        product_name|product_description|product_price|       product_image|\n",
      "+----------+-------------------+--------------------+-------------------+-------------+--------------------+\n",
      "|      1004|                 45|Field & Stream Sp...|               null|       399.98|http://images.acm...|\n",
      "+----------+-------------------+--------------------+-------------------+-------------+--------------------+\n",
      "\n"
     ]
    }
   ],
   "source": [
    "spark.sql(strip_margin(\n",
    "        \"\"\"SELECT products.* \n",
    "          |FROM products, (SELECT order_item_product_id, sum(oi.order_item_subtotal) as product_revenue\n",
    "          |                    FROM order_items oi \n",
    "          |                    GROUP BY order_item_product_id \n",
    "          |                    ORDER BY product_revenue DESC \n",
    "          |                    LIMIT 1) a\n",
    "          |WHERE product_id = a.order_item_product_id\n",
    "        \"\"\")).show()"
   ]
  },
  {
   "cell_type": "markdown",
   "metadata": {},
   "source": [
    "**DF API:**"
   ]
  },
  {
   "cell_type": "code",
   "execution_count": 37,
   "metadata": {},
   "outputs": [
    {
     "name": "stdout",
     "output_type": "stream",
     "text": [
      "+----------+-------------------+--------------------+-------------------+-------------+--------------------+\n",
      "|product_id|product_category_id|        product_name|product_description|product_price|       product_image|\n",
      "+----------+-------------------+--------------------+-------------------+-------------+--------------------+\n",
      "|      1004|                 45|Field & Stream Sp...|               null|       399.98|http://images.acm...|\n",
      "+----------+-------------------+--------------------+-------------------+-------------+--------------------+\n",
      "\n"
     ]
    }
   ],
   "source": [
    "# 1. Get the sum of revenue of all the products grouped by order_item_product_id from order_items table\n",
    "# 2. Sort the result in descending order of their revenues\n",
    "# 3. Take only the first one from the sorted order using the limit() function\n",
    "# 4. Join with the prorcuts column to get the product details\n",
    "(order_items_df.select(['order_item_product_id', 'order_item_subtotal'])\n",
    "     .groupBy('order_item_product_id')\n",
    "     .agg(F.sum('order_item_subtotal').alias('product_revenue'))\n",
    "     .orderBy('product_revenue', ascending=False)\n",
    "     .limit(1)\n",
    "     .join(products_df, order_items_df.order_item_product_id == products_df.product_id)\n",
    "     .select(products_df.columns)\n",
    "     .show())"
   ]
  },
  {
   "cell_type": "markdown",
   "metadata": {},
   "source": [
    "## 4.6 Get Number of Orders By Status:"
   ]
  },
  {
   "cell_type": "markdown",
   "metadata": {},
   "source": [
    "**SQL:**"
   ]
  },
  {
   "cell_type": "code",
   "execution_count": 38,
   "metadata": {
    "scrolled": false
   },
   "outputs": [
    {
     "name": "stdout",
     "output_type": "stream",
     "text": [
      "+---------------+-----+\n",
      "|   order_status|total|\n",
      "+---------------+-----+\n",
      "|PENDING_PAYMENT|15030|\n",
      "|       COMPLETE|22899|\n",
      "|        ON_HOLD| 3798|\n",
      "| PAYMENT_REVIEW|  729|\n",
      "|     PROCESSING| 8275|\n",
      "|         CLOSED| 7556|\n",
      "|SUSPECTED_FRAUD| 1558|\n",
      "|        PENDING| 7610|\n",
      "|       CANCELED| 1428|\n",
      "+---------------+-----+\n",
      "\n"
     ]
    }
   ],
   "source": [
    "spark.sql(strip_margin(\n",
    "        \"\"\"SELECT order_status, count(1) as total\n",
    "          |FROM orders o\n",
    "          |GROUP BY o.order_status\n",
    "        \"\"\")).show()"
   ]
  },
  {
   "cell_type": "markdown",
   "metadata": {},
   "source": [
    "**DF API:**"
   ]
  },
  {
   "cell_type": "code",
   "execution_count": 39,
   "metadata": {},
   "outputs": [
    {
     "name": "stdout",
     "output_type": "stream",
     "text": [
      "+---------------+-----+\n",
      "|   order_status|total|\n",
      "+---------------+-----+\n",
      "|PENDING_PAYMENT|15030|\n",
      "|       COMPLETE|22899|\n",
      "|        ON_HOLD| 3798|\n",
      "| PAYMENT_REVIEW|  729|\n",
      "|     PROCESSING| 8275|\n",
      "|         CLOSED| 7556|\n",
      "|SUSPECTED_FRAUD| 1558|\n",
      "|        PENDING| 7610|\n",
      "|       CANCELED| 1428|\n",
      "+---------------+-----+\n",
      "\n"
     ]
    }
   ],
   "source": [
    "orders_df.groupBy(orders_df.order_status).count().withColumnRenamed('count', 'total').show()"
   ]
  },
  {
   "cell_type": "markdown",
   "metadata": {},
   "source": [
    "## 4.7 Get Number of Orders By Order Date and Order Status:"
   ]
  },
  {
   "cell_type": "markdown",
   "metadata": {},
   "source": [
    "**SQL:**"
   ]
  },
  {
   "cell_type": "code",
   "execution_count": 40,
   "metadata": {},
   "outputs": [
    {
     "name": "stdout",
     "output_type": "stream",
     "text": [
      "+---------------------+---------------+-----+\n",
      "|order_date           |order_status   |total|\n",
      "+---------------------+---------------+-----+\n",
      "|2013-08-16 00:00:00.0|COMPLETE       |43   |\n",
      "|2013-08-30 00:00:00.0|CLOSED         |17   |\n",
      "|2013-09-10 00:00:00.0|COMPLETE       |80   |\n",
      "|2013-10-05 00:00:00.0|SUSPECTED_FRAUD|4    |\n",
      "|2013-12-02 00:00:00.0|SUSPECTED_FRAUD|3    |\n",
      "|2013-12-09 00:00:00.0|ON_HOLD        |9    |\n",
      "|2013-12-20 00:00:00.0|SUSPECTED_FRAUD|3    |\n",
      "|2013-12-23 00:00:00.0|PAYMENT_REVIEW |2    |\n",
      "|2014-01-02 00:00:00.0|CLOSED         |15   |\n",
      "|2014-02-11 00:00:00.0|CANCELED       |3    |\n",
      "|2014-02-14 00:00:00.0|ON_HOLD        |11   |\n",
      "|2014-02-21 00:00:00.0|PROCESSING     |25   |\n",
      "|2014-05-13 00:00:00.0|SUSPECTED_FRAUD|3    |\n",
      "|2014-06-27 00:00:00.0|PENDING        |26   |\n",
      "|2014-07-16 00:00:00.0|ON_HOLD        |3    |\n",
      "|2013-08-16 00:00:00.0|PENDING_PAYMENT|30   |\n",
      "|2013-08-29 00:00:00.0|PROCESSING     |31   |\n",
      "|2013-09-10 00:00:00.0|SUSPECTED_FRAUD|3    |\n",
      "|2013-09-25 00:00:00.0|CLOSED         |28   |\n",
      "|2013-09-27 00:00:00.0|PENDING_PAYMENT|56   |\n",
      "+---------------------+---------------+-----+\n",
      "only showing top 20 rows\n",
      "\n"
     ]
    }
   ],
   "source": [
    "spark.sql(strip_margin(\n",
    "        \"\"\"SELECT order_date, order_status, count(1) as total\n",
    "          |FROM orders o\n",
    "          |GROUP BY order_date, o.order_status\n",
    "        \"\"\")).show(truncate=False)"
   ]
  },
  {
   "cell_type": "markdown",
   "metadata": {},
   "source": [
    "**DF API:**"
   ]
  },
  {
   "cell_type": "code",
   "execution_count": 41,
   "metadata": {},
   "outputs": [
    {
     "name": "stdout",
     "output_type": "stream",
     "text": [
      "+---------------------+---------------+-----+\n",
      "|order_date           |order_status   |total|\n",
      "+---------------------+---------------+-----+\n",
      "|2013-08-16 00:00:00.0|COMPLETE       |43   |\n",
      "|2013-08-30 00:00:00.0|CLOSED         |17   |\n",
      "|2013-09-10 00:00:00.0|COMPLETE       |80   |\n",
      "|2013-10-05 00:00:00.0|SUSPECTED_FRAUD|4    |\n",
      "|2013-12-02 00:00:00.0|SUSPECTED_FRAUD|3    |\n",
      "|2013-12-09 00:00:00.0|ON_HOLD        |9    |\n",
      "|2013-12-20 00:00:00.0|SUSPECTED_FRAUD|3    |\n",
      "|2013-12-23 00:00:00.0|PAYMENT_REVIEW |2    |\n",
      "|2014-01-02 00:00:00.0|CLOSED         |15   |\n",
      "|2014-02-11 00:00:00.0|CANCELED       |3    |\n",
      "|2014-02-14 00:00:00.0|ON_HOLD        |11   |\n",
      "|2014-02-21 00:00:00.0|PROCESSING     |25   |\n",
      "|2014-05-13 00:00:00.0|SUSPECTED_FRAUD|3    |\n",
      "|2014-06-27 00:00:00.0|PENDING        |26   |\n",
      "|2014-07-16 00:00:00.0|ON_HOLD        |3    |\n",
      "|2013-08-16 00:00:00.0|PENDING_PAYMENT|30   |\n",
      "|2013-08-29 00:00:00.0|PROCESSING     |31   |\n",
      "|2013-09-10 00:00:00.0|SUSPECTED_FRAUD|3    |\n",
      "|2013-09-25 00:00:00.0|CLOSED         |28   |\n",
      "|2013-09-27 00:00:00.0|PENDING_PAYMENT|56   |\n",
      "+---------------------+---------------+-----+\n",
      "only showing top 20 rows\n",
      "\n"
     ]
    }
   ],
   "source": [
    "(orders_df\n",
    " .groupBy([orders_df.order_date, orders_df.order_status])\n",
    " .count().withColumnRenamed('count', 'total')\n",
    " .show(truncate=False))"
   ]
  },
  {
   "cell_type": "markdown",
   "metadata": {},
   "source": [
    "## 4.8 Get all CANCELED orders with amount greater than \\$1000:"
   ]
  },
  {
   "cell_type": "markdown",
   "metadata": {},
   "source": [
    "**SQL:**"
   ]
  },
  {
   "cell_type": "code",
   "execution_count": 42,
   "metadata": {},
   "outputs": [
    {
     "name": "stdout",
     "output_type": "stream",
     "text": [
      "+--------+---------------------+-----------------+------------+------------------+\n",
      "|order_id|order_date           |order_customer_id|order_status|order_total       |\n",
      "+--------+---------------------+-----------------+------------+------------------+\n",
      "|753     |2013-07-29 00:00:00.0|5094             |CANCELED    |1129.75           |\n",
      "|2012    |2013-08-04 00:00:00.0|5165             |CANCELED    |1499.8600311279297|\n",
      "|2144    |2013-08-05 00:00:00.0|7932             |CANCELED    |1099.900032043457 |\n",
      "|2189    |2013-08-06 00:00:00.0|6829             |CANCELED    |1029.9400253295898|\n",
      "|2271    |2013-08-06 00:00:00.0|7603             |CANCELED    |1229.9300231933594|\n",
      "|2754    |2013-08-09 00:00:00.0|8946             |CANCELED    |1109.9500274658203|\n",
      "|3551    |2013-08-14 00:00:00.0|5363             |CANCELED    |1299.8700408935547|\n",
      "|4354    |2013-08-20 00:00:00.0|7268             |CANCELED    |1047.9000244140625|\n",
      "|4801    |2013-08-23 00:00:00.0|11630            |CANCELED    |1016.9500217437744|\n",
      "|5331    |2013-08-26 00:00:00.0|3361             |CANCELED    |1229.8100204467773|\n",
      "|5613    |2013-08-28 00:00:00.0|7052             |CANCELED    |1049.8700103759766|\n",
      "|6180    |2013-09-02 00:00:00.0|8688             |CANCELED    |1059.8800354003906|\n",
      "|6231    |2013-09-02 00:00:00.0|12347            |CANCELED    |1279.8900299072266|\n",
      "|6548    |2013-09-04 00:00:00.0|172              |CANCELED    |1069.910026550293 |\n",
      "|6819    |2013-09-06 00:00:00.0|1548             |CANCELED    |1149.8500366210938|\n",
      "|7053    |2013-09-07 00:00:00.0|10424            |CANCELED    |1339.8500213623047|\n",
      "|7360    |2013-09-08 00:00:00.0|12102            |CANCELED    |1009.9200286865234|\n",
      "|7491    |2013-09-09 00:00:00.0|6892             |CANCELED    |1249.8500213623047|\n",
      "|8433    |2013-09-15 00:00:00.0|6568             |CANCELED    |1329.9200439453125|\n",
      "|8488    |2013-09-16 00:00:00.0|9154             |CANCELED    |1079.8900108337402|\n",
      "+--------+---------------------+-----------------+------------+------------------+\n",
      "only showing top 20 rows\n",
      "\n"
     ]
    }
   ],
   "source": [
    "spark.sql(strip_margin(\n",
    "    \"\"\"SELECT q.* \n",
    "      |FROM (SELECT o.order_id, o.order_date, o.order_customer_id, o.order_status, sum(oi.order_item_subtotal) as order_total \n",
    "      |      FROM orders o JOIN order_items oi \n",
    "      |          ON o.order_id = oi.order_item_order_id \n",
    "      |      WHERE o.order_status = 'CANCELED' \n",
    "      |      GROUP BY o.order_id, o.order_date, o.order_customer_id, o.order_status) q \n",
    "      |WHERE q.order_total >= 1000 \n",
    "      |ORDER BY q.order_id\n",
    "    \"\"\")).show(truncate=False)"
   ]
  },
  {
   "cell_type": "markdown",
   "metadata": {},
   "source": [
    "**DF API:**"
   ]
  },
  {
   "cell_type": "code",
   "execution_count": 43,
   "metadata": {},
   "outputs": [
    {
     "name": "stdout",
     "output_type": "stream",
     "text": [
      "+--------+--------------------+-----------------+------------+------------------+\n",
      "|order_id|          order_date|order_customer_id|order_status|       order_total|\n",
      "+--------+--------------------+-----------------+------------+------------------+\n",
      "|     753|2013-07-29 00:00:...|             5094|    CANCELED|           1129.75|\n",
      "|    2012|2013-08-04 00:00:...|             5165|    CANCELED|1499.8600311279297|\n",
      "|    2144|2013-08-05 00:00:...|             7932|    CANCELED| 1099.900032043457|\n",
      "|    2189|2013-08-06 00:00:...|             6829|    CANCELED|1029.9400253295898|\n",
      "|    2271|2013-08-06 00:00:...|             7603|    CANCELED|1229.9300231933594|\n",
      "|    2754|2013-08-09 00:00:...|             8946|    CANCELED|1109.9500274658203|\n",
      "|    3551|2013-08-14 00:00:...|             5363|    CANCELED|1299.8700408935547|\n",
      "|    4354|2013-08-20 00:00:...|             7268|    CANCELED|1047.9000244140625|\n",
      "|    4801|2013-08-23 00:00:...|            11630|    CANCELED|1016.9500217437744|\n",
      "|    5331|2013-08-26 00:00:...|             3361|    CANCELED|1229.8100204467773|\n",
      "|    5613|2013-08-28 00:00:...|             7052|    CANCELED|1049.8700103759766|\n",
      "|    6180|2013-09-02 00:00:...|             8688|    CANCELED|1059.8800354003906|\n",
      "|    6231|2013-09-02 00:00:...|            12347|    CANCELED|1279.8900299072266|\n",
      "|    6548|2013-09-04 00:00:...|              172|    CANCELED| 1069.910026550293|\n",
      "|    6819|2013-09-06 00:00:...|             1548|    CANCELED|1149.8500366210938|\n",
      "|    7053|2013-09-07 00:00:...|            10424|    CANCELED|1339.8500213623047|\n",
      "|    7360|2013-09-08 00:00:...|            12102|    CANCELED|1009.9200286865234|\n",
      "|    7491|2013-09-09 00:00:...|             6892|    CANCELED|1249.8500213623047|\n",
      "|    8433|2013-09-15 00:00:...|             6568|    CANCELED|1329.9200439453125|\n",
      "|    8488|2013-09-16 00:00:...|             9154|    CANCELED|1079.8900108337402|\n",
      "+--------+--------------------+-----------------+------------+------------------+\n",
      "only showing top 20 rows\n",
      "\n"
     ]
    }
   ],
   "source": [
    "(orders_df\n",
    " .filter(col('order_status') == 'CANCELED')\n",
    " .join(order_items_df, orders_df.order_id == order_items_df.order_item_order_id)\n",
    " .groupBy(orders_df.order_id, orders_df.order_date, orders_df.order_customer_id, orders_df.order_status)\n",
    " .agg(F.sum('order_item_subtotal').alias('order_total'))\n",
    " .filter(col('order_total') >= 1000)\n",
    " .orderBy('order_id')\n",
    " .show())"
   ]
  },
  {
   "cell_type": "markdown",
   "metadata": {},
   "source": [
    "## 4.9 Sort Products by Category and Price:"
   ]
  },
  {
   "cell_type": "markdown",
   "metadata": {},
   "source": [
    "**SQL:**"
   ]
  },
  {
   "cell_type": "code",
   "execution_count": 44,
   "metadata": {},
   "outputs": [
    {
     "name": "stdout",
     "output_type": "stream",
     "text": [
      "+----------+-------------------+--------------------+-------------------+-------------+--------------------+\n",
      "|product_id|product_category_id|        product_name|product_description|product_price|       product_image|\n",
      "+----------+-------------------+--------------------+-------------------+-------------+--------------------+\n",
      "|        16|                  2|Riddell Youth 360...|               null|       299.99|http://images.acm...|\n",
      "|        11|                  2|Fitness Gear 300 ...|               null|       209.99|http://images.acm...|\n",
      "|         5|                  2|Riddell Youth Rev...|               null|       199.99|http://images.acm...|\n",
      "|        14|                  2|Quik Shade Summit...|               null|       199.99|http://images.acm...|\n",
      "|        12|                  2|Under Armour Men'...|               null|       139.99|http://images.acm...|\n",
      "|        23|                  2|Under Armour Men'...|               null|       139.99|http://images.acm...|\n",
      "|         6|                  2|Jordan Men's VI R...|               null|       134.99|http://images.acm...|\n",
      "|        20|                  2|Under Armour Men'...|               null|       129.99|http://images.acm...|\n",
      "|         8|                  2|Nike Men's Vapor ...|               null|       129.99|http://images.acm...|\n",
      "|        17|                  2|Under Armour Men'...|               null|       129.99|http://images.acm...|\n",
      "|         2|                  2|Under Armour Men'...|               null|       129.99|http://images.acm...|\n",
      "|        10|                  2|Under Armour Men'...|               null|       129.99|http://images.acm...|\n",
      "|        19|                  2|Nike Men's Finger...|               null|       124.99|http://images.acm...|\n",
      "|         7|                  2|Schutt Youth Recr...|               null|        99.99|http://images.acm...|\n",
      "|         3|                  2|Under Armour Men'...|               null|        89.99|http://images.acm...|\n",
      "|         4|                  2|Under Armour Men'...|               null|        89.99|http://images.acm...|\n",
      "|        13|                  2|Under Armour Men'...|               null|        89.99|http://images.acm...|\n",
      "|        24|                  2|Elevation Trainin...|               null|        79.99|http://images.acm...|\n",
      "|        15|                  2|Under Armour Kids...|               null|        59.99|http://images.acm...|\n",
      "|         1|                  2|Quest Q64 10 FT. ...|               null|        59.98|http://images.acm...|\n",
      "+----------+-------------------+--------------------+-------------------+-------------+--------------------+\n",
      "only showing top 20 rows\n",
      "\n"
     ]
    }
   ],
   "source": [
    "spark.sql(strip_margin(\n",
    "        \"\"\"SELECT p.* \n",
    "          |FROM products p\n",
    "          |ORDER BY p.product_category_id ASC, p.product_price DESC\n",
    "        \"\"\")).show()"
   ]
  },
  {
   "cell_type": "markdown",
   "metadata": {},
   "source": [
    "**DF API:**"
   ]
  },
  {
   "cell_type": "code",
   "execution_count": 45,
   "metadata": {},
   "outputs": [
    {
     "name": "stdout",
     "output_type": "stream",
     "text": [
      "+----------+-------------------+--------------------+-------------------+-------------+--------------------+\n",
      "|product_id|product_category_id|        product_name|product_description|product_price|       product_image|\n",
      "+----------+-------------------+--------------------+-------------------+-------------+--------------------+\n",
      "|        16|                  2|Riddell Youth 360...|               null|       299.99|http://images.acm...|\n",
      "|        11|                  2|Fitness Gear 300 ...|               null|       209.99|http://images.acm...|\n",
      "|         5|                  2|Riddell Youth Rev...|               null|       199.99|http://images.acm...|\n",
      "|        14|                  2|Quik Shade Summit...|               null|       199.99|http://images.acm...|\n",
      "|        12|                  2|Under Armour Men'...|               null|       139.99|http://images.acm...|\n",
      "|        23|                  2|Under Armour Men'...|               null|       139.99|http://images.acm...|\n",
      "|         6|                  2|Jordan Men's VI R...|               null|       134.99|http://images.acm...|\n",
      "|        20|                  2|Under Armour Men'...|               null|       129.99|http://images.acm...|\n",
      "|         8|                  2|Nike Men's Vapor ...|               null|       129.99|http://images.acm...|\n",
      "|        17|                  2|Under Armour Men'...|               null|       129.99|http://images.acm...|\n",
      "|         2|                  2|Under Armour Men'...|               null|       129.99|http://images.acm...|\n",
      "|        10|                  2|Under Armour Men'...|               null|       129.99|http://images.acm...|\n",
      "|        19|                  2|Nike Men's Finger...|               null|       124.99|http://images.acm...|\n",
      "|         7|                  2|Schutt Youth Recr...|               null|        99.99|http://images.acm...|\n",
      "|         3|                  2|Under Armour Men'...|               null|        89.99|http://images.acm...|\n",
      "|         4|                  2|Under Armour Men'...|               null|        89.99|http://images.acm...|\n",
      "|        13|                  2|Under Armour Men'...|               null|        89.99|http://images.acm...|\n",
      "|        24|                  2|Elevation Trainin...|               null|        79.99|http://images.acm...|\n",
      "|        15|                  2|Under Armour Kids...|               null|        59.99|http://images.acm...|\n",
      "|         1|                  2|Quest Q64 10 FT. ...|               null|        59.98|http://images.acm...|\n",
      "+----------+-------------------+--------------------+-------------------+-------------+--------------------+\n",
      "only showing top 20 rows\n",
      "\n"
     ]
    }
   ],
   "source": [
    "(products_df\n",
    " .orderBy(['product_category_id', 'product_price'], ascending=[1,0])\n",
    " .show()\n",
    ")"
   ]
  },
  {
   "cell_type": "markdown",
   "metadata": {},
   "source": [
    "## 4.10 Get the Customer Id with max revenue on daily basis:"
   ]
  },
  {
   "cell_type": "markdown",
   "metadata": {},
   "source": [
    "** sortN: get top 5 products by price overall, globalSortingExamples **"
   ]
  },
  {
   "cell_type": "markdown",
   "metadata": {},
   "source": [
    "**sort: sortingByKeyExamples, sort() by price per category**"
   ]
  },
  {
   "cell_type": "markdown",
   "metadata": {},
   "source": [
    "** topN: For each product category get the top 5 records. i.e. top 5 products in each category (some of the products may have same price so the top 5 products will be distinct products but their prices may not be distinct 5, so the number of distinct prices <= 5 in the top5 **  \n",
    "rankingByKeyExamples  \n",
    "productsGroupBy.flatMap(getTopN(_, 5)).collect().foreach(println)"
   ]
  },
  {
   "cell_type": "markdown",
   "metadata": {},
   "source": [
    "**topDenseN:For each category get top 3 priced products i.e. if there are 10 products with top 3 prices, the RDD should give us all 10 products, so all the procducts will be distinct as well as we will get 3 different distinct prices too**  \n",
    "rankingByKeyExamples  \n",
    "productsGroupBy.flatMap(getTopDenseN(_, 3)).collect().foreach(println)"
   ]
  },
  {
   "cell_type": "code",
   "execution_count": null,
   "metadata": {
    "collapsed": true
   },
   "outputs": [],
   "source": []
  },
  {
   "cell_type": "code",
   "execution_count": null,
   "metadata": {
    "collapsed": true
   },
   "outputs": [],
   "source": []
  },
  {
   "cell_type": "code",
   "execution_count": null,
   "metadata": {
    "collapsed": true
   },
   "outputs": [],
   "source": []
  },
  {
   "cell_type": "code",
   "execution_count": null,
   "metadata": {
    "collapsed": true
   },
   "outputs": [],
   "source": []
  },
  {
   "cell_type": "code",
   "execution_count": 46,
   "metadata": {
    "collapsed": true
   },
   "outputs": [],
   "source": [
    "spark.stop()"
   ]
  },
  {
   "cell_type": "code",
   "execution_count": null,
   "metadata": {
    "collapsed": true
   },
   "outputs": [],
   "source": []
  }
 ],
 "metadata": {
  "kernelspec": {
   "display_name": "Python 3",
   "language": "python",
   "name": "python3"
  },
  "language_info": {
   "codemirror_mode": {
    "name": "ipython",
    "version": 3
   },
   "file_extension": ".py",
   "mimetype": "text/x-python",
   "name": "python",
   "nbconvert_exporter": "python",
   "pygments_lexer": "ipython3",
   "version": "3.5.3"
  },
  "toc": {
   "colors": {
    "hover_highlight": "#DAA520",
    "navigate_num": "#000000",
    "navigate_text": "#333333",
    "running_highlight": "#FF0000",
    "selected_highlight": "#FFD700",
    "sidebar_border": "#EEEEEE",
    "wrapper_background": "#FFFFFF"
   },
   "moveMenuLeft": true,
   "nav_menu": {
    "height": "212px",
    "width": "252px"
   },
   "navigate_menu": true,
   "number_sections": true,
   "sideBar": true,
   "threshold": 4,
   "toc_cell": false,
   "toc_section_display": "block",
   "toc_window_display": false,
   "widenNotebook": false
  }
 },
 "nbformat": 4,
 "nbformat_minor": 2
}
