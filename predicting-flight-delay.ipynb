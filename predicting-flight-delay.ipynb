{
 "cells": [
  {
   "cell_type": "code",
   "execution_count": 5,
   "metadata": {
    "collapsed": true
   },
   "outputs": [],
   "source": [
    "import os\n",
    "import pandas as pd\n",
    "import numpy as np\n",
    "\n",
    "from pyspark import SparkConf, SparkContext\n",
    "from pyspark.sql import SparkSession, SQLContext\n",
    "\n",
    "from pyspark.sql.types import *"
   ]
  },
  {
   "cell_type": "code",
   "execution_count": 6,
   "metadata": {
    "collapsed": true
   },
   "outputs": [],
   "source": [
    "import seaborn as sns\n",
    "import matplotlib.pyplot as plt"
   ]
  },
  {
   "cell_type": "code",
   "execution_count": 7,
   "metadata": {
    "collapsed": true
   },
   "outputs": [],
   "source": [
    "%matplotlib inline"
   ]
  },
  {
   "cell_type": "code",
   "execution_count": 8,
   "metadata": {},
   "outputs": [
    {
     "data": {
      "text/plain": [
       "'/Users/anindyas/work/spark-2.2.0-bin-hadoop2.6'"
      ]
     },
     "execution_count": 8,
     "metadata": {},
     "output_type": "execute_result"
    }
   ],
   "source": [
    "os.environ['SPARK_HOME']"
   ]
  },
  {
   "cell_type": "code",
   "execution_count": 9,
   "metadata": {
    "collapsed": true
   },
   "outputs": [],
   "source": [
    "spark = SparkSession.builder.master(\"local[2]\").appName(\"pyspark-jupyter\").getOrCreate()"
   ]
  },
  {
   "cell_type": "code",
   "execution_count": 10,
   "metadata": {},
   "outputs": [
    {
     "data": {
      "text/html": [
       "\n",
       "            <div>\n",
       "                <p><b>SparkSession - in-memory</b></p>\n",
       "                \n",
       "        <div>\n",
       "            <p><b>SparkContext</b></p>\n",
       "\n",
       "            <p><a href=\"http://10.0.0.151:4040\">Spark UI</a></p>\n",
       "\n",
       "            <dl>\n",
       "              <dt>Version</dt>\n",
       "                <dd><code>v2.2.0</code></dd>\n",
       "              <dt>Master</dt>\n",
       "                <dd><code>local[2]</code></dd>\n",
       "              <dt>AppName</dt>\n",
       "                <dd><code>pyspark-jupyter</code></dd>\n",
       "            </dl>\n",
       "        </div>\n",
       "        \n",
       "            </div>\n",
       "        "
      ],
      "text/plain": [
       "<pyspark.sql.session.SparkSession at 0x117eba8d0>"
      ]
     },
     "execution_count": 10,
     "metadata": {},
     "output_type": "execute_result"
    }
   ],
   "source": [
    "spark"
   ]
  },
  {
   "cell_type": "code",
   "execution_count": 11,
   "metadata": {},
   "outputs": [
    {
     "data": {
      "text/html": [
       "\n",
       "        <div>\n",
       "            <p><b>SparkContext</b></p>\n",
       "\n",
       "            <p><a href=\"http://10.0.0.151:4040\">Spark UI</a></p>\n",
       "\n",
       "            <dl>\n",
       "              <dt>Version</dt>\n",
       "                <dd><code>v2.2.0</code></dd>\n",
       "              <dt>Master</dt>\n",
       "                <dd><code>local[2]</code></dd>\n",
       "              <dt>AppName</dt>\n",
       "                <dd><code>pyspark-jupyter</code></dd>\n",
       "            </dl>\n",
       "        </div>\n",
       "        "
      ],
      "text/plain": [
       "<SparkContext master=local[2] appName=pyspark-jupyter>"
      ]
     },
     "execution_count": 11,
     "metadata": {},
     "output_type": "execute_result"
    }
   ],
   "source": [
    "sc = spark.sparkContext\n",
    "sc"
   ]
  },
  {
   "cell_type": "code",
   "execution_count": 12,
   "metadata": {},
   "outputs": [
    {
     "data": {
      "text/plain": [
       "<pyspark.sql.context.SQLContext at 0x117ebaa90>"
      ]
     },
     "execution_count": 12,
     "metadata": {},
     "output_type": "execute_result"
    }
   ],
   "source": [
    "sqlContext = SQLContext(spark.sparkContext)\n",
    "sqlContext"
   ]
  },
  {
   "cell_type": "code",
   "execution_count": 13,
   "metadata": {
    "collapsed": true
   },
   "outputs": [],
   "source": [
    "FLIGHTS_TRAIN_DATA = 'data/flights20170102.json'\n",
    "FLIGHTS_TEST_DATA = 'data/flights20170304.json'"
   ]
  },
  {
   "cell_type": "code",
   "execution_count": 14,
   "metadata": {
    "collapsed": true
   },
   "outputs": [],
   "source": [
    "schema = StructType([\n",
    "    StructField(\"_id\", StringType(), nullable=True),\n",
    "    StructField(\"dofW\", IntegerType(), nullable=True),\n",
    "    StructField(\"carrier\", StringType(), nullable=True),\n",
    "    StructField(\"origin\", StringType(), nullable=True),\n",
    "    StructField(\"dest\", StringType(), nullable=True),\n",
    "    StructField(\"crsdephour\", IntegerType(), nullable=True),\n",
    "    StructField(\"crsdeptime\", DoubleType(), nullable=True),\n",
    "    StructField(\"depdelay\", DoubleType(), nullable=True),\n",
    "    StructField(\"crsarrtime\", DoubleType(), nullable=True),\n",
    "    StructField(\"arrdelay\", DoubleType(), nullable=True),\n",
    "    StructField(\"crselapsedtime\", DoubleType(), nullable=True),\n",
    "    StructField(\"dist\", DoubleType(), nullable=True)]\n",
    "  )"
   ]
  },
  {
   "cell_type": "code",
   "execution_count": 15,
   "metadata": {
    "collapsed": true
   },
   "outputs": [],
   "source": [
    "train_df = spark.read.json(path=FLIGHTS_TRAIN_DATA, schema=schema).cache()"
   ]
  },
  {
   "cell_type": "code",
   "execution_count": 16,
   "metadata": {},
   "outputs": [
    {
     "data": {
      "text/plain": [
       "41348"
      ]
     },
     "execution_count": 16,
     "metadata": {},
     "output_type": "execute_result"
    }
   ],
   "source": [
    "train_df.count()"
   ]
  },
  {
   "cell_type": "code",
   "execution_count": 17,
   "metadata": {},
   "outputs": [
    {
     "name": "stdout",
     "output_type": "stream",
     "text": [
      "+--------------------+----+-------+------+----+----------+----------+--------+----------+--------+--------------+------+\n",
      "|                 _id|dofW|carrier|origin|dest|crsdephour|crsdeptime|depdelay|crsarrtime|arrdelay|crselapsedtime|  dist|\n",
      "+--------------------+----+-------+------+----+----------+----------+--------+----------+--------+--------------+------+\n",
      "|AA_2017-01-01_ATL...|   7|     AA|   ATL| LGA|        17|    1700.0|     0.0|    1912.0|     0.0|         132.0| 762.0|\n",
      "|AA_2017-01-01_LGA...|   7|     AA|   LGA| ATL|        13|    1343.0|     0.0|    1620.0|     0.0|         157.0| 762.0|\n",
      "|AA_2017-01-01_MIA...|   7|     AA|   MIA| ATL|         9|     939.0|     0.0|    1137.0|    10.0|         118.0| 594.0|\n",
      "|AA_2017-01-01_ORD...|   7|     AA|   ORD| MIA|        20|    2020.0|     0.0|      26.0|     0.0|         186.0|1197.0|\n",
      "|AA_2017-01-01_LGA...|   7|     AA|   LGA| MIA|         7|     700.0|     0.0|    1017.0|     0.0|         197.0|1096.0|\n",
      "+--------------------+----+-------+------+----+----------+----------+--------+----------+--------+--------------+------+\n",
      "only showing top 5 rows\n",
      "\n"
     ]
    }
   ],
   "source": [
    "train_df.show(5)"
   ]
  },
  {
   "cell_type": "code",
   "execution_count": 18,
   "metadata": {
    "collapsed": true
   },
   "outputs": [],
   "source": [
    "test_df = spark.read.json(path=FLIGHTS_TEST_DATA, schema=schema).cache()"
   ]
  },
  {
   "cell_type": "code",
   "execution_count": 19,
   "metadata": {},
   "outputs": [
    {
     "data": {
      "text/plain": [
       "45448"
      ]
     },
     "execution_count": 19,
     "metadata": {},
     "output_type": "execute_result"
    }
   ],
   "source": [
    "test_df.count()"
   ]
  },
  {
   "cell_type": "code",
   "execution_count": 20,
   "metadata": {},
   "outputs": [
    {
     "name": "stdout",
     "output_type": "stream",
     "text": [
      "+--------------------+----+-------+------+----+----------+----------+--------+----------+--------+--------------+------+\n",
      "|                 _id|dofW|carrier|origin|dest|crsdephour|crsdeptime|depdelay|crsarrtime|arrdelay|crselapsedtime|  dist|\n",
      "+--------------------+----+-------+------+----+----------+----------+--------+----------+--------+--------------+------+\n",
      "|WN_2017-03-01_ATL...|   3|     WN|   ATL| BOS|         9|     930.0|     0.0|    1155.0|     0.0|         145.0| 946.0|\n",
      "|WN_2017-03-01_ATL...|   3|     WN|   ATL| BOS|        19|    1935.0|   243.0|    2215.0|   210.0|         160.0| 946.0|\n",
      "|WN_2017-03-01_ATL...|   3|     WN|   ATL| BOS|        12|    1235.0|    11.0|    1505.0|     0.0|         150.0| 946.0|\n",
      "|WN_2017-03-01_ATL...|   3|     WN|   ATL| DEN|        10|    1035.0|    28.0|    1200.0|    59.0|         205.0|1199.0|\n",
      "|WN_2017-03-01_ATL...|   3|     WN|   ATL| DEN|        13|    1330.0|    16.0|    1450.0|    29.0|         200.0|1199.0|\n",
      "+--------------------+----+-------+------+----+----------+----------+--------+----------+--------+--------------+------+\n",
      "only showing top 5 rows\n",
      "\n"
     ]
    }
   ],
   "source": [
    "test_df.show(5)"
   ]
  },
  {
   "cell_type": "code",
   "execution_count": 21,
   "metadata": {},
   "outputs": [
    {
     "name": "stdout",
     "output_type": "stream",
     "text": [
      "+-------+------------------+------------------+------------------+------------------+\n",
      "|summary|              dist|    crselapsedtime|          depdelay|          arrdelay|\n",
      "+-------+------------------+------------------+------------------+------------------+\n",
      "|  count|             41348|             41348|             41348|             41348|\n",
      "|   mean|1111.0529167069749|186.26264873754474|15.018719164167553|14.806907226468027|\n",
      "| stddev| 568.7941212507543| 68.38149648990039| 44.52963204436135| 44.22370513266647|\n",
      "|    min|             184.0|              64.0|               0.0|               0.0|\n",
      "|    max|            2704.0|             423.0|            1440.0|            1442.0|\n",
      "+-------+------------------+------------------+------------------+------------------+\n",
      "\n"
     ]
    }
   ],
   "source": [
    "train_df.describe([\"dist\", \"crselapsedtime\", \"depdelay\", \"arrdelay\"]).show()"
   ]
  },
  {
   "cell_type": "markdown",
   "metadata": {},
   "source": [
    "## Data Exploration\n",
    "\n",
    "We can use Spark SQL to explore the dataset. Here are some example queries using the Spark SQL:"
   ]
  },
  {
   "cell_type": "markdown",
   "metadata": {},
   "source": [
    "### Register Dataset as a Temporary View in order to explore with SQL"
   ]
  },
  {
   "cell_type": "code",
   "execution_count": 22,
   "metadata": {
    "collapsed": true
   },
   "outputs": [],
   "source": [
    "train_df.createOrReplaceTempView(\"train_flights\")"
   ]
  },
  {
   "cell_type": "markdown",
   "metadata": {},
   "source": [
    "### Top 5 longest departure delays"
   ]
  },
  {
   "cell_type": "code",
   "execution_count": 23,
   "metadata": {
    "collapsed": true
   },
   "outputs": [],
   "source": [
    "# Top 5 longest departure delays programmatically\n",
    "result_df = (train_df\n",
    "                .select([\"carrier\", \"origin\", \"dest\", \"depdelay\", \"crsdephour\", \"dist\", \"dofW\"])\n",
    "                .orderBy([\"depdelay\"], ascending=[0]).limit(5))"
   ]
  },
  {
   "cell_type": "code",
   "execution_count": 24,
   "metadata": {},
   "outputs": [
    {
     "name": "stdout",
     "output_type": "stream",
     "text": [
      "+-------+------+----+--------+----------+------+----+\n",
      "|carrier|origin|dest|depdelay|crsdephour|  dist|dofW|\n",
      "+-------+------+----+--------+----------+------+----+\n",
      "|     AA|   SFO| ORD|  1440.0|         8|1846.0|   3|\n",
      "|     DL|   BOS| ATL|  1185.0|        17| 946.0|   6|\n",
      "|     UA|   DEN| EWR|  1138.0|        12|1605.0|   4|\n",
      "|     DL|   ORD| ATL|  1087.0|        19| 606.0|   7|\n",
      "|     UA|   MIA| EWR|  1072.0|        20|1085.0|   1|\n",
      "+-------+------+----+--------+----------+------+----+\n",
      "\n"
     ]
    }
   ],
   "source": [
    "result_df.show()"
   ]
  },
  {
   "cell_type": "code",
   "execution_count": 25,
   "metadata": {
    "collapsed": true
   },
   "outputs": [],
   "source": [
    "# Top 5 longest departure delays using SQL\n",
    "sql_result_df = spark.sql(\"SELECT carrier, origin, dest, depdelay, crsdephour, dist, dofW FROM train_flights ORDER BY depdelay DESC LIMIT 5\")"
   ]
  },
  {
   "cell_type": "code",
   "execution_count": 26,
   "metadata": {},
   "outputs": [
    {
     "name": "stdout",
     "output_type": "stream",
     "text": [
      "+-------+------+----+--------+----------+------+----+\n",
      "|carrier|origin|dest|depdelay|crsdephour|  dist|dofW|\n",
      "+-------+------+----+--------+----------+------+----+\n",
      "|     AA|   SFO| ORD|  1440.0|         8|1846.0|   3|\n",
      "|     DL|   BOS| ATL|  1185.0|        17| 946.0|   6|\n",
      "|     UA|   DEN| EWR|  1138.0|        12|1605.0|   4|\n",
      "|     DL|   ORD| ATL|  1087.0|        19| 606.0|   7|\n",
      "|     UA|   MIA| EWR|  1072.0|        20|1085.0|   1|\n",
      "+-------+------+----+--------+----------+------+----+\n",
      "\n"
     ]
    }
   ],
   "source": [
    "sql_result_df.show()"
   ]
  },
  {
   "cell_type": "markdown",
   "metadata": {},
   "source": [
    "### Average Departure Delay by Carrier"
   ]
  },
  {
   "cell_type": "code",
   "execution_count": 27,
   "metadata": {
    "collapsed": true
   },
   "outputs": [],
   "source": [
    "# Average Departure Delay by Carrier using SQL\n",
    "sql_result_df = spark.sql(\"SELECT carrier, avg(depdelay) FROM train_flights GROUP BY carrier\")"
   ]
  },
  {
   "cell_type": "code",
   "execution_count": 28,
   "metadata": {},
   "outputs": [
    {
     "name": "stdout",
     "output_type": "stream",
     "text": [
      "+-------+------------------+\n",
      "|carrier|     avg(depdelay)|\n",
      "+-------+------------------+\n",
      "|     UA|17.477878450696764|\n",
      "|     AA| 10.45768118831622|\n",
      "|     DL|15.316061660865241|\n",
      "|     WN|13.491000418585182|\n",
      "+-------+------------------+\n",
      "\n"
     ]
    }
   ],
   "source": [
    "sql_result_df.show()"
   ]
  },
  {
   "cell_type": "code",
   "execution_count": 29,
   "metadata": {},
   "outputs": [
    {
     "data": {
      "image/png": "[encoded data removed]",
      "text/plain": [
       "<matplotlib.figure.Figure at 0x10d578e48>"
      ]
     },
     "metadata": {},
     "output_type": "display_data"
    }
   ],
   "source": [
    "sql_result_df.toPandas().plot(kind='bar', x='carrier');"
   ]
  },
  {
   "cell_type": "code",
   "execution_count": 30,
   "metadata": {
    "collapsed": true
   },
   "outputs": [],
   "source": [
    "# Average Departure Delay by Carrier programmatically\n",
    "result_df = (train_df\n",
    "                .select([\"carrier\", \"depdelay\"])\n",
    "                .groupBy([\"carrier\"])\n",
    "                .avg(\"depdelay\"))"
   ]
  },
  {
   "cell_type": "code",
   "execution_count": 31,
   "metadata": {},
   "outputs": [
    {
     "name": "stdout",
     "output_type": "stream",
     "text": [
      "+-------+------------------+\n",
      "|carrier|     avg(depdelay)|\n",
      "+-------+------------------+\n",
      "|     UA|17.477878450696764|\n",
      "|     AA| 10.45768118831622|\n",
      "|     DL|15.316061660865241|\n",
      "|     WN|13.491000418585182|\n",
      "+-------+------------------+\n",
      "\n"
     ]
    }
   ],
   "source": [
    "result_df.show()"
   ]
  },
  {
   "cell_type": "markdown",
   "metadata": {},
   "source": [
    "### Count of Departure Delays by Carrier (where delay>40 minutes)\n",
    "\n",
    "We want to predict flight delays where depdelay > 40 minutes, so let’s explore this data. Below, we see that United Airlines and Delta have the highest count of flight delays for January and February 2017 (the training set)."
   ]
  },
  {
   "cell_type": "code",
   "execution_count": 32,
   "metadata": {
    "collapsed": true
   },
   "outputs": [],
   "source": [
    "# Count of Departure Delays by Carrier (where delay=40 minutes) using SQL\n",
    "sql_result_df = spark.sql(\"SELECT carrier, count(depdelay) FROM train_flights WHERE depdelay > 40 GROUP BY carrier\")"
   ]
  },
  {
   "cell_type": "code",
   "execution_count": 33,
   "metadata": {},
   "outputs": [
    {
     "name": "stdout",
     "output_type": "stream",
     "text": [
      "+-------+---------------+\n",
      "|carrier|count(depdelay)|\n",
      "+-------+---------------+\n",
      "|     UA|           2420|\n",
      "|     AA|            757|\n",
      "|     DL|           1043|\n",
      "|     WN|            244|\n",
      "+-------+---------------+\n",
      "\n"
     ]
    }
   ],
   "source": [
    "sql_result_df.show()"
   ]
  },
  {
   "cell_type": "code",
   "execution_count": 34,
   "metadata": {},
   "outputs": [
    {
     "data": {
      "image/png": "[encoded data removed]",
      "text/plain": [
       "<matplotlib.figure.Figure at 0x11b22e5c0>"
      ]
     },
     "metadata": {},
     "output_type": "display_data"
    }
   ],
   "source": [
    "sql_result_df.toPandas().plot(kind='bar', x='carrier');"
   ]
  },
  {
   "cell_type": "code",
   "execution_count": 35,
   "metadata": {
    "collapsed": true
   },
   "outputs": [],
   "source": [
    "# Count of Departure Delays by Carrier (where delay=40 minutes) programmatically\n",
    "result_df = (train_df\n",
    "                .select([\"carrier\", \"depdelay\"])\n",
    "                .where(\"depdelay > 40\")\n",
    "                .groupBy([\"carrier\"])\n",
    "                .count())"
   ]
  },
  {
   "cell_type": "code",
   "execution_count": 36,
   "metadata": {},
   "outputs": [
    {
     "name": "stdout",
     "output_type": "stream",
     "text": [
      "+-------+-----+\n",
      "|carrier|count|\n",
      "+-------+-----+\n",
      "|     UA| 2420|\n",
      "|     AA|  757|\n",
      "|     DL| 1043|\n",
      "|     WN|  244|\n",
      "+-------+-----+\n",
      "\n"
     ]
    }
   ],
   "source": [
    "result_df.show()"
   ]
  },
  {
   "cell_type": "markdown",
   "metadata": {},
   "source": [
    "### Count of Departure Delays by Day of the Week (1=Monday, 7=Sunday)\n",
    "\n",
    "In the query below, we see that Monday, Tuesday and Sunday have the highest count of flight delays."
   ]
  },
  {
   "cell_type": "code",
   "execution_count": 37,
   "metadata": {
    "collapsed": true
   },
   "outputs": [],
   "source": [
    "### Count of Departure Delays by Day of the Week (where delay=40 minutes) using SQL\n",
    "sql_result_df = spark.sql(\"SELECT dofW, count(depdelay) FROM train_flights WHERE depdelay > 40 GROUP BY dofW ORDER BY dofW\")"
   ]
  },
  {
   "cell_type": "code",
   "execution_count": 38,
   "metadata": {
    "scrolled": true
   },
   "outputs": [
    {
     "name": "stdout",
     "output_type": "stream",
     "text": [
      "+----+---------------+\n",
      "|dofW|count(depdelay)|\n",
      "+----+---------------+\n",
      "|   1|            940|\n",
      "|   2|            712|\n",
      "|   3|            482|\n",
      "|   4|            626|\n",
      "|   5|            579|\n",
      "|   6|            424|\n",
      "|   7|            701|\n",
      "+----+---------------+\n",
      "\n"
     ]
    }
   ],
   "source": [
    "sql_result_df.show()"
   ]
  },
  {
   "cell_type": "code",
   "execution_count": 39,
   "metadata": {},
   "outputs": [
    {
     "data": {
      "image/png": "[encoded data removed]",
      "text/plain": [
       "<matplotlib.figure.Figure at 0x11b22ed30>"
      ]
     },
     "metadata": {},
     "output_type": "display_data"
    }
   ],
   "source": [
    "sql_result_df.toPandas().plot(kind='bar', x='dofW');"
   ]
  },
  {
   "cell_type": "markdown",
   "metadata": {},
   "source": [
    "However, we can see that the days are marked as 1, 2, ... ,7 and not Monday, Tuesday, ... ,Sunday. We can develop a UserDefined function to get the custom labels. UDF (User defined functions) and UDAF (User defined aggregate functions) are key components of big data languages such as Pig and Hive. They allow to extend the language constructs to do adhoc processing on distributed dataset. This can be also applied to Spark. https://ragrawal.wordpress.com/2015/10/02/spark-custom-udf-example/\n",
    "\n",
    "**Use UDF with DataFrames**"
   ]
  },
  {
   "cell_type": "code",
   "execution_count": 40,
   "metadata": {
    "collapsed": true
   },
   "outputs": [],
   "source": [
    "weekday = {1 : \"Monday\", 2 : \"Tuesday\", 3 : \"Wednesday\",  4 : \"Thursday\", 5 : \"Friday\", 6 : \"Saturday\", 7 : \"Sunday\"}"
   ]
  },
  {
   "cell_type": "code",
   "execution_count": 41,
   "metadata": {
    "collapsed": true
   },
   "outputs": [],
   "source": [
    "from pyspark.sql.functions import udf\n",
    "\n",
    "# Define udf\n",
    "udfdofwToweekday = udf(lambda x: weekday[x], StringType())"
   ]
  },
  {
   "cell_type": "code",
   "execution_count": 42,
   "metadata": {
    "collapsed": true
   },
   "outputs": [],
   "source": [
    "# Instead of a lambda function as in the above cell we could have also defined as a function and registered that as a udf\n",
    "#def dofwToweekday(x):\n",
    "#    return weekday[x]\n",
    "#udfdofwToweekday = udf(dofwToweekday, StringType())"
   ]
  },
  {
   "cell_type": "code",
   "execution_count": 43,
   "metadata": {
    "collapsed": true
   },
   "outputs": [],
   "source": [
    "sql_result_df = sql_result_df.withColumn(\"weekday\", udfdofwToweekday(\"dofW\"))"
   ]
  },
  {
   "cell_type": "code",
   "execution_count": 44,
   "metadata": {},
   "outputs": [
    {
     "name": "stdout",
     "output_type": "stream",
     "text": [
      "+----+---------------+---------+\n",
      "|dofW|count(depdelay)|  weekday|\n",
      "+----+---------------+---------+\n",
      "|   1|            940|   Monday|\n",
      "|   2|            712|  Tuesday|\n",
      "|   3|            482|Wednesday|\n",
      "|   4|            626| Thursday|\n",
      "|   5|            579|   Friday|\n",
      "|   6|            424| Saturday|\n",
      "|   7|            701|   Sunday|\n",
      "+----+---------------+---------+\n",
      "\n"
     ]
    }
   ],
   "source": [
    "sql_result_df.show()"
   ]
  },
  {
   "cell_type": "code",
   "execution_count": 45,
   "metadata": {},
   "outputs": [
    {
     "data": {
      "image/png": "[encoded data removed]",
      "text/plain": [
       "<matplotlib.figure.Figure at 0x11b2b5978>"
      ]
     },
     "metadata": {},
     "output_type": "display_data"
    }
   ],
   "source": [
    "sql_result_df.toPandas()[['weekday', 'count(depdelay)']].plot(kind='bar', x='weekday');"
   ]
  },
  {
   "cell_type": "markdown",
   "metadata": {},
   "source": [
    "Now we can see that days are marked by names."
   ]
  },
  {
   "cell_type": "code",
   "execution_count": 46,
   "metadata": {
    "collapsed": true
   },
   "outputs": [],
   "source": [
    "# Count of Departure Delays by Day of the Week (where delay=40 minutes) programatically\n",
    "# We can replicate same aliasing using programatic syntax\n",
    "result_df = (train_df\n",
    "                .select([\"dofW\", udfdofwToweekday(\"dofW\").alias(\"weekday\")])\n",
    "                .where(\"depdelay > 40\")\n",
    "                .groupBy([\"dofW\", \"weekday\"])\n",
    "                .count()\n",
    "                .orderBy([\"dofW\"]))"
   ]
  },
  {
   "cell_type": "code",
   "execution_count": 47,
   "metadata": {},
   "outputs": [
    {
     "name": "stdout",
     "output_type": "stream",
     "text": [
      "+----+---------+-----+\n",
      "|dofW|  weekday|count|\n",
      "+----+---------+-----+\n",
      "|   1|   Monday|  940|\n",
      "|   2|  Tuesday|  712|\n",
      "|   3|Wednesday|  482|\n",
      "|   4| Thursday|  626|\n",
      "|   5|   Friday|  579|\n",
      "|   6| Saturday|  424|\n",
      "|   7|   Sunday|  701|\n",
      "+----+---------+-----+\n",
      "\n"
     ]
    }
   ],
   "source": [
    "result_df.show()"
   ]
  },
  {
   "cell_type": "markdown",
   "metadata": {},
   "source": [
    "**Use UDF with SQL**"
   ]
  },
  {
   "cell_type": "code",
   "execution_count": 48,
   "metadata": {
    "collapsed": true
   },
   "outputs": [],
   "source": [
    "# in order to use an udf with sql it needs to be registerd to sqlContext\n",
    "sqlContext.udf.register(\"udfdofwToweekday\", lambda dofW: weekday[dofW], StringType())"
   ]
  },
  {
   "cell_type": "code",
   "execution_count": 49,
   "metadata": {
    "collapsed": true
   },
   "outputs": [],
   "source": [
    "### Count of Departure Delays by Day of the Week (where delay=40 minutes)\n",
    "sql_result_df = spark.sql(\"SELECT dofW, udfdofwToweekday(dofW) as weekday, count(depdelay) FROM train_flights WHERE depdelay > 40 GROUP BY dofW, weekday ORDER BY dofW\")"
   ]
  },
  {
   "cell_type": "code",
   "execution_count": 50,
   "metadata": {},
   "outputs": [
    {
     "name": "stdout",
     "output_type": "stream",
     "text": [
      "+----+---------+---------------+\n",
      "|dofW|  weekday|count(depdelay)|\n",
      "+----+---------+---------------+\n",
      "|   1|   Monday|            940|\n",
      "|   2|  Tuesday|            712|\n",
      "|   3|Wednesday|            482|\n",
      "|   4| Thursday|            626|\n",
      "|   5|   Friday|            579|\n",
      "|   6| Saturday|            424|\n",
      "|   7|   Sunday|            701|\n",
      "+----+---------+---------------+\n",
      "\n"
     ]
    }
   ],
   "source": [
    "sql_result_df.show()"
   ]
  },
  {
   "cell_type": "markdown",
   "metadata": {},
   "source": [
    "### Count of Departure Delays by Hour of Day\n",
    "\n",
    "In the query below, we see that the hours between 13:00-19:00 have the highest count of flight delays."
   ]
  },
  {
   "cell_type": "code",
   "execution_count": 53,
   "metadata": {
    "collapsed": true
   },
   "outputs": [],
   "source": [
    "# Count of Departure Delays by Hour of Day using SQL\n",
    "sql_result_df = spark.sql(\"SELECT crsdephour, count(depdelay) as total FROM train_flights WHERE depdelay > 40 GROUP BY crsdephour ORDER BY crsdephour\")"
   ]
  },
  {
   "cell_type": "code",
   "execution_count": 54,
   "metadata": {
    "scrolled": false
   },
   "outputs": [
    {
     "name": "stdout",
     "output_type": "stream",
     "text": [
      "+----------+-----+\n",
      "|crsdephour|total|\n",
      "+----------+-----+\n",
      "|         0|    9|\n",
      "|         1|    1|\n",
      "|         5|   15|\n",
      "|         6|   68|\n",
      "|         7|  112|\n",
      "|         8|  190|\n",
      "|         9|  175|\n",
      "|        10|  284|\n",
      "|        11|  280|\n",
      "|        12|  227|\n",
      "|        13|  336|\n",
      "|        14|  353|\n",
      "|        15|  331|\n",
      "|        16|  351|\n",
      "|        17|  474|\n",
      "|        18|  396|\n",
      "|        19|  371|\n",
      "|        20|  230|\n",
      "|        21|  160|\n",
      "|        22|   65|\n",
      "+----------+-----+\n",
      "only showing top 20 rows\n",
      "\n"
     ]
    }
   ],
   "source": [
    "sql_result_df.show()"
   ]
  },
  {
   "cell_type": "code",
   "execution_count": 55,
   "metadata": {},
   "outputs": [
    {
     "data": {
      "image/png": "[encoded data removed]",
      "text/plain": [
       "<matplotlib.figure.Figure at 0x11b4cffd0>"
      ]
     },
     "metadata": {},
     "output_type": "display_data"
    }
   ],
   "source": [
    "sql_result_df.toPandas().plot(kind='bar', x='crsdephour');"
   ]
  },
  {
   "cell_type": "code",
   "execution_count": 56,
   "metadata": {
    "collapsed": true
   },
   "outputs": [],
   "source": [
    "# Count of Departure Delays by Hour of Day using SQL programmatically\n",
    "result_df = (train_df\n",
    "                .select([\"crsdephour\", \"depdelay\"])\n",
    "                .where(\"depdelay > 40\")\n",
    "                .groupBy([\"crsdephour\"])\n",
    "                .count()\n",
    "                .withColumnRenamed(\"count\", \"total\")\n",
    "                .orderBy([\"crsdephour\"], ascending=[1]))"
   ]
  },
  {
   "cell_type": "code",
   "execution_count": 57,
   "metadata": {},
   "outputs": [
    {
     "name": "stdout",
     "output_type": "stream",
     "text": [
      "+----------+-----+\n",
      "|crsdephour|total|\n",
      "+----------+-----+\n",
      "|         0|    9|\n",
      "|         1|    1|\n",
      "|         5|   15|\n",
      "|         6|   68|\n",
      "|         7|  112|\n",
      "|         8|  190|\n",
      "|         9|  175|\n",
      "|        10|  284|\n",
      "|        11|  280|\n",
      "|        12|  227|\n",
      "|        13|  336|\n",
      "|        14|  353|\n",
      "|        15|  331|\n",
      "|        16|  351|\n",
      "|        17|  474|\n",
      "|        18|  396|\n",
      "|        19|  371|\n",
      "|        20|  230|\n",
      "|        21|  160|\n",
      "|        22|   65|\n",
      "+----------+-----+\n",
      "only showing top 20 rows\n",
      "\n"
     ]
    }
   ],
   "source": [
    "result_df.show()"
   ]
  },
  {
   "cell_type": "markdown",
   "metadata": {},
   "source": [
    "### Count of Departure Delays by Origin\n",
    "\n",
    "In the query below, we see that the origin airports Chicago and Atlanta have the highest count of flight delays."
   ]
  },
  {
   "cell_type": "code",
   "execution_count": 58,
   "metadata": {
    "collapsed": true
   },
   "outputs": [],
   "source": [
    "# Count of Departure Delays by Hour of Day using SQL\n",
    "sql_result_df = spark.sql(\"SELECT origin, count(depdelay) as total FROM train_flights WHERE depdelay > 40 GROUP BY origin ORDER BY total desc\")"
   ]
  },
  {
   "cell_type": "code",
   "execution_count": 59,
   "metadata": {
    "scrolled": false
   },
   "outputs": [
    {
     "name": "stdout",
     "output_type": "stream",
     "text": [
      "+------+-----+\n",
      "|origin|total|\n",
      "+------+-----+\n",
      "|   ORD|  679|\n",
      "|   ATL|  637|\n",
      "|   SFO|  542|\n",
      "|   EWR|  518|\n",
      "|   DEN|  484|\n",
      "|   IAH|  447|\n",
      "|   LGA|  432|\n",
      "|   MIA|  429|\n",
      "|   BOS|  296|\n",
      "+------+-----+\n",
      "\n"
     ]
    }
   ],
   "source": [
    "sql_result_df.show()"
   ]
  },
  {
   "cell_type": "code",
   "execution_count": 60,
   "metadata": {},
   "outputs": [
    {
     "data": {
      "image/png": "[encoded data removed]",
      "text/plain": [
       "<matplotlib.figure.Figure at 0x11b5aa2b0>"
      ]
     },
     "metadata": {},
     "output_type": "display_data"
    }
   ],
   "source": [
    "sql_result_df.toPandas().plot(kind='bar', x='origin');"
   ]
  },
  {
   "cell_type": "code",
   "execution_count": 61,
   "metadata": {
    "collapsed": true
   },
   "outputs": [],
   "source": [
    "# Count of Departure Delays by Hour of Day using SQL programmatically\n",
    "result_df = (train_df\n",
    "                .select([\"origin\", \"depdelay\"])\n",
    "                .where(\"depdelay > 40\")\n",
    "                .groupBy([\"origin\"])\n",
    "                .count()\n",
    "                .withColumnRenamed(\"count\", \"total\")\n",
    "                .orderBy([\"total\"], ascending=[0]))"
   ]
  },
  {
   "cell_type": "code",
   "execution_count": 62,
   "metadata": {
    "scrolled": true
   },
   "outputs": [
    {
     "name": "stdout",
     "output_type": "stream",
     "text": [
      "+------+-----+\n",
      "|origin|total|\n",
      "+------+-----+\n",
      "|   ORD|  679|\n",
      "|   ATL|  637|\n",
      "|   SFO|  542|\n",
      "|   EWR|  518|\n",
      "|   DEN|  484|\n",
      "|   IAH|  447|\n",
      "|   LGA|  432|\n",
      "|   MIA|  429|\n",
      "|   BOS|  296|\n",
      "+------+-----+\n",
      "\n"
     ]
    }
   ],
   "source": [
    "result_df.show()"
   ]
  },
  {
   "cell_type": "markdown",
   "metadata": {},
   "source": [
    "### Count of Departure Delays by Destination\n",
    "\n",
    "In the query below, we see that the destination airports San Francisco and Newark have the highest count of flight delays."
   ]
  },
  {
   "cell_type": "code",
   "execution_count": 63,
   "metadata": {
    "collapsed": true
   },
   "outputs": [],
   "source": [
    "# Count of Departure Delays by Hour of Day using SQL\n",
    "sql_result_df = spark.sql(\"SELECT dest, count(depdelay) as total FROM train_flights WHERE depdelay > 40 GROUP BY dest ORDER BY total desc\")"
   ]
  },
  {
   "cell_type": "code",
   "execution_count": 64,
   "metadata": {
    "scrolled": false
   },
   "outputs": [
    {
     "name": "stdout",
     "output_type": "stream",
     "text": [
      "+----+-----+\n",
      "|dest|total|\n",
      "+----+-----+\n",
      "| SFO|  711|\n",
      "| EWR|  620|\n",
      "| ORD|  593|\n",
      "| ATL|  547|\n",
      "| LGA|  535|\n",
      "| DEN|  397|\n",
      "| MIA|  385|\n",
      "| BOS|  343|\n",
      "| IAH|  333|\n",
      "+----+-----+\n",
      "\n"
     ]
    }
   ],
   "source": [
    "sql_result_df.show()"
   ]
  },
  {
   "cell_type": "code",
   "execution_count": 65,
   "metadata": {},
   "outputs": [
    {
     "data": {
      "image/png": "[encoded data removed]",
      "text/plain": [
       "<matplotlib.figure.Figure at 0x11b5f6e10>"
      ]
     },
     "metadata": {},
     "output_type": "display_data"
    }
   ],
   "source": [
    "sql_result_df.toPandas().plot(kind='bar', x='dest');"
   ]
  },
  {
   "cell_type": "code",
   "execution_count": 66,
   "metadata": {
    "collapsed": true
   },
   "outputs": [],
   "source": [
    "# Count of Departure Delays by Hour of Day using SQL programmatically\n",
    "result_df = (train_df\n",
    "                .select([\"dest\", \"depdelay\"])\n",
    "                .where(\"depdelay > 40\")\n",
    "                .groupBy([\"dest\"])\n",
    "                .count()\n",
    "                .withColumnRenamed(\"count\", \"total\")\n",
    "                .orderBy([\"total\"], ascending=[0]))"
   ]
  },
  {
   "cell_type": "code",
   "execution_count": 67,
   "metadata": {
    "scrolled": false
   },
   "outputs": [
    {
     "name": "stdout",
     "output_type": "stream",
     "text": [
      "+----+-----+\n",
      "|dest|total|\n",
      "+----+-----+\n",
      "| SFO|  711|\n",
      "| EWR|  620|\n",
      "| ORD|  593|\n",
      "| ATL|  547|\n",
      "| LGA|  535|\n",
      "| DEN|  397|\n",
      "| MIA|  385|\n",
      "| BOS|  343|\n",
      "| IAH|  333|\n",
      "+----+-----+\n",
      "\n"
     ]
    }
   ],
   "source": [
    "result_df.show()"
   ]
  },
  {
   "cell_type": "markdown",
   "metadata": {},
   "source": [
    "### Count of Departure Delays by Origin, Destination\n",
    "\n",
    "In the query below, we see the count of departure delays by Origin and destination. The routes ORD -> SFO and DEN -> SFO have the highest delays, maybe because of weather in January and February. Adding weather to this dataset would give better results, but that is left as an exercise for the reader."
   ]
  },
  {
   "cell_type": "code",
   "execution_count": 68,
   "metadata": {
    "collapsed": true
   },
   "outputs": [],
   "source": [
    "# Count of Departure Delays by Hour of Day using SQL\n",
    "sql_result_df = spark.sql(\"SELECT origin, dest, count(depdelay) as total FROM train_flights WHERE depdelay > 40 GROUP BY origin, dest ORDER BY count(depdelay) desc\")"
   ]
  },
  {
   "cell_type": "code",
   "execution_count": 69,
   "metadata": {
    "scrolled": false
   },
   "outputs": [
    {
     "name": "stdout",
     "output_type": "stream",
     "text": [
      "+------+----+-----+\n",
      "|origin|dest|total|\n",
      "+------+----+-----+\n",
      "|   DEN| SFO|  172|\n",
      "|   ORD| SFO|  168|\n",
      "|   ATL| LGA|  155|\n",
      "|   ATL| EWR|  141|\n",
      "|   SFO| DEN|  134|\n",
      "|   LGA| ATL|  130|\n",
      "|   ORD| EWR|  122|\n",
      "|   SFO| ORD|  118|\n",
      "|   EWR| ORD|  115|\n",
      "|   ORD| LGA|  100|\n",
      "|   IAH| SFO|   98|\n",
      "|   IAH| EWR|   94|\n",
      "|   MIA| LGA|   92|\n",
      "|   ORD| ATL|   88|\n",
      "|   LGA| ORD|   88|\n",
      "|   ATL| SFO|   87|\n",
      "|   LGA| MIA|   81|\n",
      "|   SFO| EWR|   79|\n",
      "|   EWR| SFO|   77|\n",
      "|   ORD| DEN|   76|\n",
      "+------+----+-----+\n",
      "only showing top 20 rows\n",
      "\n"
     ]
    }
   ],
   "source": [
    "sql_result_df.show()"
   ]
  },
  {
   "cell_type": "code",
   "execution_count": 70,
   "metadata": {},
   "outputs": [
    {
     "data": {
      "image/png": "[encoded data removed]",
      "text/plain": [
       "<matplotlib.figure.Figure at 0x11b5f6e80>"
      ]
     },
     "metadata": {},
     "output_type": "display_data"
    }
   ],
   "source": [
    "plt.figure(figsize=(16, 4))\n",
    "sns.barplot(x=\"origin\", y=\"total\", hue=\"dest\", data=sql_result_df.toPandas());"
   ]
  },
  {
   "cell_type": "code",
   "execution_count": 71,
   "metadata": {
    "collapsed": true
   },
   "outputs": [],
   "source": [
    "# Count of Departure Delays by Hour of Day using SQL programmatically\n",
    "result_df = (train_df\n",
    "                .select([\"origin\", \"dest\"])\n",
    "                .where(\"depdelay > 40\")\n",
    "                .groupBy([\"origin\", \"dest\"])\n",
    "                .count()\n",
    "                .withColumnRenamed(\"count\", \"total\")\n",
    "                .orderBy([\"total\"], ascending=[0]))"
   ]
  },
  {
   "cell_type": "code",
   "execution_count": 72,
   "metadata": {
    "scrolled": false
   },
   "outputs": [
    {
     "name": "stdout",
     "output_type": "stream",
     "text": [
      "+------+----+-----+\n",
      "|origin|dest|total|\n",
      "+------+----+-----+\n",
      "|   DEN| SFO|  172|\n",
      "|   ORD| SFO|  168|\n",
      "|   ATL| LGA|  155|\n",
      "|   ATL| EWR|  141|\n",
      "|   SFO| DEN|  134|\n",
      "|   LGA| ATL|  130|\n",
      "|   ORD| EWR|  122|\n",
      "|   SFO| ORD|  118|\n",
      "|   EWR| ORD|  115|\n",
      "|   ORD| LGA|  100|\n",
      "|   IAH| SFO|   98|\n",
      "|   IAH| EWR|   94|\n",
      "|   MIA| LGA|   92|\n",
      "|   ORD| ATL|   88|\n",
      "|   LGA| ORD|   88|\n",
      "|   ATL| SFO|   87|\n",
      "|   LGA| MIA|   81|\n",
      "|   SFO| EWR|   79|\n",
      "|   EWR| SFO|   77|\n",
      "|   ORD| DEN|   76|\n",
      "+------+----+-----+\n",
      "only showing top 20 rows\n",
      "\n"
     ]
    }
   ],
   "source": [
    "result_df.show()"
   ]
  },
  {
   "cell_type": "markdown",
   "metadata": {},
   "source": [
    "## Add labels for Delayed Flights and Count\n",
    "\n",
    "In the code below, a Spark Bucketizer is used to split the dataset into delayed and not delayed flights with a delayed 0/1 column. Then, the resulting total counts are displayed. Grouping the data by the delayed field and counting the number of instances in each group shows that there are roughly eight times as many not delayed samples as delayed samples."
   ]
  },
  {
   "cell_type": "code",
   "execution_count": 73,
   "metadata": {},
   "outputs": [
    {
     "name": "stdout",
     "output_type": "stream",
     "text": [
      "+--------------------+----+-------+------+----+----------+----------+--------+----------+--------+--------------+------+\n",
      "|                 _id|dofW|carrier|origin|dest|crsdephour|crsdeptime|depdelay|crsarrtime|arrdelay|crselapsedtime|  dist|\n",
      "+--------------------+----+-------+------+----+----------+----------+--------+----------+--------+--------------+------+\n",
      "|AA_2017-01-01_ATL...|   7|     AA|   ATL| LGA|        17|    1700.0|     0.0|    1912.0|     0.0|         132.0| 762.0|\n",
      "|AA_2017-01-01_LGA...|   7|     AA|   LGA| ATL|        13|    1343.0|     0.0|    1620.0|     0.0|         157.0| 762.0|\n",
      "|AA_2017-01-01_MIA...|   7|     AA|   MIA| ATL|         9|     939.0|     0.0|    1137.0|    10.0|         118.0| 594.0|\n",
      "|AA_2017-01-01_ORD...|   7|     AA|   ORD| MIA|        20|    2020.0|     0.0|      26.0|     0.0|         186.0|1197.0|\n",
      "|AA_2017-01-01_LGA...|   7|     AA|   LGA| MIA|         7|     700.0|     0.0|    1017.0|     0.0|         197.0|1096.0|\n",
      "+--------------------+----+-------+------+----+----------+----------+--------+----------+--------+--------------+------+\n",
      "only showing top 5 rows\n",
      "\n"
     ]
    }
   ],
   "source": [
    "train_df.show(5)"
   ]
  },
  {
   "cell_type": "code",
   "execution_count": 74,
   "metadata": {
    "collapsed": true
   },
   "outputs": [],
   "source": [
    "from pyspark.ml.feature import Bucketizer\n",
    "bucketizer = Bucketizer(splits=[0.0, 40.0, float(\"inf\")], inputCol=\"depdelay\", outputCol=\"label\")"
   ]
  },
  {
   "cell_type": "code",
   "execution_count": 75,
   "metadata": {
    "collapsed": true
   },
   "outputs": [],
   "source": [
    "train_df = bucketizer.transform(train_df)"
   ]
  },
  {
   "cell_type": "code",
   "execution_count": 76,
   "metadata": {},
   "outputs": [
    {
     "name": "stdout",
     "output_type": "stream",
     "text": [
      "+-----+-----+\n",
      "|label|count|\n",
      "+-----+-----+\n",
      "|  0.0|36790|\n",
      "|  1.0| 4558|\n",
      "+-----+-----+\n",
      "\n"
     ]
    }
   ],
   "source": [
    "train_df.groupBy(\"label\").count().show()"
   ]
  },
  {
   "cell_type": "code",
   "execution_count": 77,
   "metadata": {},
   "outputs": [
    {
     "name": "stdout",
     "output_type": "stream",
     "text": [
      "+--------------------+----+-------+------+----+----------+----------+--------+----------+--------+--------------+------+-----+\n",
      "|                 _id|dofW|carrier|origin|dest|crsdephour|crsdeptime|depdelay|crsarrtime|arrdelay|crselapsedtime|  dist|label|\n",
      "+--------------------+----+-------+------+----+----------+----------+--------+----------+--------+--------------+------+-----+\n",
      "|AA_2017-01-01_ATL...|   7|     AA|   ATL| LGA|        17|    1700.0|     0.0|    1912.0|     0.0|         132.0| 762.0|  0.0|\n",
      "|AA_2017-01-01_LGA...|   7|     AA|   LGA| ATL|        13|    1343.0|     0.0|    1620.0|     0.0|         157.0| 762.0|  0.0|\n",
      "|AA_2017-01-01_MIA...|   7|     AA|   MIA| ATL|         9|     939.0|     0.0|    1137.0|    10.0|         118.0| 594.0|  0.0|\n",
      "|AA_2017-01-01_ORD...|   7|     AA|   ORD| MIA|        20|    2020.0|     0.0|      26.0|     0.0|         186.0|1197.0|  0.0|\n",
      "|AA_2017-01-01_LGA...|   7|     AA|   LGA| MIA|         7|     700.0|     0.0|    1017.0|     0.0|         197.0|1096.0|  0.0|\n",
      "+--------------------+----+-------+------+----+----------+----------+--------+----------+--------+--------------+------+-----+\n",
      "only showing top 5 rows\n",
      "\n"
     ]
    }
   ],
   "source": [
    "train_df.show(5)"
   ]
  },
  {
   "cell_type": "markdown",
   "metadata": {},
   "source": [
    "### Create a stacked bar plot of count of departure delays by Origin\n",
    "\n",
    "In the query below, we see the count of not delayed (0=dark blue) and delayed (1=light blue) flights by origin."
   ]
  },
  {
   "cell_type": "code",
   "execution_count": 78,
   "metadata": {
    "collapsed": true
   },
   "outputs": [],
   "source": [
    "# Count of Departure Delays by Origin\n",
    "result_df = (train_df\n",
    "                .select([\"origin\", \"label\"])\n",
    "                .groupBy([\"origin\", \"label\"])\n",
    "                .count()\n",
    "                .orderBy([\"label\"]))"
   ]
  },
  {
   "cell_type": "code",
   "execution_count": 79,
   "metadata": {},
   "outputs": [
    {
     "name": "stdout",
     "output_type": "stream",
     "text": [
      "+------+-----+-----+\n",
      "|origin|label|count|\n",
      "+------+-----+-----+\n",
      "|   LGA|  0.0| 4550|\n",
      "|   MIA|  0.0| 3991|\n",
      "|   IAH|  0.0| 3218|\n",
      "|   BOS|  0.0| 3388|\n",
      "|   ORD|  0.0| 5607|\n",
      "|   DEN|  0.0| 3773|\n",
      "|   EWR|  0.0| 3693|\n",
      "|   ATL|  0.0| 5322|\n",
      "|   SFO|  0.0| 3248|\n",
      "|   LGA|  1.0|  442|\n",
      "|   MIA|  1.0|  434|\n",
      "|   IAH|  1.0|  455|\n",
      "|   BOS|  1.0|  306|\n",
      "|   ORD|  1.0|  693|\n",
      "|   SFO|  1.0|  557|\n",
      "|   EWR|  1.0|  526|\n",
      "|   ATL|  1.0|  649|\n",
      "|   DEN|  1.0|  496|\n",
      "+------+-----+-----+\n",
      "\n"
     ]
    }
   ],
   "source": [
    "result_df.show()"
   ]
  },
  {
   "cell_type": "markdown",
   "metadata": {},
   "source": [
    "**Leverage Panda's pivot method to do a stacke dbar plot**"
   ]
  },
  {
   "cell_type": "code",
   "execution_count": 80,
   "metadata": {},
   "outputs": [
    {
     "data": {
      "text/html": [
       "<div>\n",
       "<style scoped>\n",
       "    .dataframe tbody tr th:only-of-type {\n",
       "        vertical-align: middle;\n",
       "    }\n",
       "\n",
       "    .dataframe tbody tr th {\n",
       "        vertical-align: top;\n",
       "    }\n",
       "\n",
       "    .dataframe thead th {\n",
       "        text-align: right;\n",
       "    }\n",
       "</style>\n",
       "<table border=\"1\" class=\"dataframe\">\n",
       "  <thead>\n",
       "    <tr style=\"text-align: right;\">\n",
       "      <th></th>\n",
       "      <th>origin</th>\n",
       "      <th>label</th>\n",
       "      <th>count</th>\n",
       "    </tr>\n",
       "  </thead>\n",
       "  <tbody>\n",
       "    <tr>\n",
       "      <th>0</th>\n",
       "      <td>DEN</td>\n",
       "      <td>0.0</td>\n",
       "      <td>3773</td>\n",
       "    </tr>\n",
       "    <tr>\n",
       "      <th>1</th>\n",
       "      <td>BOS</td>\n",
       "      <td>0.0</td>\n",
       "      <td>3388</td>\n",
       "    </tr>\n",
       "    <tr>\n",
       "      <th>2</th>\n",
       "      <td>LGA</td>\n",
       "      <td>0.0</td>\n",
       "      <td>4550</td>\n",
       "    </tr>\n",
       "    <tr>\n",
       "      <th>3</th>\n",
       "      <td>EWR</td>\n",
       "      <td>0.0</td>\n",
       "      <td>3693</td>\n",
       "    </tr>\n",
       "    <tr>\n",
       "      <th>4</th>\n",
       "      <td>MIA</td>\n",
       "      <td>0.0</td>\n",
       "      <td>3991</td>\n",
       "    </tr>\n",
       "    <tr>\n",
       "      <th>5</th>\n",
       "      <td>IAH</td>\n",
       "      <td>0.0</td>\n",
       "      <td>3218</td>\n",
       "    </tr>\n",
       "    <tr>\n",
       "      <th>6</th>\n",
       "      <td>ORD</td>\n",
       "      <td>0.0</td>\n",
       "      <td>5607</td>\n",
       "    </tr>\n",
       "    <tr>\n",
       "      <th>7</th>\n",
       "      <td>ATL</td>\n",
       "      <td>0.0</td>\n",
       "      <td>5322</td>\n",
       "    </tr>\n",
       "    <tr>\n",
       "      <th>8</th>\n",
       "      <td>SFO</td>\n",
       "      <td>0.0</td>\n",
       "      <td>3248</td>\n",
       "    </tr>\n",
       "    <tr>\n",
       "      <th>9</th>\n",
       "      <td>LGA</td>\n",
       "      <td>1.0</td>\n",
       "      <td>442</td>\n",
       "    </tr>\n",
       "    <tr>\n",
       "      <th>10</th>\n",
       "      <td>MIA</td>\n",
       "      <td>1.0</td>\n",
       "      <td>434</td>\n",
       "    </tr>\n",
       "    <tr>\n",
       "      <th>11</th>\n",
       "      <td>IAH</td>\n",
       "      <td>1.0</td>\n",
       "      <td>455</td>\n",
       "    </tr>\n",
       "    <tr>\n",
       "      <th>12</th>\n",
       "      <td>EWR</td>\n",
       "      <td>1.0</td>\n",
       "      <td>526</td>\n",
       "    </tr>\n",
       "    <tr>\n",
       "      <th>13</th>\n",
       "      <td>ORD</td>\n",
       "      <td>1.0</td>\n",
       "      <td>693</td>\n",
       "    </tr>\n",
       "    <tr>\n",
       "      <th>14</th>\n",
       "      <td>SFO</td>\n",
       "      <td>1.0</td>\n",
       "      <td>557</td>\n",
       "    </tr>\n",
       "    <tr>\n",
       "      <th>15</th>\n",
       "      <td>ATL</td>\n",
       "      <td>1.0</td>\n",
       "      <td>649</td>\n",
       "    </tr>\n",
       "    <tr>\n",
       "      <th>16</th>\n",
       "      <td>DEN</td>\n",
       "      <td>1.0</td>\n",
       "      <td>496</td>\n",
       "    </tr>\n",
       "    <tr>\n",
       "      <th>17</th>\n",
       "      <td>BOS</td>\n",
       "      <td>1.0</td>\n",
       "      <td>306</td>\n",
       "    </tr>\n",
       "  </tbody>\n",
       "</table>\n",
       "</div>"
      ],
      "text/plain": [
       "   origin  label  count\n",
       "0     DEN    0.0   3773\n",
       "1     BOS    0.0   3388\n",
       "2     LGA    0.0   4550\n",
       "3     EWR    0.0   3693\n",
       "4     MIA    0.0   3991\n",
       "5     IAH    0.0   3218\n",
       "6     ORD    0.0   5607\n",
       "7     ATL    0.0   5322\n",
       "8     SFO    0.0   3248\n",
       "9     LGA    1.0    442\n",
       "10    MIA    1.0    434\n",
       "11    IAH    1.0    455\n",
       "12    EWR    1.0    526\n",
       "13    ORD    1.0    693\n",
       "14    SFO    1.0    557\n",
       "15    ATL    1.0    649\n",
       "16    DEN    1.0    496\n",
       "17    BOS    1.0    306"
      ]
     },
     "execution_count": 80,
     "metadata": {},
     "output_type": "execute_result"
    }
   ],
   "source": [
    "pdf = result_df.toPandas()\n",
    "pdf"
   ]
  },
  {
   "cell_type": "markdown",
   "metadata": {},
   "source": [
    "**the table needs to be pivoted to create the bar plot**"
   ]
  },
  {
   "cell_type": "code",
   "execution_count": 82,
   "metadata": {},
   "outputs": [
    {
     "data": {
      "text/html": [
       "<div>\n",
       "<style scoped>\n",
       "    .dataframe tbody tr th:only-of-type {\n",
       "        vertical-align: middle;\n",
       "    }\n",
       "\n",
       "    .dataframe tbody tr th {\n",
       "        vertical-align: top;\n",
       "    }\n",
       "\n",
       "    .dataframe thead th {\n",
       "        text-align: right;\n",
       "    }\n",
       "</style>\n",
       "<table border=\"1\" class=\"dataframe\">\n",
       "  <thead>\n",
       "    <tr style=\"text-align: right;\">\n",
       "      <th>label</th>\n",
       "      <th>0.0</th>\n",
       "      <th>1.0</th>\n",
       "    </tr>\n",
       "    <tr>\n",
       "      <th>origin</th>\n",
       "      <th></th>\n",
       "      <th></th>\n",
       "    </tr>\n",
       "  </thead>\n",
       "  <tbody>\n",
       "    <tr>\n",
       "      <th>ATL</th>\n",
       "      <td>5322</td>\n",
       "      <td>649</td>\n",
       "    </tr>\n",
       "    <tr>\n",
       "      <th>BOS</th>\n",
       "      <td>3388</td>\n",
       "      <td>306</td>\n",
       "    </tr>\n",
       "    <tr>\n",
       "      <th>DEN</th>\n",
       "      <td>3773</td>\n",
       "      <td>496</td>\n",
       "    </tr>\n",
       "    <tr>\n",
       "      <th>EWR</th>\n",
       "      <td>3693</td>\n",
       "      <td>526</td>\n",
       "    </tr>\n",
       "    <tr>\n",
       "      <th>IAH</th>\n",
       "      <td>3218</td>\n",
       "      <td>455</td>\n",
       "    </tr>\n",
       "    <tr>\n",
       "      <th>LGA</th>\n",
       "      <td>4550</td>\n",
       "      <td>442</td>\n",
       "    </tr>\n",
       "    <tr>\n",
       "      <th>MIA</th>\n",
       "      <td>3991</td>\n",
       "      <td>434</td>\n",
       "    </tr>\n",
       "    <tr>\n",
       "      <th>ORD</th>\n",
       "      <td>5607</td>\n",
       "      <td>693</td>\n",
       "    </tr>\n",
       "    <tr>\n",
       "      <th>SFO</th>\n",
       "      <td>3248</td>\n",
       "      <td>557</td>\n",
       "    </tr>\n",
       "  </tbody>\n",
       "</table>\n",
       "</div>"
      ],
      "text/plain": [
       "label    0.0  1.0\n",
       "origin           \n",
       "ATL     5322  649\n",
       "BOS     3388  306\n",
       "DEN     3773  496\n",
       "EWR     3693  526\n",
       "IAH     3218  455\n",
       "LGA     4550  442\n",
       "MIA     3991  434\n",
       "ORD     5607  693\n",
       "SFO     3248  557"
      ]
     },
     "execution_count": 82,
     "metadata": {},
     "output_type": "execute_result"
    }
   ],
   "source": [
    "pdf = pdf.pivot(index='origin', columns='label', values='count').sort_index()\n",
    "pdf"
   ]
  },
  {
   "cell_type": "code",
   "execution_count": 83,
   "metadata": {},
   "outputs": [
    {
     "data": {
      "image/png": "[encoded data removed]",
      "text/plain": [
       "<matplotlib.figure.Figure at 0x11baa7630>"
      ]
     },
     "metadata": {},
     "output_type": "display_data"
    }
   ],
   "source": [
    "pdf.plot.bar(stacked=True, figsize=(10, 4));"
   ]
  },
  {
   "cell_type": "markdown",
   "metadata": {},
   "source": [
    "**can we do the same pivot using Spark?**"
   ]
  },
  {
   "cell_type": "code",
   "execution_count": 84,
   "metadata": {},
   "outputs": [
    {
     "name": "stdout",
     "output_type": "stream",
     "text": [
      "+------+----+---+\n",
      "|origin| 0.0|1.0|\n",
      "+------+----+---+\n",
      "|   ATL|5322|649|\n",
      "|   BOS|3388|306|\n",
      "|   DEN|3773|496|\n",
      "|   EWR|3693|526|\n",
      "|   IAH|3218|455|\n",
      "|   LGA|4550|442|\n",
      "|   MIA|3991|434|\n",
      "|   ORD|5607|693|\n",
      "|   SFO|3248|557|\n",
      "+------+----+---+\n",
      "\n"
     ]
    }
   ],
   "source": [
    "# careful! we are using train_df and not result_df\n",
    "train_df.select([\"origin\", \"label\"]).groupBy([\"origin\"]).pivot('label').count().orderBy('origin').show()"
   ]
  },
  {
   "cell_type": "markdown",
   "metadata": {},
   "source": [
    "Voila! The same result as above from pandas dataframe pivot method"
   ]
  },
  {
   "cell_type": "code",
   "execution_count": 85,
   "metadata": {},
   "outputs": [
    {
     "data": {
      "image/png": "[encoded data removed]",
      "text/plain": [
       "<matplotlib.figure.Figure at 0x11bd15940>"
      ]
     },
     "metadata": {},
     "output_type": "display_data"
    }
   ],
   "source": [
    "train_df.select([\"origin\", \"label\"]).groupBy([\"origin\"]).pivot('label').count().orderBy('origin').toPandas().plot.bar(stacked=True, figsize=(10, 4));"
   ]
  },
  {
   "cell_type": "code",
   "execution_count": 86,
   "metadata": {
    "collapsed": true
   },
   "outputs": [],
   "source": [
    "spark.stop()"
   ]
  },
  {
   "cell_type": "code",
   "execution_count": null,
   "metadata": {
    "collapsed": true
   },
   "outputs": [],
   "source": []
  }
 ],
 "metadata": {
  "kernelspec": {
   "display_name": "Python 3",
   "language": "python",
   "name": "python3"
  },
  "language_info": {
   "codemirror_mode": {
    "name": "ipython",
    "version": 3
   },
   "file_extension": ".py",
   "mimetype": "text/x-python",
   "name": "python",
   "nbconvert_exporter": "python",
   "pygments_lexer": "ipython3",
   "version": "3.5.5"
  },
  "toc": {
   "colors": {
    "hover_highlight": "#DAA520",
    "navigate_num": "#000000",
    "navigate_text": "#333333",
    "running_highlight": "#FF0000",
    "selected_highlight": "#FFD700",
    "sidebar_border": "#EEEEEE",
    "wrapper_background": "#FFFFFF"
   },
   "moveMenuLeft": true,
   "nav_menu": {
    "height": "135px",
    "width": "252px"
   },
   "navigate_menu": true,
   "number_sections": true,
   "sideBar": true,
   "threshold": 4,
   "toc_cell": false,
   "toc_section_display": "block",
   "toc_window_display": false,
   "widenNotebook": false
  }
 },
 "nbformat": 4,
 "nbformat_minor": 2
}
